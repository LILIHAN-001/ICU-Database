{
 "cells": [
  {
   "cell_type": "markdown",
   "id": "02f58e3c",
   "metadata": {},
   "source": [
    "# readMe"
   ]
  },
  {
   "cell_type": "markdown",
   "id": "0dcdb64b",
   "metadata": {},
   "source": [
    "multi_core_sepsis3_shock_mimiciv_v2.py\n",
    "定义：脓毒性休克指 脓毒症患者 尽管充分的液体复苏仍存在持续的低血压,需要用升压药维持平均动脉压在 65 mmHg 以上,血乳酸在 2 mmol / L 以上,符合这一标准临床病死率超过 40% 。              \n",
    "注意： 基于患者已经是脓毒症的情况下\n",
    "\n",
    "\n",
    "输入数据为 1_get_MIMIC_IV_septic_shock_defined_variable 生成的数据 pickle_mimic_iv_derived_table_v3.1.pkl                \n",
    "输出数据为 pickle_mimiciv_septic_shock_v4.1.pkl\n",
    "\n",
    "\n",
    "\n",
    "\n",
    "定义：脓毒性休克指 脓毒症患者 尽管充分的液体复苏仍存在持续的低血压,需要用升压药维持平均动脉压在 65 mmHg 以上,血乳酸在 2 mmol / L 以上,符合这一标准临床病死率超过 40% 。                 \n",
    "注意： 基于患者已经是脓毒症的情况下                    \n",
    "液体复苏：vaso前3h 至少1000ml , 去除输液只有1分钟的数据                \n",
    "mbp: vaso前 一个值 小于等于 65                \n",
    "lactat: vaso后第一个值 大于等于 2.0           "
   ]
  },
  {
   "cell_type": "code",
   "execution_count": 5,
   "id": "1b08422c",
   "metadata": {
    "ExecuteTime": {
     "end_time": "2021-09-06T07:34:30.036536Z",
     "start_time": "2021-09-06T07:34:30.018533Z"
    }
   },
   "outputs": [],
   "source": [
    "import os\n",
    "import pandas as pd\n",
    "import time\n",
    "import datetime as dt\n",
    "import nbimporter\n",
    "\n",
    "import my_save_load_v2\n"
   ]
  },
  {
   "cell_type": "code",
   "execution_count": 6,
   "id": "3c9be0dd",
   "metadata": {
    "ExecuteTime": {
     "end_time": "2021-09-06T07:34:44.445461Z",
     "start_time": "2021-09-06T07:34:44.428458Z"
    },
    "code_folding": [
     6,
     29,
     46,
     61
    ]
   },
   "outputs": [],
   "source": [
    "def splite_data(sepsis3_tem,step=100):\n",
    "    data = [sepsis3_tem.iloc[i:i+step,:] for i in range(0,sepsis3_tem.shape[0],step) ]\n",
    "    return data\n",
    "\n",
    "\n",
    "## 获取 vaso 前3h 输液量，未去除输液只有1分钟的数据\n",
    "def fluid_3h_pre_vaso(sub_tem_sepsis3,tem_vasoactive_vasopressor,tem_fluids_bolus):\n",
    "    \n",
    "    sub_tem_vaso = pd.merge(sub_tem_sepsis3, tem_vasoactive_vasopressor, on='stay_id', how='inner')\n",
    "    sub_tem_vaso = sub_tem_vaso.loc[sub_tem_vaso.vaso_starttime >= sub_tem_vaso.sofa_time, :]\n",
    "    sub_tem_vaso.loc[:, 'vaso_3h_pre'] = sub_tem_vaso.vaso_starttime - dt.timedelta(hours=3)\n",
    "\n",
    "    sub_tem_vaso_fluid = pd.merge(sub_tem_vaso, tem_fluids_bolus, on=['stay_id'], how='inner')\n",
    "\n",
    "    #去除输液只有1分钟的数据\n",
    "    #sub_tem_vaso_fluid = sub_tem_vaso_fluid.loc[(sub_tem_vaso_fluid.loc[:, 'fluid_endtime'] - sub_tem_vaso_fluid.loc[:, 'fluid_starttime']) > dt.timedelta(minutes=1),:]\n",
    "\n",
    "    tem = (sub_tem_vaso_fluid.loc[:, ['vaso_starttime', 'fluid_endtime']].min(axis=1) - sub_tem_vaso_fluid.loc[:, ['vaso_3h_pre','fluid_starttime']].max(axis=1))\n",
    "    tem = tem / (sub_tem_vaso_fluid.loc[:, 'fluid_endtime'] - sub_tem_vaso_fluid.loc[:, 'fluid_starttime'])\n",
    "\n",
    "    tem_fluids_bolus_3h = tem.clip(0, tem) * sub_tem_vaso_fluid.loc[:, 'colloid_bolus']\n",
    "    sub_tem_vaso_fluid.loc[:, 'fluids_bolus_3h'] = tem_fluids_bolus_3h\n",
    "    sub_tem_vaso_fluid.drop(['fluid_starttime', 'fluid_endtime', 'colloid_bolus'], axis=1, inplace=True)\n",
    "    sub_tem_vaso_fluid = sub_tem_vaso_fluid.groupby(\n",
    "        ['stay_id', 'sofa_time', 'vaso_starttime', 'vaso_endtime', 'vaso_3h_pre'], as_index=False).agg(sum)\n",
    "    return sub_tem_vaso_fluid\n",
    "\n",
    "\n",
    "# 获取 vaso 前 第一个 mbp值\n",
    "def fluid_3h_pre_vaso_mbp(sub_tem_vaso_fluid,tem_mbp):\n",
    "    # 获取 vaso 后 第一个 mbp值\n",
    "    sub_tem_vaso_fluid_mbp = pd.merge(sub_tem_vaso_fluid,tem_mbp,on=['stay_id'], how='inner')\n",
    "\n",
    "    #sub_tem_vaso_fluid_mbp = sub_tem_vaso_fluid_mbp.loc[sub_tem_vaso_fluid_mbp.mbp_charttime >= sub_tem_vaso_fluid_mbp.vaso_starttime,:]\n",
    "    sub_tem_vaso_fluid_mbp = sub_tem_vaso_fluid_mbp.loc[ sub_tem_vaso_fluid_mbp.mbp_charttime <= sub_tem_vaso_fluid_mbp.vaso_starttime, :]\n",
    "\n",
    "    #sub_tem_vaso_fluid_mbp = sub_tem_vaso_fluid_mbp.sort_values(by=['stay_id', 'sofa_time', 'vaso_starttime', 'vaso_endtime', 'vaso_3h_pre', 'mbp_charttime'])   #时间 按小到大 排序\n",
    "    sub_tem_vaso_fluid_mbp = sub_tem_vaso_fluid_mbp.sort_values(by=['stay_id', 'sofa_time', 'vaso_starttime', 'vaso_endtime', 'vaso_3h_pre', 'mbp_charttime'],\n",
    "                                                                ascending=[True,True,True,True,True,False])  # 时间 大到小 排序\n",
    "\n",
    "    sub_tem_vaso_fluid_mbp=sub_tem_vaso_fluid_mbp.groupby(['stay_id', 'sofa_time', 'vaso_starttime', 'vaso_endtime',\n",
    "           'vaso_3h_pre', 'fluids_bolus_3h'], as_index=False ).apply(lambda x:x.iloc[0,:])\n",
    "    return(sub_tem_vaso_fluid_mbp)\n",
    "\n",
    "\n",
    "# 获取 vaso 后 第一个 lactate 值\n",
    "def fluid_3h_pre_vaso_mbp_lactate(sub_tem_vaso_fluid_mbp,tem_lactate):\n",
    "    # 获取 vaso 后 第一个 lactate 值\n",
    "    sub_tem_vaso_fluid_mbp_lactate = pd.merge(sub_tem_vaso_fluid_mbp, tem_lactate, on=['stay_id'], how='inner')\n",
    "    sub_tem_vaso_fluid_mbp_lactate = sub_tem_vaso_fluid_mbp_lactate.loc[\n",
    "                                     sub_tem_vaso_fluid_mbp_lactate.lactate_charttime >= sub_tem_vaso_fluid_mbp_lactate.vaso_starttime,\n",
    "                                     :]\n",
    "    sub_tem_vaso_fluid_mbp_lactate = sub_tem_vaso_fluid_mbp_lactate.sort_values(\n",
    "        by=['stay_id', 'sofa_time', 'vaso_starttime', 'vaso_endtime', 'vaso_3h_pre',\n",
    "            'mbp_charttime', 'lactate_charttime'])\n",
    "    sub_tem_vaso_fluid_mbp_lactate = sub_tem_vaso_fluid_mbp_lactate.groupby(\n",
    "        ['stay_id', 'sofa_time', 'vaso_starttime', 'vaso_endtime',\n",
    "         'vaso_3h_pre', 'fluids_bolus_3h', 'mbp_charttime', 'mbp'], as_index=False).apply(lambda x: x.iloc[0, :])\n",
    "    return(sub_tem_vaso_fluid_mbp_lactate)\n",
    "\n",
    "\n",
    "def main_code(i,num,t0,tem_sepsis3_split,tem_vasoactive_vasopressor,tem_fluids_bolus,tem_mbp,tem_lactate):\n",
    "    sub_tem_sepsis3=tem_sepsis3_split[i]\n",
    "    sub_tem_vaso_fluid = fluid_3h_pre_vaso(sub_tem_sepsis3,tem_vasoactive_vasopressor,tem_fluids_bolus)\n",
    "    sub_tem_vaso_fluid = sub_tem_vaso_fluid.loc[sub_tem_vaso_fluid.fluids_bolus_3h >= 1000]\n",
    "\n",
    "    sub_tem_vaso_fluid_mbp = fluid_3h_pre_vaso_mbp(sub_tem_vaso_fluid,tem_mbp)\n",
    "    #sub_tem_vaso_fluid_mbp = sub_tem_vaso_fluid_mbp.loc[sub_tem_vaso_fluid_mbp.mbp >= 65,:]\n",
    "    sub_tem_vaso_fluid_mbp = sub_tem_vaso_fluid_mbp.loc[sub_tem_vaso_fluid_mbp.mbp <= 65,:]\n",
    "\n",
    "    sub_tem_vaso_fluid_mbp_lactate = fluid_3h_pre_vaso_mbp_lactate(sub_tem_vaso_fluid_mbp,tem_lactate)\n",
    "    sub_tem_vaso_fluid_mbp_lactate = sub_tem_vaso_fluid_mbp_lactate.loc[sub_tem_vaso_fluid_mbp_lactate.lactate >= 2,:]\n",
    "\n",
    "    shock = sub_tem_vaso_fluid_mbp_lactate.sort_values(by=['stay_id', 'sofa_time', 'vaso_starttime', 'vaso_endtime', 'vaso_3h_pre'])\n",
    "    shock = shock.groupby(['stay_id', 'sofa_time'], as_index=False).apply(lambda x:x.iloc[0,:])\n",
    "\n",
    "    print(f'complete {i} / {num} ; spend time : { time.time() - t0 :.4f} s' )\n",
    "\n",
    "    return(shock)\n",
    "\n",
    "\n"
   ]
  },
  {
   "cell_type": "markdown",
   "id": "26f764df",
   "metadata": {},
   "source": [
    "# 导入数据\n"
   ]
  },
  {
   "cell_type": "code",
   "execution_count": 7,
   "id": "e61d2d97",
   "metadata": {
    "ExecuteTime": {
     "end_time": "2021-09-06T07:35:01.169265Z",
     "start_time": "2021-09-06T07:35:00.923704Z"
    }
   },
   "outputs": [],
   "source": [
    "#path = r'I:\\MIMIC_chuli\\MIMIC_IV'\n",
    "path = r'E:\\MIMIC_chuli\\MIMIC_IV3'\n",
    "os.chdir(path)\n",
    "\n",
    "my_save_load_v2.my_load('pickle_mimic_iv_derived_table_v3.1.pkl', globals())\n"
   ]
  },
  {
   "cell_type": "markdown",
   "id": "c2bcdc8f",
   "metadata": {},
   "source": [
    "# 计算各个指标"
   ]
  },
  {
   "cell_type": "code",
   "execution_count": 8,
   "id": "5d95e06c",
   "metadata": {
    "ExecuteTime": {
     "end_time": "2021-09-06T07:40:31.732643Z",
     "start_time": "2021-09-06T07:36:26.559020Z"
    },
    "scrolled": true
   },
   "outputs": [
    {
     "name": "stdout",
     "output_type": "stream",
     "text": [
      "complete 0 / 32 ; spend time : 8.2614 s\n",
      "complete 1 / 32 ; spend time : 16.1856 s\n"
     ]
    },
    {
     "name": "stderr",
     "output_type": "stream",
     "text": [
      "C:\\Users\\LGH\\.conda\\envs\\jupy\\lib\\site-packages\\pandas\\core\\arrays\\timedeltas.py:598: RuntimeWarning: divide by zero encountered in true_divide\n",
      "  return other / self._data\n",
      "C:\\Users\\LGH\\.conda\\envs\\jupy\\lib\\site-packages\\pandas\\core\\arrays\\timedeltas.py:598: RuntimeWarning: invalid value encountered in true_divide\n",
      "  return other / self._data\n"
     ]
    },
    {
     "name": "stdout",
     "output_type": "stream",
     "text": [
      "complete 2 / 32 ; spend time : 24.3600 s\n",
      "complete 3 / 32 ; spend time : 31.2863 s\n"
     ]
    },
    {
     "name": "stderr",
     "output_type": "stream",
     "text": [
      "C:\\Users\\LGH\\.conda\\envs\\jupy\\lib\\site-packages\\pandas\\core\\arrays\\timedeltas.py:598: RuntimeWarning: divide by zero encountered in true_divide\n",
      "  return other / self._data\n",
      "C:\\Users\\LGH\\.conda\\envs\\jupy\\lib\\site-packages\\pandas\\core\\arrays\\timedeltas.py:598: RuntimeWarning: invalid value encountered in true_divide\n",
      "  return other / self._data\n"
     ]
    },
    {
     "name": "stdout",
     "output_type": "stream",
     "text": [
      "complete 4 / 32 ; spend time : 39.7807 s\n"
     ]
    },
    {
     "name": "stderr",
     "output_type": "stream",
     "text": [
      "C:\\Users\\LGH\\.conda\\envs\\jupy\\lib\\site-packages\\pandas\\core\\arrays\\timedeltas.py:598: RuntimeWarning: divide by zero encountered in true_divide\n",
      "  return other / self._data\n",
      "C:\\Users\\LGH\\.conda\\envs\\jupy\\lib\\site-packages\\pandas\\core\\arrays\\timedeltas.py:598: RuntimeWarning: invalid value encountered in true_divide\n",
      "  return other / self._data\n"
     ]
    },
    {
     "name": "stdout",
     "output_type": "stream",
     "text": [
      "complete 5 / 32 ; spend time : 47.1920 s\n",
      "complete 6 / 32 ; spend time : 53.8547 s\n",
      "complete 7 / 32 ; spend time : 62.4607 s\n",
      "complete 8 / 32 ; spend time : 69.5534 s\n",
      "complete 9 / 32 ; spend time : 76.2525 s\n",
      "complete 10 / 32 ; spend time : 83.7183 s\n",
      "complete 11 / 32 ; spend time : 91.7777 s\n",
      "complete 12 / 32 ; spend time : 99.2425 s\n",
      "complete 13 / 32 ; spend time : 106.5123 s\n",
      "complete 14 / 32 ; spend time : 114.2546 s\n",
      "complete 15 / 32 ; spend time : 121.1301 s\n",
      "complete 16 / 32 ; spend time : 128.1179 s\n",
      "complete 17 / 32 ; spend time : 135.5081 s\n",
      "complete 18 / 32 ; spend time : 141.4417 s\n",
      "complete 19 / 32 ; spend time : 149.4596 s\n",
      "complete 20 / 32 ; spend time : 157.6185 s\n",
      "complete 21 / 32 ; spend time : 165.8859 s\n",
      "complete 22 / 32 ; spend time : 175.1140 s\n",
      "complete 23 / 32 ; spend time : 184.0766 s\n",
      "complete 24 / 32 ; spend time : 191.3482 s\n",
      "complete 25 / 32 ; spend time : 201.0114 s\n",
      "complete 26 / 32 ; spend time : 207.9911 s\n",
      "complete 27 / 32 ; spend time : 216.4961 s\n",
      "complete 28 / 32 ; spend time : 224.3395 s\n"
     ]
    },
    {
     "name": "stderr",
     "output_type": "stream",
     "text": [
      "C:\\Users\\LGH\\.conda\\envs\\jupy\\lib\\site-packages\\pandas\\core\\arrays\\timedeltas.py:598: RuntimeWarning: divide by zero encountered in true_divide\n",
      "  return other / self._data\n",
      "C:\\Users\\LGH\\.conda\\envs\\jupy\\lib\\site-packages\\pandas\\core\\arrays\\timedeltas.py:598: RuntimeWarning: invalid value encountered in true_divide\n",
      "  return other / self._data\n"
     ]
    },
    {
     "name": "stdout",
     "output_type": "stream",
     "text": [
      "complete 29 / 32 ; spend time : 232.1923 s\n",
      "complete 30 / 32 ; spend time : 241.0388 s\n",
      "complete 31 / 32 ; spend time : 245.0086 s\n"
     ]
    }
   ],
   "source": [
    "sepsis3 = sepsis3_original.copy()\n",
    "sepsis3 = sepsis3.sort_values(by='stay_id')\n",
    "tem_sepsis3 = sepsis3.loc[:,['stay_id','sofa_time']]\n",
    "\n",
    "tem_vasoactive_vasopressor = vasoactive_vasopressor.loc[:,['stay_id','starttime','endtime']]\n",
    "tem_vasoactive_vasopressor.columns = ['stay_id','vaso_starttime','vaso_endtime']\n",
    "\n",
    "tem_fluids_bolus = fluids_bolus.loc[:,['stay_id','starttime','endtime','colloid_bolus']]\n",
    "tem_fluids_bolus.columns = ['stay_id','fluid_starttime','fluid_endtime','colloid_bolus']\n",
    "\n",
    "tem_mbp=shock_define_mbp.copy()\n",
    "tem_mbp.drop(columns='subject_id',inplace=True)\n",
    "tem_mbp.columns = ['stay_id', 'mbp_charttime', 'mbp']\n",
    "\n",
    "'''\n",
    "shock_define_lactate2 = pd.merge(icustays.loc[:,['subject_id','stay_id','intime', 'outtime']],\n",
    "                                 shock_define_lactate.loc[:,['subject_id', 'charttime', 'lactate']],\n",
    "                                 on=['subject_id'],how='inner')\n",
    "shock_define_lactate2 = shock_define_lactate2.loc[(shock_define_lactate2.charttime >= shock_define_lactate2.intime) & (shock_define_lactate2.charttime <= shock_define_lactate2.outtime),:]\n",
    "shock_define_lactate2 = shock_define_lactate2.loc[:,['subject_id', 'stay_id', 'charttime', 'lactate']]\n",
    "'''\n",
    "\n",
    "tem_lactate = shock_define_lactate2.copy()\n",
    "tem_lactate.drop(columns='subject_id',inplace=True)\n",
    "tem_lactate.columns = ['stay_id', 'lactate_charttime', 'lactate']\n",
    "\n",
    "\n",
    "tem_sepsis3_split = splite_data(tem_sepsis3,step=1000)\n",
    "\n",
    "num = tem_sepsis3_split.__len__()\n",
    "t0=time.time()\n",
    "\n",
    "septic_shock = pd.DataFrame()\n",
    "\n",
    "for i in range(num):\n",
    "    shock = main_code(i,num,t0,tem_sepsis3_split,tem_vasoactive_vasopressor,tem_fluids_bolus,tem_mbp,tem_lactate)\n",
    "    septic_shock = pd.concat([septic_shock,shock],axis=0)\n",
    "\n",
    "\n",
    "septic_shock = septic_shock.loc[:,['stay_id','fluids_bolus_3h','vaso_starttime','mbp','lactate']]\n",
    "septic_shock.columns =  ['stay_id', 'fluid_amound_vaso_3Hour_ago', 'fluid_amound_vaso_time', 'MBP', 'Lactate']"
   ]
  },
  {
   "cell_type": "code",
   "execution_count": 12,
   "id": "c02598a3",
   "metadata": {
    "ExecuteTime": {
     "end_time": "2021-09-06T07:42:02.475583Z",
     "start_time": "2021-09-06T07:42:02.459080Z"
    },
    "scrolled": true
   },
   "outputs": [
    {
     "data": {
      "text/html": [
       "<div>\n",
       "<style scoped>\n",
       "    .dataframe tbody tr th:only-of-type {\n",
       "        vertical-align: middle;\n",
       "    }\n",
       "\n",
       "    .dataframe tbody tr th {\n",
       "        vertical-align: top;\n",
       "    }\n",
       "\n",
       "    .dataframe thead th {\n",
       "        text-align: right;\n",
       "    }\n",
       "</style>\n",
       "<table border=\"1\" class=\"dataframe\">\n",
       "  <thead>\n",
       "    <tr style=\"text-align: right;\">\n",
       "      <th></th>\n",
       "      <th>stay_id</th>\n",
       "      <th>fluid_amound_vaso_3Hour_ago</th>\n",
       "      <th>fluid_amound_vaso_time</th>\n",
       "      <th>MBP</th>\n",
       "      <th>Lactate</th>\n",
       "    </tr>\n",
       "  </thead>\n",
       "  <tbody>\n",
       "    <tr>\n",
       "      <th>0</th>\n",
       "      <td>30003598</td>\n",
       "      <td>1097.188456</td>\n",
       "      <td>2189-04-15 20:03:00</td>\n",
       "      <td>64.0</td>\n",
       "      <td>2.2</td>\n",
       "    </tr>\n",
       "    <tr>\n",
       "      <th>1</th>\n",
       "      <td>30003749</td>\n",
       "      <td>1324.030290</td>\n",
       "      <td>2120-11-05 17:15:00</td>\n",
       "      <td>59.0</td>\n",
       "      <td>12.8</td>\n",
       "    </tr>\n",
       "    <tr>\n",
       "      <th>2</th>\n",
       "      <td>30005707</td>\n",
       "      <td>1123.958894</td>\n",
       "      <td>2144-01-07 01:15:00</td>\n",
       "      <td>63.0</td>\n",
       "      <td>2.9</td>\n",
       "    </tr>\n",
       "    <tr>\n",
       "      <th>3</th>\n",
       "      <td>30009123</td>\n",
       "      <td>1166.868242</td>\n",
       "      <td>2188-04-28 14:30:00</td>\n",
       "      <td>65.0</td>\n",
       "      <td>2.3</td>\n",
       "    </tr>\n",
       "    <tr>\n",
       "      <th>4</th>\n",
       "      <td>30009505</td>\n",
       "      <td>1256.159954</td>\n",
       "      <td>2155-07-05 18:08:00</td>\n",
       "      <td>65.0</td>\n",
       "      <td>5.7</td>\n",
       "    </tr>\n",
       "    <tr>\n",
       "      <th>5</th>\n",
       "      <td>30009597</td>\n",
       "      <td>1460.461538</td>\n",
       "      <td>2175-10-04 01:33:00</td>\n",
       "      <td>64.0</td>\n",
       "      <td>6.4</td>\n",
       "    </tr>\n",
       "    <tr>\n",
       "      <th>6</th>\n",
       "      <td>30014019</td>\n",
       "      <td>1356.907239</td>\n",
       "      <td>2119-07-13 13:48:00</td>\n",
       "      <td>60.0</td>\n",
       "      <td>9.9</td>\n",
       "    </tr>\n",
       "    <tr>\n",
       "      <th>7</th>\n",
       "      <td>30020307</td>\n",
       "      <td>4312.440801</td>\n",
       "      <td>2131-08-30 00:00:00</td>\n",
       "      <td>54.0</td>\n",
       "      <td>2.2</td>\n",
       "    </tr>\n",
       "    <tr>\n",
       "      <th>8</th>\n",
       "      <td>30022281</td>\n",
       "      <td>5180.000000</td>\n",
       "      <td>2123-04-04 20:00:00</td>\n",
       "      <td>61.0</td>\n",
       "      <td>2.1</td>\n",
       "    </tr>\n",
       "    <tr>\n",
       "      <th>9</th>\n",
       "      <td>30025720</td>\n",
       "      <td>2236.337897</td>\n",
       "      <td>2164-09-25 12:26:00</td>\n",
       "      <td>54.0</td>\n",
       "      <td>2.5</td>\n",
       "    </tr>\n",
       "    <tr>\n",
       "      <th>10</th>\n",
       "      <td>30026046</td>\n",
       "      <td>1701.655999</td>\n",
       "      <td>2178-03-24 10:27:00</td>\n",
       "      <td>57.0</td>\n",
       "      <td>2.9</td>\n",
       "    </tr>\n",
       "    <tr>\n",
       "      <th>11</th>\n",
       "      <td>30027612</td>\n",
       "      <td>1004.090763</td>\n",
       "      <td>2147-11-06 07:41:00</td>\n",
       "      <td>65.0</td>\n",
       "      <td>3.1</td>\n",
       "    </tr>\n",
       "    <tr>\n",
       "      <th>12</th>\n",
       "      <td>30028516</td>\n",
       "      <td>2156.314908</td>\n",
       "      <td>2175-08-27 07:22:00</td>\n",
       "      <td>65.0</td>\n",
       "      <td>2.9</td>\n",
       "    </tr>\n",
       "    <tr>\n",
       "      <th>13</th>\n",
       "      <td>30031418</td>\n",
       "      <td>1095.516797</td>\n",
       "      <td>2156-03-05 21:00:00</td>\n",
       "      <td>62.0</td>\n",
       "      <td>2.2</td>\n",
       "    </tr>\n",
       "    <tr>\n",
       "      <th>14</th>\n",
       "      <td>30031755</td>\n",
       "      <td>1432.141187</td>\n",
       "      <td>2124-04-23 07:28:00</td>\n",
       "      <td>55.0</td>\n",
       "      <td>4.6</td>\n",
       "    </tr>\n",
       "    <tr>\n",
       "      <th>15</th>\n",
       "      <td>30033143</td>\n",
       "      <td>1137.986570</td>\n",
       "      <td>2169-10-06 04:10:00</td>\n",
       "      <td>61.0</td>\n",
       "      <td>7.4</td>\n",
       "    </tr>\n",
       "    <tr>\n",
       "      <th>16</th>\n",
       "      <td>30034749</td>\n",
       "      <td>2067.706419</td>\n",
       "      <td>2191-05-07 14:03:00</td>\n",
       "      <td>59.0</td>\n",
       "      <td>2.2</td>\n",
       "    </tr>\n",
       "    <tr>\n",
       "      <th>17</th>\n",
       "      <td>30036930</td>\n",
       "      <td>1104.227853</td>\n",
       "      <td>2171-05-03 08:32:00</td>\n",
       "      <td>65.0</td>\n",
       "      <td>2.0</td>\n",
       "    </tr>\n",
       "    <tr>\n",
       "      <th>18</th>\n",
       "      <td>30042596</td>\n",
       "      <td>1344.252357</td>\n",
       "      <td>2135-02-25 23:29:00</td>\n",
       "      <td>63.0</td>\n",
       "      <td>3.9</td>\n",
       "    </tr>\n",
       "    <tr>\n",
       "      <th>19</th>\n",
       "      <td>30043145</td>\n",
       "      <td>1177.222952</td>\n",
       "      <td>2196-10-24 02:05:00</td>\n",
       "      <td>46.0</td>\n",
       "      <td>3.2</td>\n",
       "    </tr>\n",
       "  </tbody>\n",
       "</table>\n",
       "</div>"
      ],
      "text/plain": [
       "     stay_id  fluid_amound_vaso_3Hour_ago fluid_amound_vaso_time   MBP  \\\n",
       "0   30003598                  1097.188456    2189-04-15 20:03:00  64.0   \n",
       "1   30003749                  1324.030290    2120-11-05 17:15:00  59.0   \n",
       "2   30005707                  1123.958894    2144-01-07 01:15:00  63.0   \n",
       "3   30009123                  1166.868242    2188-04-28 14:30:00  65.0   \n",
       "4   30009505                  1256.159954    2155-07-05 18:08:00  65.0   \n",
       "5   30009597                  1460.461538    2175-10-04 01:33:00  64.0   \n",
       "6   30014019                  1356.907239    2119-07-13 13:48:00  60.0   \n",
       "7   30020307                  4312.440801    2131-08-30 00:00:00  54.0   \n",
       "8   30022281                  5180.000000    2123-04-04 20:00:00  61.0   \n",
       "9   30025720                  2236.337897    2164-09-25 12:26:00  54.0   \n",
       "10  30026046                  1701.655999    2178-03-24 10:27:00  57.0   \n",
       "11  30027612                  1004.090763    2147-11-06 07:41:00  65.0   \n",
       "12  30028516                  2156.314908    2175-08-27 07:22:00  65.0   \n",
       "13  30031418                  1095.516797    2156-03-05 21:00:00  62.0   \n",
       "14  30031755                  1432.141187    2124-04-23 07:28:00  55.0   \n",
       "15  30033143                  1137.986570    2169-10-06 04:10:00  61.0   \n",
       "16  30034749                  2067.706419    2191-05-07 14:03:00  59.0   \n",
       "17  30036930                  1104.227853    2171-05-03 08:32:00  65.0   \n",
       "18  30042596                  1344.252357    2135-02-25 23:29:00  63.0   \n",
       "19  30043145                  1177.222952    2196-10-24 02:05:00  46.0   \n",
       "\n",
       "    Lactate  \n",
       "0       2.2  \n",
       "1      12.8  \n",
       "2       2.9  \n",
       "3       2.3  \n",
       "4       5.7  \n",
       "5       6.4  \n",
       "6       9.9  \n",
       "7       2.2  \n",
       "8       2.1  \n",
       "9       2.5  \n",
       "10      2.9  \n",
       "11      3.1  \n",
       "12      2.9  \n",
       "13      2.2  \n",
       "14      4.6  \n",
       "15      7.4  \n",
       "16      2.2  \n",
       "17      2.0  \n",
       "18      3.9  \n",
       "19      3.2  "
      ]
     },
     "execution_count": 12,
     "metadata": {},
     "output_type": "execute_result"
    }
   ],
   "source": [
    "septic_shock.iloc[:20,:]"
   ]
  },
  {
   "cell_type": "markdown",
   "id": "bb04570e",
   "metadata": {},
   "source": [
    "# 保存数据"
   ]
  },
  {
   "cell_type": "code",
   "execution_count": 13,
   "id": "a8b1f823",
   "metadata": {
    "ExecuteTime": {
     "end_time": "2021-09-06T07:42:28.820947Z",
     "start_time": "2021-09-06T07:42:28.165714Z"
    }
   },
   "outputs": [],
   "source": [
    "###### save\n",
    "readMe_shock_defined= \"\"\"\n",
    "定义：脓毒性休克指 脓毒症患者 尽管充分的液体复苏仍存在持续的低血压,需要用升压药维持平均动脉压在 65 mmHg 以上,血乳酸在 2 mmol / L 以上,符合这一标准临床病死率超过 40% 。\n",
    "注意： 基于患者已经是脓毒症的情况下\n",
    "液体复苏：vaso前3h 至少1000ml , 去除输液只有1分钟的数据\n",
    "mbp: vaso 前第一个值 小于等于 65\n",
    "lactat: vaso后第一个值 大于等于 2.0\n",
    "\"\"\"\n",
    "\n",
    "out_name = 'pickle_mimiciv_septic_shock_v4.1.pkl' # 保留1分钟，MBP 取 vasso前一个 小于65\n",
    "\n",
    "\n",
    "l = ['readMe_shock_defined','septic_shock', 'age', 'fluids_bolus', 'fluids_colloid_bolus', 'fluids_crystalloid_bolus', 'icustays',\n",
    "     'sepsis3_original', 'shock_define_lactate', 'shock_define_mbp', 'vasoactive_vasopressor']\n",
    "my_save_load_v2.my_save(List=l, filename=out_name, Global=globals())\n",
    "\n"
   ]
  },
  {
   "cell_type": "code",
   "execution_count": null,
   "id": "3eb37b6f",
   "metadata": {},
   "outputs": [],
   "source": []
  },
  {
   "cell_type": "code",
   "execution_count": null,
   "id": "8252de53",
   "metadata": {},
   "outputs": [],
   "source": []
  },
  {
   "cell_type": "code",
   "execution_count": null,
   "id": "86e3f56e",
   "metadata": {},
   "outputs": [],
   "source": []
  },
  {
   "cell_type": "code",
   "execution_count": null,
   "id": "6eebd3f3",
   "metadata": {},
   "outputs": [],
   "source": []
  },
  {
   "cell_type": "code",
   "execution_count": null,
   "id": "462ce2f4",
   "metadata": {},
   "outputs": [],
   "source": []
  },
  {
   "cell_type": "code",
   "execution_count": null,
   "id": "af456544",
   "metadata": {},
   "outputs": [],
   "source": []
  },
  {
   "cell_type": "code",
   "execution_count": null,
   "id": "864de24c",
   "metadata": {},
   "outputs": [],
   "source": []
  },
  {
   "cell_type": "code",
   "execution_count": null,
   "id": "6ef552e6",
   "metadata": {},
   "outputs": [],
   "source": []
  },
  {
   "cell_type": "code",
   "execution_count": null,
   "id": "e72e85c4",
   "metadata": {},
   "outputs": [],
   "source": []
  },
  {
   "cell_type": "code",
   "execution_count": null,
   "id": "226856f8",
   "metadata": {},
   "outputs": [],
   "source": []
  },
  {
   "cell_type": "code",
   "execution_count": null,
   "id": "d8e6530c",
   "metadata": {},
   "outputs": [],
   "source": []
  },
  {
   "cell_type": "code",
   "execution_count": null,
   "id": "7ba77fd3",
   "metadata": {},
   "outputs": [],
   "source": []
  },
  {
   "cell_type": "code",
   "execution_count": null,
   "id": "88e9709c",
   "metadata": {},
   "outputs": [],
   "source": []
  },
  {
   "cell_type": "code",
   "execution_count": null,
   "id": "0677d9cc",
   "metadata": {},
   "outputs": [],
   "source": []
  }
 ],
 "metadata": {
  "kernelspec": {
   "display_name": "Python 3 (ipykernel)",
   "language": "python",
   "name": "python3"
  },
  "language_info": {
   "codemirror_mode": {
    "name": "ipython",
    "version": 3
   },
   "file_extension": ".py",
   "mimetype": "text/x-python",
   "name": "python",
   "nbconvert_exporter": "python",
   "pygments_lexer": "ipython3",
   "version": "3.9.5"
  },
  "toc": {
   "base_numbering": 1,
   "nav_menu": {},
   "number_sections": true,
   "sideBar": true,
   "skip_h1_title": false,
   "title_cell": "Table of Contents",
   "title_sidebar": "Contents",
   "toc_cell": false,
   "toc_position": {
    "height": "calc(100% - 180px)",
    "left": "10px",
    "top": "150px",
    "width": "170.614px"
   },
   "toc_section_display": true,
   "toc_window_display": true
  },
  "varInspector": {
   "cols": {
    "lenName": 16,
    "lenType": 16,
    "lenVar": 40
   },
   "kernels_config": {
    "python": {
     "delete_cmd_postfix": "",
     "delete_cmd_prefix": "del ",
     "library": "var_list.py",
     "varRefreshCmd": "print(var_dic_list())"
    },
    "r": {
     "delete_cmd_postfix": ") ",
     "delete_cmd_prefix": "rm(",
     "library": "var_list.r",
     "varRefreshCmd": "cat(var_dic_list()) "
    }
   },
   "oldHeight": 342.561,
   "position": {
    "height": "39.9966px",
    "left": "953.55px",
    "right": "20px",
    "top": "77.9549px",
    "width": "370.954px"
   },
   "types_to_exclude": [
    "module",
    "function",
    "builtin_function_or_method",
    "instance",
    "_Feature"
   ],
   "varInspector_section_display": "none",
   "window_display": true
  }
 },
 "nbformat": 4,
 "nbformat_minor": 5
}
