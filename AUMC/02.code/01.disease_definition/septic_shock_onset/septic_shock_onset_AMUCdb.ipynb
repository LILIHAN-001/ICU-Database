{
 "cells": [
  {
   "cell_type": "code",
   "execution_count": 1,
   "id": "51e1929d",
   "metadata": {
    "ExecuteTime": {
     "end_time": "2023-03-09T07:49:24.230821Z",
     "start_time": "2023-03-09T07:49:23.545168Z"
    },
    "run_control": {
     "marked": false
    }
   },
   "outputs": [],
   "source": [
    "from tqdm import tqdm, trange\n",
    "import time\n",
    "#import nbimporter\n",
    "import numpy as np\n",
    "import math\n",
    "import pandas as pd\n",
    "#pd.set_option('max_columns',1000)\n",
    "import os\n",
    "#import my_save_load_v2\n",
    "os.chdir(r'/public/hanl/jupyter_dir/database/AMUCdb/sepsis_episode/septic_shock_onset')\n",
    "#filename = r'pickle_mimic_iv_derived_table_v3.1.pkl'\n",
    "#my_save_load_v2.my_load(filename, globals())\n",
    "#import missingno as msno \n",
    "\n",
    "\n",
    "## 输出高清图像\n",
    "%config InlineBackend.figure_format = 'retina'\n",
    "%matplotlib inline\n",
    "## 图像显示中文的问题\n",
    "import matplotlib\n",
    "import matplotlib.pyplot as plt\n",
    "matplotlib.rcParams['axes.unicode_minus']=False\n",
    "#import seaborn as sns \n",
    "#sns.set(font= \"Kaiti\",style=\"ticks\",font_scale=1.4)"
   ]
  },
  {
   "cell_type": "code",
   "execution_count": 2,
   "id": "6300b53e",
   "metadata": {
    "ExecuteTime": {
     "end_time": "2023-03-09T07:49:24.234300Z",
     "start_time": "2023-03-09T07:49:24.232276Z"
    }
   },
   "outputs": [],
   "source": [
    "# 请跳转到最后导入数据"
   ]
  },
  {
   "cell_type": "code",
   "execution_count": 3,
   "id": "f357983c",
   "metadata": {
    "ExecuteTime": {
     "end_time": "2023-03-09T07:49:24.247888Z",
     "start_time": "2023-03-09T07:49:24.235887Z"
    }
   },
   "outputs": [],
   "source": [
    "# firs\n",
    "def splite_data(sepsis3_tem,step=100):\n",
    "    data = [sepsis3_tem.iloc[i:i+step,:] for i in range(0,sepsis3_tem.shape[0],step) ]\n",
    "    return data\n",
    "\n",
    "\n",
    "## 获取 vaso 前3h 输液量，未去除输液只有1分钟的数据\n",
    "def fluid_3h_pre_vaso(sub_tem_sepsis3, tem_vasoactive_vasopressor,tem_fluids_bolus):\n",
    "    sub_tem_vaso = pd.merge(sub_tem_sepsis3, tem_vasoactive_vasopressor, on='admissionid', how='inner')\n",
    "    sub_tem_vaso = sub_tem_vaso.loc[sub_tem_vaso.vaso_starttime >= sub_tem_vaso.sofa_time, :]\n",
    "    sub_tem_vaso.loc[:, 'vaso_3h_pre'] = sub_tem_vaso.vaso_starttime - 3*60 # mins   #dt.timedelta(hours=3)\n",
    "    sub_tem_vaso_fluid = pd.merge(sub_tem_vaso, tem_fluids_bolus, on=['admissionid'], how='inner')\n",
    "\n",
    "        #去除输液只有1分钟的数据\n",
    "    sub_tem_vaso_fluid = sub_tem_vaso_fluid.loc[(sub_tem_vaso_fluid.loc[:, 'fluid_endtime'] - sub_tem_vaso_fluid.loc[:, 'fluid_starttime']) > 1,:]\n",
    "\n",
    "    tem = (sub_tem_vaso_fluid.loc[:, ['vaso_starttime', 'fluid_endtime']].min(axis=1) - sub_tem_vaso_fluid.loc[:, ['vaso_3h_pre','fluid_starttime']].max(axis=1))\n",
    "    tem = tem / (sub_tem_vaso_fluid.loc[:, 'fluid_endtime'] - sub_tem_vaso_fluid.loc[:, 'fluid_starttime'])\n",
    "\n",
    "    tem_fluids_bolus_3h = tem.clip(0, tem) * sub_tem_vaso_fluid.loc[:, 'fluid']\n",
    "    sub_tem_vaso_fluid.loc[:, 'fluids_bolus_3h'] = tem_fluids_bolus_3h\n",
    "    sub_tem_vaso_fluid.drop(['fluid_starttime', 'fluid_endtime', 'fluid'], axis=1, inplace=True)\n",
    "    sub_tem_vaso_fluid = sub_tem_vaso_fluid.groupby(\n",
    "            ['admissionid', 'sofa_time', 'vaso_starttime', 'vaso_endtime', 'vaso_3h_pre'], as_index=False).agg(sum)\n",
    "    return sub_tem_vaso_fluid\n",
    "\n",
    "\n",
    "# 获取 vaso 前 第一个 mbp值\n",
    "def fluid_3h_pre_vaso_mbp(sub_tem_vaso_fluid,tem_mbp):\n",
    "    # 获取 vaso 后 第一个 mbp值\n",
    "    sub_tem_vaso_fluid_mbp = pd.merge(sub_tem_vaso_fluid,tem_mbp,on=['admissionid'], how='inner')\n",
    "\n",
    "    #sub_tem_vaso_fluid_mbp = sub_tem_vaso_fluid_mbp.loc[sub_tem_vaso_fluid_mbp.mbp_charttime >= sub_tem_vaso_fluid_mbp.vaso_starttime,:]\n",
    "    sub_tem_vaso_fluid_mbp = sub_tem_vaso_fluid_mbp.loc[ sub_tem_vaso_fluid_mbp.mbp_charttime <= sub_tem_vaso_fluid_mbp.vaso_starttime, :]\n",
    "\n",
    "    #sub_tem_vaso_fluid_mbp = sub_tem_vaso_fluid_mbp.sort_values(by=['stay_id', 'sofa_time', 'vaso_starttime', 'vaso_endtime', 'vaso_3h_pre', 'mbp_charttime'])   #时间 按小到大 排序\n",
    "    sub_tem_vaso_fluid_mbp = sub_tem_vaso_fluid_mbp.sort_values(by=['admissionid', 'sofa_time', 'vaso_starttime', 'vaso_endtime', 'vaso_3h_pre', 'mbp_charttime'],\n",
    "                                                                ascending=[True,True,True,True,True,False])  # 时间 大到小 排序\n",
    "\n",
    "    sub_tem_vaso_fluid_mbp=sub_tem_vaso_fluid_mbp.groupby(['admissionid', 'sofa_time', 'vaso_starttime', 'vaso_endtime',\n",
    "           'vaso_3h_pre', 'fluids_bolus_3h'], as_index=False ).apply(lambda x:x.iloc[0,:])\n",
    "    return(sub_tem_vaso_fluid_mbp)\n",
    "\n",
    "\n",
    "# 获取 vaso 后 第一个 lactate 值\n",
    "def fluid_3h_pre_vaso_mbp_lactate(sub_tem_vaso_fluid_mbp,tem_lactate):\n",
    "    # 获取 vaso 后 第一个 lactate 值\n",
    "    sub_tem_vaso_fluid_mbp_lactate = pd.merge(sub_tem_vaso_fluid_mbp, tem_lactate, on=['admissionid'], how='inner')\n",
    "    sub_tem_vaso_fluid_mbp_lactate = sub_tem_vaso_fluid_mbp_lactate.loc[\n",
    "                                     sub_tem_vaso_fluid_mbp_lactate.lactate_charttime >= sub_tem_vaso_fluid_mbp_lactate.vaso_starttime,\n",
    "                                     :]\n",
    "    sub_tem_vaso_fluid_mbp_lactate = sub_tem_vaso_fluid_mbp_lactate.sort_values(\n",
    "        by=['admissionid', 'sofa_time', 'vaso_starttime', 'vaso_endtime', 'vaso_3h_pre',\n",
    "            'mbp_charttime', 'lactate_charttime'])\n",
    "    sub_tem_vaso_fluid_mbp_lactate = sub_tem_vaso_fluid_mbp_lactate.groupby(\n",
    "        ['admissionid', 'sofa_time', 'vaso_starttime', 'vaso_endtime',\n",
    "         'vaso_3h_pre', 'fluids_bolus_3h', 'mbp_charttime', 'mbp'], as_index=False).apply(lambda x: x.iloc[0, :])\n",
    "    return(sub_tem_vaso_fluid_mbp_lactate)\n",
    "\n",
    "\n",
    "def main_code(i,num,t0,tem_sepsis3_split,tem_vasoactive_vasopressor,tem_fluids_bolus,tem_mbp,tem_lactate):\n",
    "    sub_tem_sepsis3=tem_sepsis3_split[i]\n",
    "    sub_tem_vaso_fluid = fluid_3h_pre_vaso(sub_tem_sepsis3,tem_vasoactive_vasopressor,tem_fluids_bolus)\n",
    "    sub_tem_vaso_fluid = sub_tem_vaso_fluid.loc[sub_tem_vaso_fluid.fluids_bolus_3h >= 1000]\n",
    "\n",
    "    sub_tem_vaso_fluid_mbp = fluid_3h_pre_vaso_mbp(sub_tem_vaso_fluid,tem_mbp)\n",
    "    #sub_tem_vaso_fluid_mbp = sub_tem_vaso_fluid_mbp.loc[sub_tem_vaso_fluid_mbp.mbp >= 65,:]\n",
    "    sub_tem_vaso_fluid_mbp = sub_tem_vaso_fluid_mbp.loc[sub_tem_vaso_fluid_mbp.mbp <= 65,:]\n",
    "\n",
    "    sub_tem_vaso_fluid_mbp_lactate = fluid_3h_pre_vaso_mbp_lactate(sub_tem_vaso_fluid_mbp,tem_lactate)\n",
    "    sub_tem_vaso_fluid_mbp_lactate = sub_tem_vaso_fluid_mbp_lactate.loc[sub_tem_vaso_fluid_mbp_lactate.lactate >= 2,:]\n",
    "\n",
    "    shock = sub_tem_vaso_fluid_mbp_lactate.sort_values(by=['admissionid', 'sofa_time', 'vaso_starttime', 'vaso_endtime', 'vaso_3h_pre'])\n",
    "    shock = shock.groupby(['admissionid', 'sofa_time'], as_index=False).apply(lambda x:x.iloc[0,:])\n",
    "\n",
    "    print(f'complete {i} / {num} ; spend time : { time.time() - t0 :.4f} s' )\n",
    "\n",
    "    return(shock)\n"
   ]
  },
  {
   "cell_type": "code",
   "execution_count": 4,
   "id": "1741c27c",
   "metadata": {
    "ExecuteTime": {
     "end_time": "2023-03-09T07:49:24.266301Z",
     "start_time": "2023-03-09T07:49:24.249414Z"
    }
   },
   "outputs": [],
   "source": [
    "def splite_data(sepsis3_tem, step=100):\n",
    "    data = [sepsis3_tem.iloc[i:i+step,:] for i in range(0,sepsis3_tem.shape[0],step) ]\n",
    "    return data\n",
    "\n",
    "\n",
    "\n",
    "## 获取 vaso 前3h 输液量，\n",
    "def fluid_3h_pre_vaso(sub_tem_sepsis3,tem_vasoactive_vasopressor,tem_fluids_bolus,nh_bef,nh_aft):\n",
    "    \n",
    "    sub_tem_vaso = pd.merge(sub_tem_sepsis3, tem_vasoactive_vasopressor, on='stay_id', how='inner')\n",
    "    sub_tem_vaso = sub_tem_vaso.loc[sub_tem_vaso.vaso_starttime >= sub_tem_vaso.sofa_time, :]\n",
    "    sub_tem_vaso.loc[:, 'vaso_nh_pre'] = sub_tem_vaso.vaso_starttime - nh_bef * 60 ## dt.timedelta(hours=nh_bef)\n",
    "    sub_tem_vaso.loc[:, 'vaso_nh_aft'] = sub_tem_vaso.vaso_starttime + nh_aft * 60 ##dt.timedelta(hours=nh_aft)\n",
    "\n",
    "    sub_tem_vaso_fluid = pd.merge(sub_tem_vaso, tem_fluids_bolus, on=['stay_id'], how='inner')\n",
    "\n",
    "    #去除输液只有1分钟的数据\n",
    "    sub_tem_vaso_fluid = sub_tem_vaso_fluid.loc[(sub_tem_vaso_fluid.loc[:, 'fluid_endtime'] - sub_tem_vaso_fluid.loc[:, 'fluid_starttime']) > 1 ,:] ##dt.timedelta(minutes=1),:]\n",
    "\n",
    "    tem = (sub_tem_vaso_fluid.loc[:, ['vaso_starttime', 'fluid_endtime']].min(axis=1) - sub_tem_vaso_fluid.loc[:, ['vaso_nh_pre','fluid_starttime']].max(axis=1))\n",
    "    tem = tem / (sub_tem_vaso_fluid.loc[:, 'fluid_endtime'] - sub_tem_vaso_fluid.loc[:, 'fluid_starttime'])\n",
    "\n",
    "    tem_fluids_bolus_3h = tem.clip(0, tem) * sub_tem_vaso_fluid.loc[:, 'colloid_bolus']\n",
    "    sub_tem_vaso_fluid.loc[:, 'fluids_bolus_3h'] = tem_fluids_bolus_3h\n",
    "    sub_tem_vaso_fluid.drop(['fluid_starttime', 'fluid_endtime', 'colloid_bolus'], axis=1, inplace=True)\n",
    "    sub_tem_vaso_fluid = sub_tem_vaso_fluid.groupby(\n",
    "        ['stay_id', 'sofa_time', 'vaso_starttime', 'vaso_endtime', 'vaso_nh_pre','vaso_nh_aft'], as_index=False).agg(sum)\n",
    "    return sub_tem_vaso_fluid\n",
    "\n",
    "\n",
    "# 获取 vaso 后 第一个 lactate 值\n",
    "def lactate_aft_vaso(tem_vaso_fluid,tem_lactate):\n",
    "\n",
    "    sub_tem_fluid_vaso_lactate = pd.merge(tem_vaso_fluid, tem_lactate, on=['stay_id'], how='inner')\n",
    "    \n",
    "    sub_tem_fluid_vaso_lactate = sub_tem_fluid_vaso_lactate.loc[\n",
    "                                     sub_tem_fluid_vaso_lactate.lactate_charttime >= sub_tem_fluid_vaso_lactate.vaso_starttime,\n",
    "                                     :]\n",
    "\n",
    "    sub_tem_fluid_vaso_lactate = sub_tem_fluid_vaso_lactate.sort_values(\n",
    "        by=['stay_id', 'sofa_time', 'vaso_starttime', 'lactate_charttime'])\n",
    "    \n",
    "    sub_tem_fluid_vaso_lactate = sub_tem_fluid_vaso_lactate.groupby(\n",
    "        ['stay_id', 'sofa_time', 'vaso_starttime', 'fluids_bolus_3h'], \n",
    "        as_index=False).apply(lambda x: x.iloc[0, :])\n",
    "    \n",
    "    return(sub_tem_fluid_vaso_lactate)\n",
    "\n",
    "\n",
    "## 获取 mbp( mbp<=65 的时间) 前3h 输液量\n",
    "def fluid_3h_pre_mbp(sub_tem_sepsis3,tem_mbp,tem_fluids_bolus,nh_bef,nh_aft):\n",
    "    \n",
    "    sub_tem_mbp = pd.merge(sub_tem_sepsis3, tem_mbp, on='stay_id', how='inner')\n",
    "    sub_tem_mbp = sub_tem_mbp.loc[sub_tem_mbp.mbp_charttime >= sub_tem_mbp.sofa_time, :]\n",
    "    \n",
    "    sub_tem_mbp.loc[:, 'mbp_nh_pre'] = sub_tem_mbp.mbp_charttime - nh_bef * 60 ##dt.timedelta(hours=nh_bef)\n",
    "    sub_tem_mbp.loc[:, 'mbp_nh_aft'] = sub_tem_mbp.mbp_charttime + nh_aft * 60 ## dt.timedelta(hours=nh_aft) \n",
    "    \n",
    "    sub_tem_mbp_fluid = pd.merge(sub_tem_mbp, tem_fluids_bolus, on=['stay_id'], how='inner')\n",
    "    tem = (sub_tem_mbp_fluid.loc[:, ['mbp_charttime', 'fluid_endtime']].min(axis=1) - sub_tem_mbp_fluid.loc[:, ['mbp_nh_pre','fluid_starttime']].max(axis=1))\n",
    "    tem = tem / (sub_tem_mbp_fluid.loc[:, 'fluid_endtime'] - sub_tem_mbp_fluid.loc[:, 'fluid_starttime'])\n",
    "\n",
    "    tem_fluids_bolus_3h = tem.clip(0, tem) * sub_tem_mbp_fluid.loc[:, 'colloid_bolus']\n",
    "    sub_tem_mbp_fluid.loc[:, 'fluids_bolus_3h'] = tem_fluids_bolus_3h\n",
    "    sub_tem_mbp_fluid.drop(['fluid_starttime', 'fluid_endtime', 'colloid_bolus'], axis=1, inplace=True)\n",
    "    sub_tem_mbp_fluid = sub_tem_mbp_fluid.groupby(\n",
    "        ['stay_id', 'sofa_time', 'mbp_charttime','mbp','mbp_nh_pre','mbp_nh_aft'], as_index=False).agg(sum)\n",
    "\n",
    "    return sub_tem_mbp_fluid\n",
    "\n",
    "\n",
    "# 获取 mbp 后 第一个 lactate 值\n",
    "def lactate_aft_mbp(sub_tem_mbp_fluid,tem_lactate):\n",
    "    # 获取 mbp 后 第一个 lactate 值\n",
    "    sub_tem_fluid_mbp_lactate = pd.merge(sub_tem_mbp_fluid, tem_lactate, on=['stay_id'], how='inner')\n",
    "    \n",
    "    sub_tem_fluid_mbp_lactate = sub_tem_fluid_mbp_lactate.loc[\n",
    "                                     sub_tem_fluid_mbp_lactate.lactate_charttime >= sub_tem_fluid_mbp_lactate.mbp_charttime,\n",
    "                                     :]\n",
    "\n",
    "    sub_tem_fluid_mbp_lactate = sub_tem_fluid_mbp_lactate.sort_values(\n",
    "        by=['stay_id', 'sofa_time', 'mbp_charttime', 'mbp_nh_pre','mbp_nh_aft', 'lactate_charttime'])\n",
    "    sub_tem_fluid_mbp_lactate = sub_tem_fluid_mbp_lactate.groupby(\n",
    "        ['stay_id', 'sofa_time', 'mbp_charttime', 'mbp',\n",
    "         'mbp_nh_pre', 'mbp_nh_aft', 'fluids_bolus_3h'], as_index=False).apply(lambda x: x.iloc[0, :])\n",
    "    \n",
    "    return(sub_tem_fluid_mbp_lactate)\n",
    "\n",
    "\n",
    "\n",
    "def main_shock(nh_bef,nh_aft,bolus,lac,tem_sepsis3_split,tem_fluids_bolus,tem_mbp,tem_vasopressor,tem_lactate):\n",
    "    \n",
    "    num = tem_sepsis3_split.__len__()\n",
    "    septic_shock = pd.DataFrame()\n",
    "    \n",
    "    for i in trange(num):\n",
    "        sub_tem_sepsis3=tem_sepsis3_split[i]\n",
    "        \n",
    "        # vaso 前3H 的液体复苏量\n",
    "        sub_tem_vaso_fluid = fluid_3h_pre_vaso(sub_tem_sepsis3,tem_vasopressor,tem_fluids_bolus,nh_bef,nh_aft)\n",
    "        sub_tem_vaso_fluid = sub_tem_vaso_fluid.loc[sub_tem_vaso_fluid.fluids_bolus_3h >= bolus]\n",
    "\n",
    "        # vaso 之后第一个lac 值\n",
    "        sub_tem_vaso_fluid_lac = lactate_aft_vaso(sub_tem_vaso_fluid,tem_lactate)\n",
    "        sub_tem_vaso_fluid_lac = sub_tem_vaso_fluid_lac.loc[sub_tem_vaso_fluid_lac.lactate >= lac,:]\n",
    "        sub_tem_vaso_fluid_lac = sub_tem_vaso_fluid_lac.query('vaso_starttime <= lactate_charttime <= vaso_nh_aft')\n",
    "\n",
    "        # mbp 前3H 的液体复苏量\n",
    "        sub_tem_mbp_fluid = fluid_3h_pre_mbp(sub_tem_sepsis3,tem_mbp,tem_fluids_bolus,nh_bef,nh_aft)\n",
    "        sub_tem_mbp_fluid = sub_tem_mbp_fluid.loc[sub_tem_mbp_fluid.fluids_bolus_3h >= bolus]\n",
    "\n",
    "        # mbp 之后第一个lac 值\n",
    "        sub_tem_mbp_fluid_lac = lactate_aft_mbp(sub_tem_mbp_fluid,tem_lactate)\n",
    "        sub_tem_mbp_fluid_lac = sub_tem_mbp_fluid_lac.loc[sub_tem_mbp_fluid_lac.lactate >= lac,:]\n",
    "        sub_tem_mbp_fluid_lac = sub_tem_mbp_fluid_lac.query('mbp_charttime <= lactate_charttime <= mbp_nh_aft')\n",
    "\n",
    "        # concate vaso and mbp\n",
    "        sub = pd.concat([sub_tem_vaso_fluid_lac,sub_tem_mbp_fluid_lac])\n",
    " \n",
    "        # shock  # sort by lac time\n",
    "        shock = sub.sort_values(by=['stay_id', 'sofa_time', 'lactate_charttime'])\n",
    "        \n",
    "        shock = shock.groupby(['stay_id', 'sofa_time'], as_index=False).apply(lambda x:x.iloc[0,:])\n",
    "        \n",
    "        septic_shock = pd.concat([septic_shock,shock],axis=0)\n",
    "        \n",
    "    septic_shock.rename(columns={'vaso_nh_pre': f'vaso_{nh_bef}h_bef',\n",
    "                                 'vaso_nh_aft': f'vaso_{nh_aft}h_aft',\n",
    "                                 'mbp_nh_pre' : f'mbp_{nh_bef}h_bef',\n",
    "                                 'mbp_nh_aft' : f'mbp_{nh_aft}h_aft',\n",
    "                                },inplace=True)\n",
    "    \n",
    "    return septic_shock\n",
    "  "
   ]
  },
  {
   "cell_type": "markdown",
   "id": "2508d103",
   "metadata": {
    "ExecuteTime": {
     "end_time": "2022-03-30T13:07:07.410227Z",
     "start_time": "2022-03-30T13:07:07.408034Z"
    }
   },
   "source": [
    "## Four table ##\n",
    "- fluidbanlance.csv\n",
    "- lactate.csv\n",
    "- mbp.csv\n",
    "- vasopressors_inotropes.csv"
   ]
  },
  {
   "cell_type": "code",
   "execution_count": 5,
   "id": "0b5a125f",
   "metadata": {
    "ExecuteTime": {
     "end_time": "2023-03-09T07:49:24.269766Z",
     "start_time": "2023-03-09T07:49:24.267552Z"
    },
    "run_control": {
     "marked": true
    },
    "scrolled": true
   },
   "outputs": [],
   "source": [
    "os.chdir(r'/public/hanl/jupyter_dir/database/AMUCdb/get_var_from_AUMC/sql_septic_shock_onset/')"
   ]
  },
  {
   "cell_type": "code",
   "execution_count": 6,
   "id": "b82f1a01",
   "metadata": {
    "ExecuteTime": {
     "end_time": "2023-03-09T07:49:24.536624Z",
     "start_time": "2023-03-09T07:49:24.270978Z"
    }
   },
   "outputs": [
    {
     "data": {
      "text/html": [
       "<div>\n",
       "<style scoped>\n",
       "    .dataframe tbody tr th:only-of-type {\n",
       "        vertical-align: middle;\n",
       "    }\n",
       "\n",
       "    .dataframe tbody tr th {\n",
       "        vertical-align: top;\n",
       "    }\n",
       "\n",
       "    .dataframe thead th {\n",
       "        text-align: right;\n",
       "    }\n",
       "</style>\n",
       "<table border=\"1\" class=\"dataframe\">\n",
       "  <thead>\n",
       "    <tr style=\"text-align: right;\">\n",
       "      <th></th>\n",
       "      <th>stay_id</th>\n",
       "      <th>vaso_starttime</th>\n",
       "      <th>vaso_endtime</th>\n",
       "    </tr>\n",
       "  </thead>\n",
       "  <tbody>\n",
       "    <tr>\n",
       "      <th>0</th>\n",
       "      <td>0</td>\n",
       "      <td>1602</td>\n",
       "      <td>2480</td>\n",
       "    </tr>\n",
       "    <tr>\n",
       "      <th>1</th>\n",
       "      <td>1</td>\n",
       "      <td>50</td>\n",
       "      <td>351</td>\n",
       "    </tr>\n",
       "  </tbody>\n",
       "</table>\n",
       "</div>"
      ],
      "text/plain": [
       "   stay_id  vaso_starttime  vaso_endtime\n",
       "0        0            1602          2480\n",
       "1        1              50           351"
      ]
     },
     "execution_count": 6,
     "metadata": {},
     "output_type": "execute_result"
    }
   ],
   "source": [
    "#VASO\n",
    "df_vaso = pd.read_csv(\"vasopressors_inotropes.csv\")\n",
    "df_vaso_cut = df_vaso.loc[:,['admissionid','start_time','stop_time']]\n",
    "df_vaso_cut.columns = ['stay_id','vaso_starttime','vaso_endtime']\n",
    "df_vaso_cut.head(2)"
   ]
  },
  {
   "cell_type": "code",
   "execution_count": 7,
   "id": "2df888d1",
   "metadata": {
    "ExecuteTime": {
     "end_time": "2023-03-09T07:49:39.243216Z",
     "start_time": "2023-03-09T07:49:24.537837Z"
    }
   },
   "outputs": [
    {
     "data": {
      "text/html": [
       "<div>\n",
       "<style scoped>\n",
       "    .dataframe tbody tr th:only-of-type {\n",
       "        vertical-align: middle;\n",
       "    }\n",
       "\n",
       "    .dataframe tbody tr th {\n",
       "        vertical-align: top;\n",
       "    }\n",
       "\n",
       "    .dataframe thead th {\n",
       "        text-align: right;\n",
       "    }\n",
       "</style>\n",
       "<table border=\"1\" class=\"dataframe\">\n",
       "  <thead>\n",
       "    <tr style=\"text-align: right;\">\n",
       "      <th></th>\n",
       "      <th>stay_id</th>\n",
       "      <th>mbp_charttime</th>\n",
       "      <th>mbp</th>\n",
       "    </tr>\n",
       "  </thead>\n",
       "  <tbody>\n",
       "    <tr>\n",
       "      <th>0</th>\n",
       "      <td>8704</td>\n",
       "      <td>16</td>\n",
       "      <td>89</td>\n",
       "    </tr>\n",
       "    <tr>\n",
       "      <th>1</th>\n",
       "      <td>8704</td>\n",
       "      <td>59</td>\n",
       "      <td>89</td>\n",
       "    </tr>\n",
       "  </tbody>\n",
       "</table>\n",
       "</div>"
      ],
      "text/plain": [
       "   stay_id  mbp_charttime  mbp\n",
       "0     8704             16   89\n",
       "1     8704             59   89"
      ]
     },
     "execution_count": 7,
     "metadata": {},
     "output_type": "execute_result"
    }
   ],
   "source": [
    "## mbp\n",
    "df_mbp = pd.read_csv(\"mbp.csv\")\n",
    "df_mbp_cut = df_mbp.loc[:,['admissionid','time','value']]\n",
    "df_mbp_cut.columns = ['stay_id','mbp_charttime','mbp']\n",
    "df_mbp_cut.head(2)"
   ]
  },
  {
   "cell_type": "code",
   "execution_count": 8,
   "id": "1ddda6e0",
   "metadata": {
    "ExecuteTime": {
     "end_time": "2023-03-09T07:49:39.287639Z",
     "start_time": "2023-03-09T07:49:39.245674Z"
    }
   },
   "outputs": [
    {
     "data": {
      "text/html": [
       "<div>\n",
       "<style scoped>\n",
       "    .dataframe tbody tr th:only-of-type {\n",
       "        vertical-align: middle;\n",
       "    }\n",
       "\n",
       "    .dataframe tbody tr th {\n",
       "        vertical-align: top;\n",
       "    }\n",
       "\n",
       "    .dataframe thead th {\n",
       "        text-align: right;\n",
       "    }\n",
       "</style>\n",
       "<table border=\"1\" class=\"dataframe\">\n",
       "  <thead>\n",
       "    <tr style=\"text-align: right;\">\n",
       "      <th></th>\n",
       "      <th>stay_id</th>\n",
       "      <th>lactate_charttime</th>\n",
       "      <th>lactate</th>\n",
       "    </tr>\n",
       "  </thead>\n",
       "  <tbody>\n",
       "    <tr>\n",
       "      <th>0</th>\n",
       "      <td>4</td>\n",
       "      <td>6</td>\n",
       "      <td>1.7</td>\n",
       "    </tr>\n",
       "    <tr>\n",
       "      <th>1</th>\n",
       "      <td>4</td>\n",
       "      <td>103</td>\n",
       "      <td>3.0</td>\n",
       "    </tr>\n",
       "  </tbody>\n",
       "</table>\n",
       "</div>"
      ],
      "text/plain": [
       "   stay_id  lactate_charttime  lactate\n",
       "0        4                  6      1.7\n",
       "1        4                103      3.0"
      ]
     },
     "execution_count": 8,
     "metadata": {},
     "output_type": "execute_result"
    }
   ],
   "source": [
    "## lactate\n",
    "df_lac = pd.read_csv(\"lactate.csv\")\n",
    "df_lac_cut = df_lac.loc[:,['admissionid','time','lactate']]\n",
    "df_lac_cut.columns = ['stay_id','lactate_charttime','lactate']\n",
    "df_lac_cut.head(2)"
   ]
  },
  {
   "cell_type": "code",
   "execution_count": 9,
   "id": "2c7a8042",
   "metadata": {
    "ExecuteTime": {
     "end_time": "2023-03-09T07:49:39.411041Z",
     "start_time": "2023-03-09T07:49:39.289105Z"
    }
   },
   "outputs": [
    {
     "data": {
      "text/html": [
       "<div>\n",
       "<style scoped>\n",
       "    .dataframe tbody tr th:only-of-type {\n",
       "        vertical-align: middle;\n",
       "    }\n",
       "\n",
       "    .dataframe tbody tr th {\n",
       "        vertical-align: top;\n",
       "    }\n",
       "\n",
       "    .dataframe thead th {\n",
       "        text-align: right;\n",
       "    }\n",
       "</style>\n",
       "<table border=\"1\" class=\"dataframe\">\n",
       "  <thead>\n",
       "    <tr style=\"text-align: right;\">\n",
       "      <th></th>\n",
       "      <th>stay_id</th>\n",
       "      <th>fluid_starttime</th>\n",
       "      <th>fluid_endtime</th>\n",
       "      <th>colloid_bolus</th>\n",
       "    </tr>\n",
       "  </thead>\n",
       "  <tbody>\n",
       "    <tr>\n",
       "      <th>0</th>\n",
       "      <td>0</td>\n",
       "      <td>332</td>\n",
       "      <td>392</td>\n",
       "      <td>270.0</td>\n",
       "    </tr>\n",
       "    <tr>\n",
       "      <th>1</th>\n",
       "      <td>0</td>\n",
       "      <td>340</td>\n",
       "      <td>400</td>\n",
       "      <td>270.0</td>\n",
       "    </tr>\n",
       "  </tbody>\n",
       "</table>\n",
       "</div>"
      ],
      "text/plain": [
       "   stay_id  fluid_starttime  fluid_endtime  colloid_bolus\n",
       "0        0              332            392          270.0\n",
       "1        0              340            400          270.0"
      ]
     },
     "execution_count": 9,
     "metadata": {},
     "output_type": "execute_result"
    }
   ],
   "source": [
    "## fluidbanlance.csv\n",
    "df_fluid = pd.read_csv(\"fluidbanlance.csv\")\n",
    "df_fluid_cut = df_fluid.loc[:,['admissionid','starttime','endtime','fluid']]\n",
    "df_fluid_cut.columns = ['stay_id','fluid_starttime','fluid_endtime', 'colloid_bolus']\n",
    "df_fluid_cut.head(2)\n"
   ]
  },
  {
   "cell_type": "code",
   "execution_count": 10,
   "id": "413773e9",
   "metadata": {
    "ExecuteTime": {
     "end_time": "2023-03-09T07:49:39.421728Z",
     "start_time": "2023-03-09T07:49:39.412244Z"
    }
   },
   "outputs": [
    {
     "data": {
      "text/html": [
       "<div>\n",
       "<style scoped>\n",
       "    .dataframe tbody tr th:only-of-type {\n",
       "        vertical-align: middle;\n",
       "    }\n",
       "\n",
       "    .dataframe tbody tr th {\n",
       "        vertical-align: top;\n",
       "    }\n",
       "\n",
       "    .dataframe thead th {\n",
       "        text-align: right;\n",
       "    }\n",
       "</style>\n",
       "<table border=\"1\" class=\"dataframe\">\n",
       "  <thead>\n",
       "    <tr style=\"text-align: right;\">\n",
       "      <th></th>\n",
       "      <th>stay_id</th>\n",
       "      <th>sofa_time</th>\n",
       "    </tr>\n",
       "  </thead>\n",
       "  <tbody>\n",
       "    <tr>\n",
       "      <th>0</th>\n",
       "      <td>2</td>\n",
       "      <td>0.0</td>\n",
       "    </tr>\n",
       "    <tr>\n",
       "      <th>1</th>\n",
       "      <td>3</td>\n",
       "      <td>4.0</td>\n",
       "    </tr>\n",
       "  </tbody>\n",
       "</table>\n",
       "</div>"
      ],
      "text/plain": [
       "   stay_id  sofa_time\n",
       "0        2        0.0\n",
       "1        3        4.0"
      ]
     },
     "execution_count": 10,
     "metadata": {},
     "output_type": "execute_result"
    }
   ],
   "source": [
    "os.chdir(r'/public/hanl/jupyter_dir/database/AMUCdb/sepsis_episode/sepsis_episode/')\n",
    "sepsis3 = pd.read_csv(\"sepsis_onset.csv\")\n",
    "sepsis3_cut = sepsis3.loc[:,['admissionid', 'sepsis_onset']]\n",
    "sepsis3_cut.columns = ['stay_id', 'sofa_time']\n",
    "sepsis3_cut.head(2)"
   ]
  },
  {
   "cell_type": "code",
   "execution_count": 11,
   "id": "e49d74ca",
   "metadata": {
    "ExecuteTime": {
     "end_time": "2023-03-09T07:49:39.995569Z",
     "start_time": "2023-03-09T07:49:39.422736Z"
    }
   },
   "outputs": [],
   "source": [
    "tem_sepsis3 = sepsis3_cut\n",
    "tem_vasopressor = df_vaso_cut\n",
    "tem_fluids_bolus = df_fluid_cut\n",
    "tem_lactate = df_lac_cut\n",
    "tem_mbp = df_mbp_cut.query('mbp<=65') "
   ]
  },
  {
   "cell_type": "code",
   "execution_count": 12,
   "id": "fc608376",
   "metadata": {
    "ExecuteTime": {
     "end_time": "2023-03-09T07:52:17.098227Z",
     "start_time": "2023-03-09T07:49:39.996743Z"
    }
   },
   "outputs": [
    {
     "name": "stderr",
     "output_type": "stream",
     "text": [
      "100%|██████████| 29/29 [02:37<00:00,  5.42s/it]\n"
     ]
    },
    {
     "data": {
      "text/html": [
       "<div>\n",
       "<style scoped>\n",
       "    .dataframe tbody tr th:only-of-type {\n",
       "        vertical-align: middle;\n",
       "    }\n",
       "\n",
       "    .dataframe tbody tr th {\n",
       "        vertical-align: top;\n",
       "    }\n",
       "\n",
       "    .dataframe thead th {\n",
       "        text-align: right;\n",
       "    }\n",
       "</style>\n",
       "<table border=\"1\" class=\"dataframe\">\n",
       "  <thead>\n",
       "    <tr style=\"text-align: right;\">\n",
       "      <th></th>\n",
       "      <th>stay_id</th>\n",
       "      <th>sofa_time</th>\n",
       "      <th>vaso_starttime</th>\n",
       "      <th>vaso_endtime</th>\n",
       "      <th>vaso_3h_bef</th>\n",
       "      <th>vaso_6h_aft</th>\n",
       "      <th>fluids_bolus_3h</th>\n",
       "      <th>lactate_charttime</th>\n",
       "      <th>lactate</th>\n",
       "      <th>mbp_charttime</th>\n",
       "      <th>mbp</th>\n",
       "      <th>mbp_3h_bef</th>\n",
       "      <th>mbp_6h_aft</th>\n",
       "      <th>onset_time</th>\n",
       "    </tr>\n",
       "  </thead>\n",
       "  <tbody>\n",
       "    <tr>\n",
       "      <th>0</th>\n",
       "      <td>5.0</td>\n",
       "      <td>0.0</td>\n",
       "      <td>NaN</td>\n",
       "      <td>NaN</td>\n",
       "      <td>NaN</td>\n",
       "      <td>NaN</td>\n",
       "      <td>1157.993672</td>\n",
       "      <td>415.0</td>\n",
       "      <td>2.2</td>\n",
       "      <td>174.0</td>\n",
       "      <td>65.0</td>\n",
       "      <td>-6.0</td>\n",
       "      <td>534.0</td>\n",
       "      <td>415.0</td>\n",
       "    </tr>\n",
       "    <tr>\n",
       "      <th>1</th>\n",
       "      <td>11.0</td>\n",
       "      <td>0.0</td>\n",
       "      <td>124.0</td>\n",
       "      <td>199.0</td>\n",
       "      <td>-56.0</td>\n",
       "      <td>484.0</td>\n",
       "      <td>1056.647260</td>\n",
       "      <td>312.0</td>\n",
       "      <td>6.1</td>\n",
       "      <td>NaN</td>\n",
       "      <td>NaN</td>\n",
       "      <td>NaN</td>\n",
       "      <td>NaN</td>\n",
       "      <td>312.0</td>\n",
       "    </tr>\n",
       "    <tr>\n",
       "      <th>2</th>\n",
       "      <td>15.0</td>\n",
       "      <td>1.0</td>\n",
       "      <td>320.0</td>\n",
       "      <td>465.0</td>\n",
       "      <td>140.0</td>\n",
       "      <td>680.0</td>\n",
       "      <td>1441.894432</td>\n",
       "      <td>480.0</td>\n",
       "      <td>2.6</td>\n",
       "      <td>NaN</td>\n",
       "      <td>NaN</td>\n",
       "      <td>NaN</td>\n",
       "      <td>NaN</td>\n",
       "      <td>480.0</td>\n",
       "    </tr>\n",
       "    <tr>\n",
       "      <th>3</th>\n",
       "      <td>21.0</td>\n",
       "      <td>7.0</td>\n",
       "      <td>633.0</td>\n",
       "      <td>1489.0</td>\n",
       "      <td>453.0</td>\n",
       "      <td>993.0</td>\n",
       "      <td>1863.033471</td>\n",
       "      <td>649.0</td>\n",
       "      <td>2.0</td>\n",
       "      <td>NaN</td>\n",
       "      <td>NaN</td>\n",
       "      <td>NaN</td>\n",
       "      <td>NaN</td>\n",
       "      <td>649.0</td>\n",
       "    </tr>\n",
       "    <tr>\n",
       "      <th>4</th>\n",
       "      <td>38.0</td>\n",
       "      <td>0.0</td>\n",
       "      <td>NaN</td>\n",
       "      <td>NaN</td>\n",
       "      <td>NaN</td>\n",
       "      <td>NaN</td>\n",
       "      <td>1787.896614</td>\n",
       "      <td>131.0</td>\n",
       "      <td>6.2</td>\n",
       "      <td>123.0</td>\n",
       "      <td>64.0</td>\n",
       "      <td>-57.0</td>\n",
       "      <td>483.0</td>\n",
       "      <td>131.0</td>\n",
       "    </tr>\n",
       "    <tr>\n",
       "      <th>...</th>\n",
       "      <td>...</td>\n",
       "      <td>...</td>\n",
       "      <td>...</td>\n",
       "      <td>...</td>\n",
       "      <td>...</td>\n",
       "      <td>...</td>\n",
       "      <td>...</td>\n",
       "      <td>...</td>\n",
       "      <td>...</td>\n",
       "      <td>...</td>\n",
       "      <td>...</td>\n",
       "      <td>...</td>\n",
       "      <td>...</td>\n",
       "      <td>...</td>\n",
       "    </tr>\n",
       "    <tr>\n",
       "      <th>18</th>\n",
       "      <td>23412.0</td>\n",
       "      <td>1.0</td>\n",
       "      <td>183.0</td>\n",
       "      <td>391.0</td>\n",
       "      <td>3.0</td>\n",
       "      <td>543.0</td>\n",
       "      <td>1164.511555</td>\n",
       "      <td>196.0</td>\n",
       "      <td>12.6</td>\n",
       "      <td>NaN</td>\n",
       "      <td>NaN</td>\n",
       "      <td>NaN</td>\n",
       "      <td>NaN</td>\n",
       "      <td>196.0</td>\n",
       "    </tr>\n",
       "    <tr>\n",
       "      <th>19</th>\n",
       "      <td>23468.0</td>\n",
       "      <td>1.0</td>\n",
       "      <td>374.0</td>\n",
       "      <td>674.0</td>\n",
       "      <td>194.0</td>\n",
       "      <td>734.0</td>\n",
       "      <td>1965.004335</td>\n",
       "      <td>464.0</td>\n",
       "      <td>2.1</td>\n",
       "      <td>NaN</td>\n",
       "      <td>NaN</td>\n",
       "      <td>NaN</td>\n",
       "      <td>NaN</td>\n",
       "      <td>464.0</td>\n",
       "    </tr>\n",
       "    <tr>\n",
       "      <th>20</th>\n",
       "      <td>23480.0</td>\n",
       "      <td>3.0</td>\n",
       "      <td>874.0</td>\n",
       "      <td>965.0</td>\n",
       "      <td>694.0</td>\n",
       "      <td>1234.0</td>\n",
       "      <td>1037.424395</td>\n",
       "      <td>1181.0</td>\n",
       "      <td>10.6</td>\n",
       "      <td>NaN</td>\n",
       "      <td>NaN</td>\n",
       "      <td>NaN</td>\n",
       "      <td>NaN</td>\n",
       "      <td>1181.0</td>\n",
       "    </tr>\n",
       "    <tr>\n",
       "      <th>21</th>\n",
       "      <td>23488.0</td>\n",
       "      <td>0.0</td>\n",
       "      <td>703.0</td>\n",
       "      <td>756.0</td>\n",
       "      <td>523.0</td>\n",
       "      <td>1063.0</td>\n",
       "      <td>1225.227766</td>\n",
       "      <td>816.0</td>\n",
       "      <td>11.4</td>\n",
       "      <td>NaN</td>\n",
       "      <td>NaN</td>\n",
       "      <td>NaN</td>\n",
       "      <td>NaN</td>\n",
       "      <td>816.0</td>\n",
       "    </tr>\n",
       "    <tr>\n",
       "      <th>22</th>\n",
       "      <td>23540.0</td>\n",
       "      <td>0.0</td>\n",
       "      <td>1043.0</td>\n",
       "      <td>1112.0</td>\n",
       "      <td>863.0</td>\n",
       "      <td>1403.0</td>\n",
       "      <td>1486.476098</td>\n",
       "      <td>1372.0</td>\n",
       "      <td>2.1</td>\n",
       "      <td>NaN</td>\n",
       "      <td>NaN</td>\n",
       "      <td>NaN</td>\n",
       "      <td>NaN</td>\n",
       "      <td>1372.0</td>\n",
       "    </tr>\n",
       "  </tbody>\n",
       "</table>\n",
       "<p>1353 rows × 14 columns</p>\n",
       "</div>"
      ],
      "text/plain": [
       "    stay_id  sofa_time  vaso_starttime  vaso_endtime  vaso_3h_bef  \\\n",
       "0       5.0        0.0             NaN           NaN          NaN   \n",
       "1      11.0        0.0           124.0         199.0        -56.0   \n",
       "2      15.0        1.0           320.0         465.0        140.0   \n",
       "3      21.0        7.0           633.0        1489.0        453.0   \n",
       "4      38.0        0.0             NaN           NaN          NaN   \n",
       "..      ...        ...             ...           ...          ...   \n",
       "18  23412.0        1.0           183.0         391.0          3.0   \n",
       "19  23468.0        1.0           374.0         674.0        194.0   \n",
       "20  23480.0        3.0           874.0         965.0        694.0   \n",
       "21  23488.0        0.0           703.0         756.0        523.0   \n",
       "22  23540.0        0.0          1043.0        1112.0        863.0   \n",
       "\n",
       "    vaso_6h_aft  fluids_bolus_3h  lactate_charttime  lactate  mbp_charttime  \\\n",
       "0           NaN      1157.993672              415.0      2.2          174.0   \n",
       "1         484.0      1056.647260              312.0      6.1            NaN   \n",
       "2         680.0      1441.894432              480.0      2.6            NaN   \n",
       "3         993.0      1863.033471              649.0      2.0            NaN   \n",
       "4           NaN      1787.896614              131.0      6.2          123.0   \n",
       "..          ...              ...                ...      ...            ...   \n",
       "18        543.0      1164.511555              196.0     12.6            NaN   \n",
       "19        734.0      1965.004335              464.0      2.1            NaN   \n",
       "20       1234.0      1037.424395             1181.0     10.6            NaN   \n",
       "21       1063.0      1225.227766              816.0     11.4            NaN   \n",
       "22       1403.0      1486.476098             1372.0      2.1            NaN   \n",
       "\n",
       "     mbp  mbp_3h_bef  mbp_6h_aft  onset_time  \n",
       "0   65.0        -6.0       534.0       415.0  \n",
       "1    NaN         NaN         NaN       312.0  \n",
       "2    NaN         NaN         NaN       480.0  \n",
       "3    NaN         NaN         NaN       649.0  \n",
       "4   64.0       -57.0       483.0       131.0  \n",
       "..   ...         ...         ...         ...  \n",
       "18   NaN         NaN         NaN       196.0  \n",
       "19   NaN         NaN         NaN       464.0  \n",
       "20   NaN         NaN         NaN      1181.0  \n",
       "21   NaN         NaN         NaN       816.0  \n",
       "22   NaN         NaN         NaN      1372.0  \n",
       "\n",
       "[1353 rows x 14 columns]"
      ]
     },
     "execution_count": 12,
     "metadata": {},
     "output_type": "execute_result"
    }
   ],
   "source": [
    "nh_bef = 3 # mbp_nh_bef\n",
    "nh_aft = 6 # mbp_nh_aft\n",
    "bolus = 1000 # ml\n",
    "lac = 2 # \n",
    "\n",
    "# 分批次计算\n",
    "tem_sepsis3_split = splite_data(tem_sepsis3,step=300)\n",
    "\n",
    "septic_shock = main_shock(nh_bef,nh_aft,bolus,lac,tem_sepsis3_split,tem_fluids_bolus,tem_mbp,tem_vasopressor,tem_lactate)\n",
    "   \n",
    "septic_shock['onset_time'] = septic_shock.lactate_charttime\n",
    "septic_shock"
   ]
  },
  {
   "cell_type": "code",
   "execution_count": 13,
   "id": "9caf9c43",
   "metadata": {
    "ExecuteTime": {
     "end_time": "2023-03-09T07:52:17.102025Z",
     "start_time": "2023-03-09T07:52:17.099334Z"
    },
    "scrolled": false
   },
   "outputs": [
    {
     "data": {
      "text/plain": [
       "(1353, 14)"
      ]
     },
     "execution_count": 13,
     "metadata": {},
     "output_type": "execute_result"
    }
   ],
   "source": [
    "septic_shock.shape"
   ]
  },
  {
   "cell_type": "code",
   "execution_count": 14,
   "id": "d67f6c7f",
   "metadata": {
    "ExecuteTime": {
     "end_time": "2023-03-09T07:52:17.119096Z",
     "start_time": "2023-03-09T07:52:17.103247Z"
    }
   },
   "outputs": [],
   "source": [
    "os.chdir(r'/public/hanl/jupyter_dir/database/AMUCdb/sepsis_episode/septic_shock_onset/')\n",
    "septic_shock_lst = septic_shock.stay_id.unique().tolist()\n",
    "septic_shock.to_csv(\"septic_shock_onset.csv\", index=False)"
   ]
  },
  {
   "cell_type": "markdown",
   "id": "31236d14",
   "metadata": {},
   "source": [
    "## 与之前的结果对比"
   ]
  },
  {
   "cell_type": "code",
   "execution_count": 20,
   "id": "93e4d2c8",
   "metadata": {
    "ExecuteTime": {
     "end_time": "2023-03-09T07:54:51.735827Z",
     "start_time": "2023-03-09T07:54:51.724970Z"
    }
   },
   "outputs": [
    {
     "data": {
      "text/plain": [
       "[]"
      ]
     },
     "execution_count": 20,
     "metadata": {},
     "output_type": "execute_result"
    }
   ],
   "source": [
    "df_past_shock = pd.read_csv(\"./v1_sepsis_definedby_day/septic_shock_onset.csv\")\n",
    "past_shock_lst = df_past_shock.stay_id.unique().tolist()\n",
    "list(set(past_shock_lst).difference(set(sepsis3_cut.stay_id.unique())))"
   ]
  },
  {
   "cell_type": "code",
   "execution_count": 16,
   "id": "9b1beb34",
   "metadata": {
    "ExecuteTime": {
     "end_time": "2023-03-09T07:52:17.129136Z",
     "start_time": "2023-03-09T07:52:17.126414Z"
    }
   },
   "outputs": [
    {
     "data": {
      "text/plain": [
       "(1353, 1029)"
      ]
     },
     "execution_count": 16,
     "metadata": {},
     "output_type": "execute_result"
    }
   ],
   "source": [
    "len(septic_shock_lst), len(past_shock_lst)"
   ]
  },
  {
   "cell_type": "code",
   "execution_count": 21,
   "id": "d1e9ef57",
   "metadata": {
    "ExecuteTime": {
     "end_time": "2023-03-09T07:55:07.459170Z",
     "start_time": "2023-03-09T07:55:07.455308Z"
    }
   },
   "outputs": [
    {
     "data": {
      "text/plain": [
       "962"
      ]
     },
     "execution_count": 21,
     "metadata": {},
     "output_type": "execute_result"
    }
   ],
   "source": [
    "len(list(set(septic_shock_lst).intersection(set(past_shock_lst))))"
   ]
  }
 ],
 "metadata": {
  "kernelspec": {
   "display_name": "Python [conda env:mytensor]",
   "language": "python",
   "name": "conda-env-mytensor-py"
  },
  "language_info": {
   "codemirror_mode": {
    "name": "ipython",
    "version": 3
   },
   "file_extension": ".py",
   "mimetype": "text/x-python",
   "name": "python",
   "nbconvert_exporter": "python",
   "pygments_lexer": "ipython3",
   "version": "3.9.12"
  },
  "toc": {
   "base_numbering": 1,
   "nav_menu": {},
   "number_sections": true,
   "sideBar": true,
   "skip_h1_title": false,
   "title_cell": "Table of Contents",
   "title_sidebar": "Contents",
   "toc_cell": false,
   "toc_position": {
    "height": "calc(100% - 180px)",
    "left": "10px",
    "top": "150px",
    "width": "170.614px"
   },
   "toc_section_display": true,
   "toc_window_display": false
  },
  "varInspector": {
   "cols": {
    "lenName": 16,
    "lenType": 16,
    "lenVar": 40
   },
   "kernels_config": {
    "python": {
     "delete_cmd_postfix": "",
     "delete_cmd_prefix": "del ",
     "library": "var_list.py",
     "varRefreshCmd": "print(var_dic_list())"
    },
    "r": {
     "delete_cmd_postfix": ") ",
     "delete_cmd_prefix": "rm(",
     "library": "var_list.r",
     "varRefreshCmd": "cat(var_dic_list()) "
    }
   },
   "oldHeight": 342.552,
   "position": {
    "height": "40px",
    "left": "729.542px",
    "right": "20px",
    "top": "6.94792px",
    "width": "370.948px"
   },
   "types_to_exclude": [
    "module",
    "function",
    "builtin_function_or_method",
    "instance",
    "_Feature"
   ],
   "varInspector_section_display": "none",
   "window_display": false
  }
 },
 "nbformat": 4,
 "nbformat_minor": 5
}
