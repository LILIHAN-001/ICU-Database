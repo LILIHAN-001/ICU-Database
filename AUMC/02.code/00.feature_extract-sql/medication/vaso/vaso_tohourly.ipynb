{
 "cells": [
  {
   "cell_type": "code",
   "execution_count": 1,
   "id": "9a2a4ae8",
   "metadata": {
    "ExecuteTime": {
     "end_time": "2023-05-05T12:36:54.615704Z",
     "start_time": "2023-05-05T12:36:54.613775Z"
    }
   },
   "outputs": [],
   "source": [
    "# dobutamine :多巴酚丁胺\n",
    "# dopamine :多巴胺\n",
    "# epinephrine :肾上腺素\n",
    "# norepinephrine:去甲肾上腺素\n",
    "# phenylephrine :苯肾上腺素\n",
    "# vasopressin : 血管加压素\n"
   ]
  },
  {
   "cell_type": "code",
   "execution_count": 2,
   "id": "53818a7a",
   "metadata": {
    "ExecuteTime": {
     "end_time": "2023-05-05T12:36:55.706982Z",
     "start_time": "2023-05-05T12:36:54.616758Z"
    }
   },
   "outputs": [],
   "source": [
    "import pandas as pd\n",
    "import numpy as np\n",
    "import matplotlib.pyplot as plt\n",
    "pd.options.display.max_rows = 300\n",
    "import datetime as dt\n",
    "import math\n",
    "import seaborn as sns\n",
    "import miceforest as mf\n",
    "from tableone import TableOne, load_dataset"
   ]
  },
  {
   "cell_type": "code",
   "execution_count": 3,
   "id": "951f9948",
   "metadata": {
    "ExecuteTime": {
     "end_time": "2023-05-05T12:36:55.711154Z",
     "start_time": "2023-05-05T12:36:55.708479Z"
    }
   },
   "outputs": [
    {
     "name": "stderr",
     "output_type": "stream",
     "text": [
      "/home/hanl/miniconda3/envs/mytensor/lib/python3.9/site-packages/ipykernel/ipkernel.py:287: DeprecationWarning: `should_run_async` will not call `transform_cell` automatically in the future. Please pass the result to `transformed_cell` argument and any exception that happen during thetransform in `preprocessing_exc_tuple` in IPython 7.17 and above.\n",
      "  and should_run_async(code)\n"
     ]
    }
   ],
   "source": [
    "import datetime\n",
    "def dateHourRange(beginDateHour, endDateHour):\n",
    "    dhours = []\n",
    "    dhour = beginDateHour #datetime.datetime.strptime(beginDateHour, \"%Y-%m-%d %H:%M:%S\")\n",
    "    date = beginDateHour\n",
    "    while date <= endDateHour:\n",
    "        dhours.append(date)\n",
    "        dhour = dhour + 1\n",
    "        date = dhour\n",
    "    return dhours"
   ]
  },
  {
   "cell_type": "markdown",
   "id": "d9e0994f",
   "metadata": {},
   "source": [
    "# vaso"
   ]
  },
  {
   "cell_type": "markdown",
   "id": "1e639381",
   "metadata": {},
   "source": [
    "## 添加药物类型"
   ]
  },
  {
   "cell_type": "code",
   "execution_count": 4,
   "id": "f23b7cd6",
   "metadata": {
    "ExecuteTime": {
     "end_time": "2023-05-05T12:36:55.713883Z",
     "start_time": "2023-05-05T12:36:55.712284Z"
    }
   },
   "outputs": [
    {
     "name": "stderr",
     "output_type": "stream",
     "text": [
      "/home/hanl/miniconda3/envs/mytensor/lib/python3.9/site-packages/ipykernel/ipkernel.py:287: DeprecationWarning: `should_run_async` will not call `transform_cell` automatically in the future. Please pass the result to `transformed_cell` argument and any exception that happen during thetransform in `preprocessing_exc_tuple` in IPython 7.17 and above.\n",
      "  and should_run_async(code)\n"
     ]
    }
   ],
   "source": [
    "# df_vaso = pd.read_csv(\"../../raw/treatment//vasopressors_inotropes.csv\")\n",
    "# vaso_dict = {'Dobutamine (Dobutrex)':\"dobutamine\", 'Dopamine (Inotropin)':\"dopamine\",\n",
    "#        'Noradrenaline (Norepinefrine)':\"norepinephrine\", 'Adrenaline (Epinefrine)':\"epinephrine\"}\n",
    "# df_vaso[\"drug\"] = df_vaso[\"item\"].map(vaso_dict)\n",
    "# df_vaso.loc[:,['admissionid',\"drug\",'duration', 'rate', 'rateunit',\n",
    "#        'start_time', 'stop_time', 'gamma']]\n",
    "# df_vaso.to_csv(\"./vaso_clean.csv\",index=False)"
   ]
  },
  {
   "cell_type": "markdown",
   "id": "4a849ada",
   "metadata": {},
   "source": [
    "## to hourly"
   ]
  },
  {
   "cell_type": "code",
   "execution_count": 5,
   "id": "29311afd",
   "metadata": {
    "ExecuteTime": {
     "end_time": "2023-05-05T12:36:55.716342Z",
     "start_time": "2023-05-05T12:36:55.714808Z"
    }
   },
   "outputs": [
    {
     "name": "stderr",
     "output_type": "stream",
     "text": [
      "/home/hanl/miniconda3/envs/mytensor/lib/python3.9/site-packages/ipykernel/ipkernel.py:287: DeprecationWarning: `should_run_async` will not call `transform_cell` automatically in the future. Please pass the result to `transformed_cell` argument and any exception that happen during thetransform in `preprocessing_exc_tuple` in IPython 7.17 and above.\n",
      "  and should_run_async(code)\n"
     ]
    }
   ],
   "source": [
    "# df_vaso = pd.read_csv(\"./vaso_clean.csv\")\n",
    "# df_vaso = df_vaso.loc[:,['admissionid','start_time','stop_time',\"gamma\", \"drug\",\"duration\"]]\n",
    "# df_vaso.columns= [\"stay_id\", \"starttime\", \"endtime\", \"vaso_amount\", \"vaso_type\",\"duration_min\"]\n",
    "# df_vaso[\"starttime\"] = df_vaso[\"starttime\"]//60 # hour\n",
    "# df_vaso[\"endtime\"] = df_vaso[\"endtime\"]//60 + 1 # hour\n",
    "# df_vaso = df_vaso.loc[:,['stay_id','starttime','endtime',\"vaso_amount\", \"vaso_type\"]]\n",
    "# df_vaso.head()"
   ]
  },
  {
   "cell_type": "code",
   "execution_count": 6,
   "id": "e0e6f6f1",
   "metadata": {
    "ExecuteTime": {
     "end_time": "2023-05-05T12:36:55.720872Z",
     "start_time": "2023-05-05T12:36:55.717129Z"
    }
   },
   "outputs": [
    {
     "name": "stderr",
     "output_type": "stream",
     "text": [
      "/home/hanl/miniconda3/envs/mytensor/lib/python3.9/site-packages/ipykernel/ipkernel.py:287: DeprecationWarning: `should_run_async` will not call `transform_cell` automatically in the future. Please pass the result to `transformed_cell` argument and any exception that happen during thetransform in `preprocessing_exc_tuple` in IPython 7.17 and above.\n",
      "  and should_run_async(code)\n"
     ]
    }
   ],
   "source": [
    "# df_vaso[\"time_lst\"] = df_vaso.apply(lambda x: dateHourRange(x['starttime'],x['endtime']),axis=1)\n",
    "# df_vaso[\"time_num\"] = df_vaso[\"time_lst\"].map(lambda x: len(x))\n",
    "# df_vaso[\"vaso_amount_hourly\"] =  df_vaso[\"vaso_amount\"]/df_vaso[\"time_num\"] \n",
    "\n",
    "# df_vaso['idx'] = range(len(df_vaso))\n",
    "# tem_add = df_vaso.set_index('idx').time_lst.apply(pd.Series).stack().reset_index(level=0).rename(columns={0:'charttime'})\n",
    "# df_vaso_hourly = pd.merge(df_vaso, tem_add, how=\"inner\", on=\"idx\")\n",
    "# df_vaso_hourly = df_vaso_hourly.loc[:,[\"stay_id\",\"charttime\",\"vaso_amount_hourly\",\"vaso_type\"]]\n",
    "# df_vaso_hourly.to_csv(\"./vaso_hourly_with_type.csv\",index=False)\n",
    "# df_vaso_hourly.head(2)"
   ]
  },
  {
   "cell_type": "markdown",
   "id": "8367fd36",
   "metadata": {},
   "source": [
    "# fuild"
   ]
  },
  {
   "cell_type": "code",
   "execution_count": 7,
   "id": "a9f183f2",
   "metadata": {
    "ExecuteTime": {
     "end_time": "2023-05-05T12:36:56.894034Z",
     "start_time": "2023-05-05T12:36:55.721810Z"
    }
   },
   "outputs": [
    {
     "name": "stderr",
     "output_type": "stream",
     "text": [
      "/home/hanl/miniconda3/envs/mytensor/lib/python3.9/site-packages/ipykernel/ipkernel.py:287: DeprecationWarning: `should_run_async` will not call `transform_cell` automatically in the future. Please pass the result to `transformed_cell` argument and any exception that happen during thetransform in `preprocessing_exc_tuple` in IPython 7.17 and above.\n",
      "  and should_run_async(code)\n"
     ]
    },
    {
     "data": {
      "text/html": [
       "<div>\n",
       "<style scoped>\n",
       "    .dataframe tbody tr th:only-of-type {\n",
       "        vertical-align: middle;\n",
       "    }\n",
       "\n",
       "    .dataframe tbody tr th {\n",
       "        vertical-align: top;\n",
       "    }\n",
       "\n",
       "    .dataframe thead th {\n",
       "        text-align: right;\n",
       "    }\n",
       "</style>\n",
       "<table border=\"1\" class=\"dataframe\">\n",
       "  <thead>\n",
       "    <tr style=\"text-align: right;\">\n",
       "      <th></th>\n",
       "      <th>stay_id</th>\n",
       "      <th>starttime</th>\n",
       "      <th>endtime</th>\n",
       "      <th>colloid_bolus</th>\n",
       "      <th>rate</th>\n",
       "    </tr>\n",
       "  </thead>\n",
       "  <tbody>\n",
       "    <tr>\n",
       "      <th>0</th>\n",
       "      <td>0</td>\n",
       "      <td>5</td>\n",
       "      <td>14</td>\n",
       "      <td>500.0</td>\n",
       "      <td>65.0</td>\n",
       "    </tr>\n",
       "    <tr>\n",
       "      <th>1</th>\n",
       "      <td>0</td>\n",
       "      <td>5</td>\n",
       "      <td>40</td>\n",
       "      <td>500.0</td>\n",
       "      <td>15.0</td>\n",
       "    </tr>\n",
       "  </tbody>\n",
       "</table>\n",
       "</div>"
      ],
      "text/plain": [
       "   stay_id  starttime  endtime  colloid_bolus  rate\n",
       "0        0          5       14          500.0  65.0\n",
       "1        0          5       40          500.0  15.0"
      ]
     },
     "execution_count": 7,
     "metadata": {},
     "output_type": "execute_result"
    }
   ],
   "source": [
    "df_fluid = pd.read_csv(\"../../raw/treatment/fluid_colloid_and_crystalloid.csv\")\n",
    "df_fluid[\"during_hour\"] =(df_fluid[\"endtime\"]-df_fluid[\"starttime\"])/60\n",
    "df_fluid[\"rate\"] = round(df_fluid[\"fluid\"]/df_fluid[\"during_hour\"])\n",
    "df_fluid[\"rateunit\"] = \"ml/hour\"\n",
    "\n",
    "df_fluid = df_fluid.loc[:,['admissionid','starttime','endtime','fluid',\"rate\"]]\n",
    "df_fluid.columns = ['stay_id','starttime','endtime', 'colloid_bolus',\"rate\"]\n",
    "df_fluid[\"starttime\"] = df_fluid[\"starttime\"]//60 # hour\n",
    "df_fluid[\"endtime\"] = df_fluid[\"endtime\"]//60 + 1 # hour\n",
    "df_fluid = df_fluid.drop_duplicates()\n",
    "df_fluid.to_csv(\"./aumc_fluidbanlance.csv\",index=False)\n",
    "df_fluid.head(2)\n"
   ]
  },
  {
   "cell_type": "markdown",
   "id": "7d09e4d7",
   "metadata": {},
   "source": [
    "##  to hourly"
   ]
  },
  {
   "cell_type": "code",
   "execution_count": 8,
   "id": "8af7c8ee",
   "metadata": {
    "ExecuteTime": {
     "end_time": "2023-05-05T12:37:02.404015Z",
     "start_time": "2023-05-05T12:36:56.896162Z"
    },
    "run_control": {
     "marked": true
    }
   },
   "outputs": [
    {
     "name": "stderr",
     "output_type": "stream",
     "text": [
      "/home/hanl/miniconda3/envs/mytensor/lib/python3.9/site-packages/ipykernel/ipkernel.py:287: DeprecationWarning: `should_run_async` will not call `transform_cell` automatically in the future. Please pass the result to `transformed_cell` argument and any exception that happen during thetransform in `preprocessing_exc_tuple` in IPython 7.17 and above.\n",
      "  and should_run_async(code)\n"
     ]
    },
    {
     "data": {
      "text/html": [
       "<div>\n",
       "<style scoped>\n",
       "    .dataframe tbody tr th:only-of-type {\n",
       "        vertical-align: middle;\n",
       "    }\n",
       "\n",
       "    .dataframe tbody tr th {\n",
       "        vertical-align: top;\n",
       "    }\n",
       "\n",
       "    .dataframe thead th {\n",
       "        text-align: right;\n",
       "    }\n",
       "</style>\n",
       "<table border=\"1\" class=\"dataframe\">\n",
       "  <thead>\n",
       "    <tr style=\"text-align: right;\">\n",
       "      <th></th>\n",
       "      <th>stay_id</th>\n",
       "      <th>starttime</th>\n",
       "      <th>endtime</th>\n",
       "      <th>colloid_bolus</th>\n",
       "      <th>rate</th>\n",
       "      <th>time_lst</th>\n",
       "      <th>time_num</th>\n",
       "      <th>colloid_bolus_hourly</th>\n",
       "    </tr>\n",
       "  </thead>\n",
       "  <tbody>\n",
       "    <tr>\n",
       "      <th>0</th>\n",
       "      <td>0</td>\n",
       "      <td>5</td>\n",
       "      <td>14</td>\n",
       "      <td>500.0</td>\n",
       "      <td>65.0</td>\n",
       "      <td>[5.0, 6.0, 7.0, 8.0, 9.0, 10.0, 11.0, 12.0, 13...</td>\n",
       "      <td>10</td>\n",
       "      <td>50.000000</td>\n",
       "    </tr>\n",
       "    <tr>\n",
       "      <th>1</th>\n",
       "      <td>0</td>\n",
       "      <td>5</td>\n",
       "      <td>40</td>\n",
       "      <td>500.0</td>\n",
       "      <td>15.0</td>\n",
       "      <td>[5.0, 6.0, 7.0, 8.0, 9.0, 10.0, 11.0, 12.0, 13...</td>\n",
       "      <td>36</td>\n",
       "      <td>13.888889</td>\n",
       "    </tr>\n",
       "  </tbody>\n",
       "</table>\n",
       "</div>"
      ],
      "text/plain": [
       "   stay_id  starttime  endtime  colloid_bolus  rate  \\\n",
       "0        0          5       14          500.0  65.0   \n",
       "1        0          5       40          500.0  15.0   \n",
       "\n",
       "                                            time_lst  time_num  \\\n",
       "0  [5.0, 6.0, 7.0, 8.0, 9.0, 10.0, 11.0, 12.0, 13...        10   \n",
       "1  [5.0, 6.0, 7.0, 8.0, 9.0, 10.0, 11.0, 12.0, 13...        36   \n",
       "\n",
       "   colloid_bolus_hourly  \n",
       "0             50.000000  \n",
       "1             13.888889  "
      ]
     },
     "execution_count": 8,
     "metadata": {},
     "output_type": "execute_result"
    }
   ],
   "source": [
    "df_fluid = pd.read_csv(\"./aumc_fluidbanlance.csv\")"
   ]
  },
  {
   "cell_type": "code",
   "execution_count": 9,
   "id": "fcf4a5fd",
   "metadata": {
    "ExecuteTime": {
     "end_time": "2023-05-05T12:38:16.322470Z",
     "start_time": "2023-05-05T12:37:02.405669Z"
    },
    "run_control": {
     "marked": false
    }
   },
   "outputs": [
    {
     "name": "stderr",
     "output_type": "stream",
     "text": [
      "/home/hanl/miniconda3/envs/mytensor/lib/python3.9/site-packages/ipykernel/ipkernel.py:287: DeprecationWarning: `should_run_async` will not call `transform_cell` automatically in the future. Please pass the result to `transformed_cell` argument and any exception that happen during thetransform in `preprocessing_exc_tuple` in IPython 7.17 and above.\n",
      "  and should_run_async(code)\n",
      "/home/hanl/miniconda3/envs/mytensor/lib/python3.9/site-packages/pandas/core/series.py:4138: DeprecationWarning: The default dtype for empty Series will be 'object' instead of 'float64' in a future version. Specify a dtype explicitly to silence this warning.\n",
      "  mapped = lib.map_infer(values, f, convert=convert_dtype)\n"
     ]
    }
   ],
   "source": [
    "df_fluid[\"time_lst\"] = df_fluid.apply(lambda x: dateHourRange(x['starttime'],x['endtime']),axis=1)\n",
    "df_fluid[\"time_num\"] = df_fluid[\"time_lst\"].map(lambda x: len(x))\n",
    "df_fluid[\"colloid_bolus_hourly\"] =  df_fluid[\"colloid_bolus\"]/df_fluid[\"time_num\"] \n",
    "\n",
    "df_fluid['idx'] = range(len(df_fluid))\n",
    "tem_add = df_fluid.set_index('idx').time_lst.apply(pd.Series).stack().reset_index(level=0).rename(columns={0:'charttime'})\n",
    "df_fluid_hourly = pd.merge(df_fluid, tem_add, how=\"inner\", on=\"idx\")"
   ]
  },
  {
   "cell_type": "code",
   "execution_count": 10,
   "id": "4468bbef",
   "metadata": {
    "ExecuteTime": {
     "end_time": "2023-05-05T12:38:32.597868Z",
     "start_time": "2023-05-05T12:38:16.323735Z"
    }
   },
   "outputs": [
    {
     "name": "stderr",
     "output_type": "stream",
     "text": [
      "/home/hanl/miniconda3/envs/mytensor/lib/python3.9/site-packages/ipykernel/ipkernel.py:287: DeprecationWarning: `should_run_async` will not call `transform_cell` automatically in the future. Please pass the result to `transformed_cell` argument and any exception that happen during thetransform in `preprocessing_exc_tuple` in IPython 7.17 and above.\n",
      "  and should_run_async(code)\n"
     ]
    },
    {
     "data": {
      "text/html": [
       "<div>\n",
       "<style scoped>\n",
       "    .dataframe tbody tr th:only-of-type {\n",
       "        vertical-align: middle;\n",
       "    }\n",
       "\n",
       "    .dataframe tbody tr th {\n",
       "        vertical-align: top;\n",
       "    }\n",
       "\n",
       "    .dataframe thead th {\n",
       "        text-align: right;\n",
       "    }\n",
       "</style>\n",
       "<table border=\"1\" class=\"dataframe\">\n",
       "  <thead>\n",
       "    <tr style=\"text-align: right;\">\n",
       "      <th></th>\n",
       "      <th>stay_id</th>\n",
       "      <th>fluid_starttime</th>\n",
       "      <th>fluid_endtime</th>\n",
       "      <th>colloid_bolus</th>\n",
       "      <th>rate</th>\n",
       "      <th>colloid_bolus_hourly</th>\n",
       "      <th>charttime</th>\n",
       "    </tr>\n",
       "  </thead>\n",
       "  <tbody>\n",
       "    <tr>\n",
       "      <th>0</th>\n",
       "      <td>0</td>\n",
       "      <td>5</td>\n",
       "      <td>14</td>\n",
       "      <td>500.0</td>\n",
       "      <td>65.0</td>\n",
       "      <td>50.0</td>\n",
       "      <td>5.0</td>\n",
       "    </tr>\n",
       "    <tr>\n",
       "      <th>1</th>\n",
       "      <td>0</td>\n",
       "      <td>5</td>\n",
       "      <td>14</td>\n",
       "      <td>500.0</td>\n",
       "      <td>65.0</td>\n",
       "      <td>50.0</td>\n",
       "      <td>6.0</td>\n",
       "    </tr>\n",
       "  </tbody>\n",
       "</table>\n",
       "</div>"
      ],
      "text/plain": [
       "   stay_id  fluid_starttime  fluid_endtime  colloid_bolus  rate  \\\n",
       "0        0                5             14          500.0  65.0   \n",
       "1        0                5             14          500.0  65.0   \n",
       "\n",
       "   colloid_bolus_hourly  charttime  \n",
       "0                  50.0        5.0  \n",
       "1                  50.0        6.0  "
      ]
     },
     "execution_count": 10,
     "metadata": {},
     "output_type": "execute_result"
    }
   ],
   "source": [
    "df_fluid_hourly = df_fluid_hourly[['stay_id', 'starttime', 'endtime', 'colloid_bolus', 'rate', 'colloid_bolus_hourly',  'charttime']]\n",
    "df_fluid_hourly = df_fluid_hourly.rename(columns={\"starttime\":\"fluid_starttime\",\"endtime\":\"fluid_endtime\"})\n",
    "df_fluid_hourly.to_csv(\"./fluid_hourly.csv\",index=False)\n",
    "df_fluid_hourly.head(2)"
   ]
  },
  {
   "cell_type": "code",
   "execution_count": null,
   "id": "debb1b22",
   "metadata": {},
   "outputs": [],
   "source": []
  }
 ],
 "metadata": {
  "kernelspec": {
   "display_name": "Python [conda env:mytensor]",
   "language": "python",
   "name": "conda-env-mytensor-py"
  },
  "language_info": {
   "codemirror_mode": {
    "name": "ipython",
    "version": 3
   },
   "file_extension": ".py",
   "mimetype": "text/x-python",
   "name": "python",
   "nbconvert_exporter": "python",
   "pygments_lexer": "ipython3",
   "version": "3.9.12"
  },
  "toc": {
   "base_numbering": 1,
   "nav_menu": {},
   "number_sections": true,
   "sideBar": true,
   "skip_h1_title": false,
   "title_cell": "Table of Contents",
   "title_sidebar": "Contents",
   "toc_cell": false,
   "toc_position": {},
   "toc_section_display": true,
   "toc_window_display": false
  },
  "varInspector": {
   "cols": {
    "lenName": 16,
    "lenType": 16,
    "lenVar": 40
   },
   "kernels_config": {
    "python": {
     "delete_cmd_postfix": "",
     "delete_cmd_prefix": "del ",
     "library": "var_list.py",
     "varRefreshCmd": "print(var_dic_list())"
    },
    "r": {
     "delete_cmd_postfix": ") ",
     "delete_cmd_prefix": "rm(",
     "library": "var_list.r",
     "varRefreshCmd": "cat(var_dic_list()) "
    }
   },
   "types_to_exclude": [
    "module",
    "function",
    "builtin_function_or_method",
    "instance",
    "_Feature"
   ],
   "window_display": false
  }
 },
 "nbformat": 4,
 "nbformat_minor": 5
}
