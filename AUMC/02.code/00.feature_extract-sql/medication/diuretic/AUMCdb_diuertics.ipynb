{
 "cells": [
  {
   "cell_type": "code",
   "execution_count": 1,
   "id": "96a258ba",
   "metadata": {
    "ExecuteTime": {
     "end_time": "2023-07-10T12:06:45.009122Z",
     "start_time": "2023-07-10T12:06:44.338784Z"
    }
   },
   "outputs": [],
   "source": [
    "import amsterdamumcdb\n",
    "import random\n",
    "import pandas as pd\n",
    "import pandas as pd\n",
    "pd.set_option('display.max_rows', 2000)\n",
    "pd.set_option('display.max_columns', 100)\n",
    "df = amsterdamumcdb.get_dictionary()"
   ]
  },
  {
   "cell_type": "code",
   "execution_count": 2,
   "id": "1fcb2d5d",
   "metadata": {
    "ExecuteTime": {
     "end_time": "2023-07-10T12:06:59.785486Z",
     "start_time": "2023-07-10T12:06:45.010657Z"
    },
    "scrolled": true
   },
   "outputs": [
    {
     "data": {
      "text/html": [
       "<div>\n",
       "<style scoped>\n",
       "    .dataframe tbody tr th:only-of-type {\n",
       "        vertical-align: middle;\n",
       "    }\n",
       "\n",
       "    .dataframe tbody tr th {\n",
       "        vertical-align: top;\n",
       "    }\n",
       "\n",
       "    .dataframe thead th {\n",
       "        text-align: right;\n",
       "    }\n",
       "</style>\n",
       "<table border=\"1\" class=\"dataframe\">\n",
       "  <thead>\n",
       "    <tr style=\"text-align: right;\">\n",
       "      <th></th>\n",
       "      <th>admissionid</th>\n",
       "      <th>orderid</th>\n",
       "      <th>ordercategoryid</th>\n",
       "      <th>ordercategory</th>\n",
       "      <th>itemid</th>\n",
       "      <th>item</th>\n",
       "      <th>isadditive</th>\n",
       "      <th>isconditional</th>\n",
       "      <th>rate</th>\n",
       "      <th>rateunit</th>\n",
       "      <th>rateunitid</th>\n",
       "      <th>ratetimeunitid</th>\n",
       "      <th>doserateperkg</th>\n",
       "      <th>dose</th>\n",
       "      <th>doseunit</th>\n",
       "      <th>doserateunit</th>\n",
       "      <th>doseunitid</th>\n",
       "      <th>doserateunitid</th>\n",
       "      <th>administered</th>\n",
       "      <th>administeredunit</th>\n",
       "      <th>administeredunitid</th>\n",
       "      <th>action</th>\n",
       "      <th>start</th>\n",
       "      <th>stop</th>\n",
       "      <th>duration</th>\n",
       "      <th>solutionitemid</th>\n",
       "      <th>solutionitem</th>\n",
       "      <th>solutionadministered</th>\n",
       "      <th>solutionadministeredunit</th>\n",
       "      <th>fluidin</th>\n",
       "      <th>iscontinuous</th>\n",
       "    </tr>\n",
       "  </thead>\n",
       "  <tbody>\n",
       "    <tr>\n",
       "      <th>0</th>\n",
       "      <td>0</td>\n",
       "      <td>1994485</td>\n",
       "      <td>15</td>\n",
       "      <td>Injecties Antimicrobiele middelen</td>\n",
       "      <td>9152</td>\n",
       "      <td>Cefazoline (Kefzol)</td>\n",
       "      <td>0</td>\n",
       "      <td>0</td>\n",
       "      <td>0.0</td>\n",
       "      <td>NaN</td>\n",
       "      <td>NaN</td>\n",
       "      <td>NaN</td>\n",
       "      <td>0</td>\n",
       "      <td>1.0</td>\n",
       "      <td>g</td>\n",
       "      <td>NaN</td>\n",
       "      <td>9</td>\n",
       "      <td>NaN</td>\n",
       "      <td>1.0</td>\n",
       "      <td>g</td>\n",
       "      <td>9</td>\n",
       "      <td>Nieuwe toediening</td>\n",
       "      <td>20100000</td>\n",
       "      <td>20160000</td>\n",
       "      <td>1</td>\n",
       "      <td>8987.0</td>\n",
       "      <td>NaCl 0,9% Medicatie</td>\n",
       "      <td>0.0</td>\n",
       "      <td>ml</td>\n",
       "      <td>0.0</td>\n",
       "      <td>0</td>\n",
       "    </tr>\n",
       "  </tbody>\n",
       "</table>\n",
       "</div>"
      ],
      "text/plain": [
       "   admissionid  orderid  ordercategoryid                      ordercategory  \\\n",
       "0            0  1994485               15  Injecties Antimicrobiele middelen   \n",
       "\n",
       "   itemid                 item  isadditive  isconditional  rate rateunit  \\\n",
       "0    9152  Cefazoline (Kefzol)           0              0   0.0      NaN   \n",
       "\n",
       "   rateunitid  ratetimeunitid  doserateperkg  dose doseunit doserateunit  \\\n",
       "0         NaN             NaN              0   1.0        g          NaN   \n",
       "\n",
       "   doseunitid  doserateunitid  administered administeredunit  \\\n",
       "0           9             NaN           1.0                g   \n",
       "\n",
       "   administeredunitid             action     start      stop  duration  \\\n",
       "0                   9  Nieuwe toediening  20100000  20160000         1   \n",
       "\n",
       "   solutionitemid         solutionitem  solutionadministered  \\\n",
       "0          8987.0  NaCl 0,9% Medicatie                   0.0   \n",
       "\n",
       "  solutionadministeredunit  fluidin  iscontinuous  \n",
       "0                       ml      0.0             0  "
      ]
     },
     "execution_count": 2,
     "metadata": {},
     "output_type": "execute_result"
    }
   ],
   "source": [
    "df_drug = pd.read_csv(\"../../raw/AmsterdamUMCdb-v1/drugitems.csv\", encoding='ISO-8859-1')\n",
    "df_drug.head(1)"
   ]
  },
  {
   "attachments": {
    "image.png": {
     "image/png": "[encoded data removed]"
    }
   },
   "cell_type": "markdown",
   "id": "5b15a12c",
   "metadata": {
    "ExecuteTime": {
     "end_time": "2023-07-10T11:38:21.230652Z",
     "start_time": "2023-07-10T11:38:21.229159Z"
    }
   },
   "source": [
    "- 7244 Furosemide (Lasix)\n",
    "- 6882 Bumetanide (Burinex)\n",
    "![image.png](attachment:image.png)"
   ]
  },
  {
   "cell_type": "code",
   "execution_count": 3,
   "id": "e2b48d87",
   "metadata": {
    "ExecuteTime": {
     "end_time": "2023-07-10T12:06:59.851217Z",
     "start_time": "2023-07-10T12:06:59.787046Z"
    }
   },
   "outputs": [
    {
     "data": {
      "text/html": [
       "<div>\n",
       "<style scoped>\n",
       "    .dataframe tbody tr th:only-of-type {\n",
       "        vertical-align: middle;\n",
       "    }\n",
       "\n",
       "    .dataframe tbody tr th {\n",
       "        vertical-align: top;\n",
       "    }\n",
       "\n",
       "    .dataframe thead th {\n",
       "        text-align: right;\n",
       "    }\n",
       "</style>\n",
       "<table border=\"1\" class=\"dataframe\">\n",
       "  <thead>\n",
       "    <tr style=\"text-align: right;\">\n",
       "      <th></th>\n",
       "      <th>stay_id</th>\n",
       "      <th>ordercategory</th>\n",
       "      <th>drug</th>\n",
       "      <th>starttime</th>\n",
       "      <th>endtime</th>\n",
       "      <th>rate</th>\n",
       "      <th>duration</th>\n",
       "      <th>rateunit</th>\n",
       "      <th>administered</th>\n",
       "      <th>administeredunit</th>\n",
       "    </tr>\n",
       "  </thead>\n",
       "  <tbody>\n",
       "    <tr>\n",
       "      <th>202</th>\n",
       "      <td>4</td>\n",
       "      <td>Injecties Circulatie/Diuretica</td>\n",
       "      <td>Furosemide (Lasix)</td>\n",
       "      <td>2212.0</td>\n",
       "      <td>2213.0</td>\n",
       "      <td>0.0</td>\n",
       "      <td>1</td>\n",
       "      <td>NaN</td>\n",
       "      <td>20.0</td>\n",
       "      <td>mg</td>\n",
       "    </tr>\n",
       "    <tr>\n",
       "      <th>304</th>\n",
       "      <td>5</td>\n",
       "      <td>Injecties Circulatie/Diuretica</td>\n",
       "      <td>Furosemide (Lasix)</td>\n",
       "      <td>2570.0</td>\n",
       "      <td>2571.0</td>\n",
       "      <td>0.0</td>\n",
       "      <td>1</td>\n",
       "      <td>NaN</td>\n",
       "      <td>20.0</td>\n",
       "      <td>mg</td>\n",
       "    </tr>\n",
       "    <tr>\n",
       "      <th>553</th>\n",
       "      <td>8</td>\n",
       "      <td>Injecties Circulatie/Diuretica</td>\n",
       "      <td>Furosemide (Lasix)</td>\n",
       "      <td>523.0</td>\n",
       "      <td>524.0</td>\n",
       "      <td>0.0</td>\n",
       "      <td>1</td>\n",
       "      <td>NaN</td>\n",
       "      <td>20.0</td>\n",
       "      <td>mg</td>\n",
       "    </tr>\n",
       "    <tr>\n",
       "      <th>600</th>\n",
       "      <td>9</td>\n",
       "      <td>Injecties Circulatie/Diuretica</td>\n",
       "      <td>Furosemide (Lasix)</td>\n",
       "      <td>1225.0</td>\n",
       "      <td>1226.0</td>\n",
       "      <td>0.0</td>\n",
       "      <td>1</td>\n",
       "      <td>NaN</td>\n",
       "      <td>20.0</td>\n",
       "      <td>mg</td>\n",
       "    </tr>\n",
       "    <tr>\n",
       "      <th>601</th>\n",
       "      <td>9</td>\n",
       "      <td>Injecties Circulatie/Diuretica</td>\n",
       "      <td>Furosemide (Lasix)</td>\n",
       "      <td>1839.0</td>\n",
       "      <td>1840.0</td>\n",
       "      <td>0.0</td>\n",
       "      <td>1</td>\n",
       "      <td>NaN</td>\n",
       "      <td>20.0</td>\n",
       "      <td>mg</td>\n",
       "    </tr>\n",
       "  </tbody>\n",
       "</table>\n",
       "</div>"
      ],
      "text/plain": [
       "     stay_id                   ordercategory                drug  starttime  \\\n",
       "202        4  Injecties Circulatie/Diuretica  Furosemide (Lasix)     2212.0   \n",
       "304        5  Injecties Circulatie/Diuretica  Furosemide (Lasix)     2570.0   \n",
       "553        8  Injecties Circulatie/Diuretica  Furosemide (Lasix)      523.0   \n",
       "600        9  Injecties Circulatie/Diuretica  Furosemide (Lasix)     1225.0   \n",
       "601        9  Injecties Circulatie/Diuretica  Furosemide (Lasix)     1839.0   \n",
       "\n",
       "     endtime  rate  duration rateunit  administered administeredunit  \n",
       "202   2213.0   0.0         1      NaN          20.0               mg  \n",
       "304   2571.0   0.0         1      NaN          20.0               mg  \n",
       "553    524.0   0.0         1      NaN          20.0               mg  \n",
       "600   1226.0   0.0         1      NaN          20.0               mg  \n",
       "601   1840.0   0.0         1      NaN          20.0               mg  "
      ]
     },
     "execution_count": 3,
     "metadata": {},
     "output_type": "execute_result"
    }
   ],
   "source": [
    "df_diu = df_drug[df_drug[\"itemid\"].isin([7244, 6882])]\n",
    "df_diu = df_diu[['admissionid','ordercategory','item','start','stop','rate','duration',\"rateunit\", 'administered','administeredunit']]\n",
    "df_diu[\"start\"] = df_diu[\"start\"]/1000/60 # min\n",
    "df_diu[\"stop\"] = df_diu[\"stop\"]/1000/60 # min\n",
    "df_diu = df_diu.rename(columns={\"admissionid\":\"stay_id\",'start':'starttime','stop':'endtime','item':'drug'})\n",
    "df_diu.head()"
   ]
  },
  {
   "cell_type": "code",
   "execution_count": 4,
   "id": "5e9665a9",
   "metadata": {
    "ExecuteTime": {
     "end_time": "2023-07-10T12:07:00.102340Z",
     "start_time": "2023-07-10T12:06:59.852648Z"
    }
   },
   "outputs": [],
   "source": [
    "df_diu.to_csv(\"AUMCdb_diuretics.csv\",index=False)"
   ]
  },
  {
   "cell_type": "code",
   "execution_count": 5,
   "id": "fae2fe73",
   "metadata": {
    "ExecuteTime": {
     "end_time": "2023-07-10T12:07:35.665990Z",
     "start_time": "2023-07-10T12:07:35.662651Z"
    }
   },
   "outputs": [
    {
     "data": {
      "text/plain": [
       "'/public/hanl/jupyter_dir/database/AMUCdb/clean/medication'"
      ]
     },
     "execution_count": 5,
     "metadata": {},
     "output_type": "execute_result"
    }
   ],
   "source": [
    "pwd"
   ]
  }
 ],
 "metadata": {
  "kernelspec": {
   "display_name": "Python [conda env:sp_shock] *",
   "language": "python",
   "name": "conda-env-sp_shock-py"
  },
  "language_info": {
   "codemirror_mode": {
    "name": "ipython",
    "version": 3
   },
   "file_extension": ".py",
   "mimetype": "text/x-python",
   "name": "python",
   "nbconvert_exporter": "python",
   "pygments_lexer": "ipython3",
   "version": "3.9.5"
  },
  "toc": {
   "base_numbering": 1,
   "nav_menu": {},
   "number_sections": true,
   "sideBar": true,
   "skip_h1_title": false,
   "title_cell": "Table of Contents",
   "title_sidebar": "Contents",
   "toc_cell": false,
   "toc_position": {},
   "toc_section_display": true,
   "toc_window_display": false
  },
  "varInspector": {
   "cols": {
    "lenName": 16,
    "lenType": 16,
    "lenVar": 40
   },
   "kernels_config": {
    "python": {
     "delete_cmd_postfix": "",
     "delete_cmd_prefix": "del ",
     "library": "var_list.py",
     "varRefreshCmd": "print(var_dic_list())"
    },
    "r": {
     "delete_cmd_postfix": ") ",
     "delete_cmd_prefix": "rm(",
     "library": "var_list.r",
     "varRefreshCmd": "cat(var_dic_list()) "
    }
   },
   "types_to_exclude": [
    "module",
    "function",
    "builtin_function_or_method",
    "instance",
    "_Feature"
   ],
   "window_display": false
  }
 },
 "nbformat": 4,
 "nbformat_minor": 5
}
