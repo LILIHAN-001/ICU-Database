{
 "cells": [
  {
   "cell_type": "code",
   "execution_count": 2,
   "id": "2f4e721b",
   "metadata": {
    "ExecuteTime": {
     "end_time": "2023-11-08T06:59:44.234419Z",
     "start_time": "2023-11-08T06:59:37.711081Z"
    }
   },
   "outputs": [],
   "source": [
    "import amsterdamumcdb\n",
    "import random\n",
    "\n",
    "import pandas as pd\n",
    "pd.set_option('display.max_rows', 2000)\n",
    "pd.set_option('display.max_columns', 100)\n",
    "df = amsterdamumcdb.get_dictionary()"
   ]
  },
  {
   "cell_type": "code",
   "execution_count": 20,
   "id": "8d172c55",
   "metadata": {
    "ExecuteTime": {
     "end_time": "2023-11-08T07:28:23.575165Z",
     "start_time": "2023-11-08T07:28:23.560287Z"
    },
    "run_control": {
     "marked": true
    }
   },
   "outputs": [
    {
     "data": {
      "text/html": [
       "<div>\n",
       "<style scoped>\n",
       "    .dataframe tbody tr th:only-of-type {\n",
       "        vertical-align: middle;\n",
       "    }\n",
       "\n",
       "    .dataframe tbody tr th {\n",
       "        vertical-align: top;\n",
       "    }\n",
       "\n",
       "    .dataframe thead th {\n",
       "        text-align: right;\n",
       "    }\n",
       "</style>\n",
       "<table border=\"1\" class=\"dataframe\">\n",
       "  <thead>\n",
       "    <tr style=\"text-align: right;\">\n",
       "      <th></th>\n",
       "      <th>itemid</th>\n",
       "      <th>item</th>\n",
       "      <th>item_en</th>\n",
       "      <th>abbreviation</th>\n",
       "      <th>categoryid</th>\n",
       "      <th>category</th>\n",
       "      <th>category_en</th>\n",
       "      <th>ordercategoryid</th>\n",
       "      <th>ordercategory</th>\n",
       "      <th>islabresult</th>\n",
       "      <th>valueid</th>\n",
       "      <th>value</th>\n",
       "      <th>unitid</th>\n",
       "      <th>unit</th>\n",
       "      <th>low_normal_value</th>\n",
       "      <th>high_normal_value</th>\n",
       "      <th>table</th>\n",
       "      <th>count</th>\n",
       "      <th>count_validated</th>\n",
       "    </tr>\n",
       "  </thead>\n",
       "  <tbody>\n",
       "    <tr>\n",
       "      <th>4656</th>\n",
       "      <td>6811</td>\n",
       "      <td>Aciclovir (Zovirax)</td>\n",
       "      <td>NaN</td>\n",
       "      <td>Aciclovir</td>\n",
       "      <td>268</td>\n",
       "      <td>Medicatie</td>\n",
       "      <td>NaN</td>\n",
       "      <td>15.0</td>\n",
       "      <td>Injecties Antimicrobiele middelen</td>\n",
       "      <td>NaN</td>\n",
       "      <td>NaN</td>\n",
       "      <td>NaN</td>\n",
       "      <td>NaN</td>\n",
       "      <td>NaN</td>\n",
       "      <td>NaN</td>\n",
       "      <td>NaN</td>\n",
       "      <td>drugitems</td>\n",
       "      <td>7846</td>\n",
       "      <td>NaN</td>\n",
       "    </tr>\n",
       "  </tbody>\n",
       "</table>\n",
       "</div>"
      ],
      "text/plain": [
       "      itemid                 item item_en abbreviation  categoryid   category  \\\n",
       "4656    6811  Aciclovir (Zovirax)     NaN    Aciclovir         268  Medicatie   \n",
       "\n",
       "     category_en  ordercategoryid                      ordercategory  \\\n",
       "4656         NaN             15.0  Injecties Antimicrobiele middelen   \n",
       "\n",
       "      islabresult  valueid value  unitid unit low_normal_value  \\\n",
       "4656          NaN      NaN   NaN     NaN  NaN              NaN   \n",
       "\n",
       "     high_normal_value      table  count  count_validated  \n",
       "4656               NaN  drugitems   7846              NaN  "
      ]
     },
     "execution_count": 20,
     "metadata": {},
     "output_type": "execute_result"
    }
   ],
   "source": [
    "df_dict_filt = df[(df[\"table\"]==\"drugitems\") & (df[\"category\"]=='Medicatie') & df.ordercategory.isin(['Niet iv Antimicrobiele middelen','Injecties Antimicrobiele middelen'])]\n",
    "df_dict_filt = df_dict_filt[~df_dict_filt[\"item\"].str.contains('SDD')]\n",
    "df_dict_filt.head(1)"
   ]
  },
  {
   "cell_type": "code",
   "execution_count": 23,
   "id": "27a07ba0",
   "metadata": {
    "ExecuteTime": {
     "end_time": "2023-11-08T07:30:01.536803Z",
     "start_time": "2023-11-08T07:29:48.813313Z"
    }
   },
   "outputs": [
    {
     "data": {
      "text/html": [
       "<div>\n",
       "<style scoped>\n",
       "    .dataframe tbody tr th:only-of-type {\n",
       "        vertical-align: middle;\n",
       "    }\n",
       "\n",
       "    .dataframe tbody tr th {\n",
       "        vertical-align: top;\n",
       "    }\n",
       "\n",
       "    .dataframe thead th {\n",
       "        text-align: right;\n",
       "    }\n",
       "</style>\n",
       "<table border=\"1\" class=\"dataframe\">\n",
       "  <thead>\n",
       "    <tr style=\"text-align: right;\">\n",
       "      <th></th>\n",
       "      <th>admissionid</th>\n",
       "      <th>orderid</th>\n",
       "      <th>ordercategoryid</th>\n",
       "      <th>ordercategory</th>\n",
       "      <th>itemid</th>\n",
       "      <th>item</th>\n",
       "      <th>isadditive</th>\n",
       "      <th>isconditional</th>\n",
       "      <th>rate</th>\n",
       "      <th>rateunit</th>\n",
       "      <th>rateunitid</th>\n",
       "      <th>ratetimeunitid</th>\n",
       "      <th>doserateperkg</th>\n",
       "      <th>dose</th>\n",
       "      <th>doseunit</th>\n",
       "      <th>doserateunit</th>\n",
       "      <th>doseunitid</th>\n",
       "      <th>doserateunitid</th>\n",
       "      <th>administered</th>\n",
       "      <th>administeredunit</th>\n",
       "      <th>administeredunitid</th>\n",
       "      <th>action</th>\n",
       "      <th>start</th>\n",
       "      <th>stop</th>\n",
       "      <th>duration</th>\n",
       "      <th>solutionitemid</th>\n",
       "      <th>solutionitem</th>\n",
       "      <th>solutionadministered</th>\n",
       "      <th>solutionadministeredunit</th>\n",
       "      <th>fluidin</th>\n",
       "      <th>iscontinuous</th>\n",
       "    </tr>\n",
       "  </thead>\n",
       "  <tbody>\n",
       "    <tr>\n",
       "      <th>0</th>\n",
       "      <td>0</td>\n",
       "      <td>1994485</td>\n",
       "      <td>15</td>\n",
       "      <td>Injecties Antimicrobiele middelen</td>\n",
       "      <td>9152</td>\n",
       "      <td>Cefazoline (Kefzol)</td>\n",
       "      <td>0</td>\n",
       "      <td>0</td>\n",
       "      <td>0.0</td>\n",
       "      <td>NaN</td>\n",
       "      <td>NaN</td>\n",
       "      <td>NaN</td>\n",
       "      <td>0</td>\n",
       "      <td>1.0</td>\n",
       "      <td>g</td>\n",
       "      <td>NaN</td>\n",
       "      <td>9</td>\n",
       "      <td>NaN</td>\n",
       "      <td>1.0</td>\n",
       "      <td>g</td>\n",
       "      <td>9</td>\n",
       "      <td>Nieuwe toediening</td>\n",
       "      <td>20100000</td>\n",
       "      <td>20160000</td>\n",
       "      <td>1</td>\n",
       "      <td>8987.0</td>\n",
       "      <td>NaCl 0,9% Medicatie</td>\n",
       "      <td>0.0</td>\n",
       "      <td>ml</td>\n",
       "      <td>0.0</td>\n",
       "      <td>0</td>\n",
       "    </tr>\n",
       "  </tbody>\n",
       "</table>\n",
       "</div>"
      ],
      "text/plain": [
       "   admissionid  orderid  ordercategoryid                      ordercategory  \\\n",
       "0            0  1994485               15  Injecties Antimicrobiele middelen   \n",
       "\n",
       "   itemid                 item  isadditive  isconditional  rate rateunit  \\\n",
       "0    9152  Cefazoline (Kefzol)           0              0   0.0      NaN   \n",
       "\n",
       "   rateunitid  ratetimeunitid  doserateperkg  dose doseunit doserateunit  \\\n",
       "0         NaN             NaN              0   1.0        g          NaN   \n",
       "\n",
       "   doseunitid  doserateunitid  administered administeredunit  \\\n",
       "0           9             NaN           1.0                g   \n",
       "\n",
       "   administeredunitid             action     start      stop  duration  \\\n",
       "0                   9  Nieuwe toediening  20100000  20160000         1   \n",
       "\n",
       "   solutionitemid         solutionitem  solutionadministered  \\\n",
       "0          8987.0  NaCl 0,9% Medicatie                   0.0   \n",
       "\n",
       "  solutionadministeredunit  fluidin  iscontinuous  \n",
       "0                       ml      0.0             0  "
      ]
     },
     "execution_count": 23,
     "metadata": {},
     "output_type": "execute_result"
    }
   ],
   "source": [
    "df_drug = pd.read_csv(\"../../raw/AmsterdamUMCdb-v1/drugitems.csv\", encoding='ISO-8859-1')\n",
    "df_drug = df_drug[df_drug.itemid.isin(df_dict_filt.itemid.unique().tolist())]\n",
    "df_drug.head(1)"
   ]
  },
  {
   "cell_type": "code",
   "execution_count": 25,
   "id": "91a4ee91",
   "metadata": {
    "ExecuteTime": {
     "end_time": "2023-11-08T07:33:04.800378Z",
     "start_time": "2023-11-08T07:33:02.416646Z"
    }
   },
   "outputs": [],
   "source": [
    "df_anti = df_drug[['admissionid',  'itemid',\n",
    "       'item',  'rate', 'rateunit', 'doserateperkg', 'dose', 'doseunit', 'doserateunit',\n",
    "      'administered', 'administeredunit',\n",
    "       'administeredunitid', 'action', 'start', 'stop', 'duration',\n",
    "       'solutionitemid', 'solutionitem', 'solutionadministered',\n",
    "       'solutionadministeredunit', 'fluidin', 'iscontinuous']]\n",
    "df_anti.to_csv(\"antibiotics.csv\",index=False)"
   ]
  },
  {
   "cell_type": "code",
   "execution_count": null,
   "id": "66a6982f",
   "metadata": {},
   "outputs": [],
   "source": []
  },
  {
   "cell_type": "code",
   "execution_count": null,
   "id": "5985d9eb",
   "metadata": {},
   "outputs": [],
   "source": []
  }
 ],
 "metadata": {
  "kernelspec": {
   "display_name": "Python 3",
   "language": "python",
   "name": "python3"
  },
  "language_info": {
   "codemirror_mode": {
    "name": "ipython",
    "version": 3
   },
   "file_extension": ".py",
   "mimetype": "text/x-python",
   "name": "python",
   "nbconvert_exporter": "python",
   "pygments_lexer": "ipython3",
   "version": "3.9.5"
  },
  "toc": {
   "base_numbering": 1,
   "nav_menu": {},
   "number_sections": true,
   "sideBar": true,
   "skip_h1_title": false,
   "title_cell": "Table of Contents",
   "title_sidebar": "Contents",
   "toc_cell": false,
   "toc_position": {},
   "toc_section_display": true,
   "toc_window_display": false
  },
  "varInspector": {
   "cols": {
    "lenName": 16,
    "lenType": 16,
    "lenVar": 40
   },
   "kernels_config": {
    "python": {
     "delete_cmd_postfix": "",
     "delete_cmd_prefix": "del ",
     "library": "var_list.py",
     "varRefreshCmd": "print(var_dic_list())"
    },
    "r": {
     "delete_cmd_postfix": ") ",
     "delete_cmd_prefix": "rm(",
     "library": "var_list.r",
     "varRefreshCmd": "cat(var_dic_list()) "
    }
   },
   "types_to_exclude": [
    "module",
    "function",
    "builtin_function_or_method",
    "instance",
    "_Feature"
   ],
   "window_display": false
  }
 },
 "nbformat": 4,
 "nbformat_minor": 5
}
