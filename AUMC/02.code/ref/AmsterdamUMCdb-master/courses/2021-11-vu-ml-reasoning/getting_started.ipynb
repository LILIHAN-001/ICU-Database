{
 "cells": [
  {
   "cell_type": "markdown",
   "metadata": {
    "id": "wObiuw_qeCNN"
   },
   "source": [
    "<img src=\"https://github.com/AmsterdamUMC/AmsterdamUMCdb/blob/master/courses/2021-11-vu-ml-reasoning/vu.jpg?raw=1\" alt=\"Logo\" width=128px/>\n",
    "\n",
    "<img src=\"https://github.com/AmsterdamUMC/AmsterdamUMCdb/blob/master/img/logo_amds.png?raw=1\" alt=\"Logo\" width=128px/>\n",
    "\n",
    "# Machine Learning and Reasoning for Health - Vrije Universiteit Amsterdam\n",
    "## AmsterdamUMCdb - Freely Accessible ICU Database\n",
    "\n",
    "AmsterdamUMCdb version 1.0.2 March 2020  \n",
    "Copyright &copy; 2003-2021 Amsterdam UMC - Amsterdam Medical Data Science"
   ]
  },
  {
   "cell_type": "markdown",
   "metadata": {
    "id": "1PnaJ30vgG--"
   },
   "source": [
    "# Introduction\n",
    "To make the most of your time during the course, access to AmsterdamUMCdb will be provided using Google BigQuery with Google Colaboratory as the main coding environment. This removes the necessity to download AmsterdamUMCdb, setting up a database system and installing a coding environment.\n",
    "\n",
    "This tutorial for the course using AmsterdamUMCdb is based on the original Google BigQuery tutorial on [Colab](https://colab.research.google.com/notebooks/bigquery.ipynb)."
   ]
  },
  {
   "cell_type": "markdown",
   "metadata": {
    "id": "32awzQGzkIST"
   },
   "source": [
    "# Running Colab\n",
    "If not done already, please open Colab with this **getting_started** notebook from the official AmsterdamUMCdb GitHub repository: [![Open In Colab](https://colab.research.google.com/assets/colab-badge.svg)](https://colab.research.google.com/github/AmsterdamUMC/AmsterdamUMCdb/blob/master/courses/2021-11-vu-ml-reasoning/getting_started.ipynb)\n",
    "\n",
    "**Important**: when following this tutorial, make sure to follow *all* steps and to run the **code cells** using the **Play** button or by pressing `Ctrl-Enter`"
   ]
  },
  {
   "cell_type": "markdown",
   "metadata": {
    "id": "xZ1tnVEJftjU"
   },
   "source": [
    "# Before you Begin\n",
    "Ensure you have a working Google account and verify that the e-mail address used when registering for the course has been associated with this account. If you already have a Google account, you can add secondary e-mail adresses [here](https://myaccount.google.com/alternateemail), or alternatively create another Google account using the e-mail adress used during registration for the course.\n",
    "\n",
    "If you don't have any experience in using Jupyter notebooks and/or Python, it is recommended to familiarize yourself with the [basics](https://colab.research.google.com/notebooks/intro.ipynb).\n",
    "\n",
    "# Accessing the database\n",
    "Provided you have signed the end user license agreement, you will have access to the data from AmsterdamUMCdb through the Google Cloud Platform.\n",
    "\n",
    "To explore and query the database you need to create a Google Cloud Platform project. Users are offered a free tier of 1 TB (2<sup>40</sup> bytes) per month for queries and in addition \\$300 credit for free for use on the Google Cloud Platform (currently: \\$6.00 per TB). In the unlikely event this is not sufficient, please contact us and we will work with you to find a solution.\n",
    "\n",
    "# Signing up for Google Cloud Platform\n",
    "- To sign up for the free tier and free credits, please visit the Google Cloud Platform: https://cloud.google.com/.\n",
    "- Click **Get started for free**.\n",
    "- Log in with the Google account you used when registering for the course.\n",
    "- In Step 1 of 2: agree to the **Terms of Service** and select **Continue**. \n",
    "- In Step 2 of 2: You will be required to add some additional information, including a payment method to make sure you are not a robot. Don't worry you won't be charged unless you manually upgrade to a paid account. Depending on your payment provider, you may have an additional step to verify the payment method.\n",
    "- Finally press **Start my free trial**. You are good to go.\n",
    "\n",
    "# Retrieving your Google Cloud Project ID\n",
    "- At the top of the screen, select **My First Project** or [create a new one](https://console.cloud.google.com/projectcreate). Please write down the Project ID in the cell below (\"Insert text here\") and **Run** the cell to store the value."
   ]
  },
  {
   "cell_type": "code",
   "execution_count": null,
   "metadata": {
    "cellView": "form",
    "id": "hQnpY5Kpm5rT"
   },
   "outputs": [],
   "source": [
    "#sets the project id\n",
    "PROJECT_ID = \"\" #@param {type:\"string\"}"
   ]
  },
  {
   "cell_type": "markdown",
   "metadata": {
    "id": "PB_NEmEZtLpg"
   },
   "source": [
    "# Provide your credentials to access the AmsterdamUMCdb dataset on Google BigQuery\n",
    "Authenticate your credentials with Google Cloud Platform and set your default Google Cloud Project ID as an environment variable for running query jobs. Run the cell, follow the generated link, and paste the verification code in the provided box:"
   ]
  },
  {
   "cell_type": "code",
   "execution_count": null,
   "metadata": {
    "id": "v0L2i-Nnp7_R"
   },
   "outputs": [],
   "source": [
    "import os\n",
    "from google.colab import auth\n",
    " \n",
    "#sets dateset\n",
    "DATASET_PROJECT_ID = 'amsterdamumcdb'\n",
    "DATASET_ID = 'version1_0_2'\n",
    "LOCATION = 'eu'\n",
    " \n",
    "#all libraries check this environment variable, so set it:\n",
    "os.environ[\"GOOGLE_CLOUD_PROJECT\"] = PROJECT_ID\n",
    " \n",
    "auth.authenticate_user()\n",
    "print('Authenticated')"
   ]
  },
  {
   "cell_type": "markdown",
   "metadata": {
    "id": "-PV_G3CkZsDX"
   },
   "source": [
    "# Google BigQuery costs\n",
    "Since BiqQuery uses a [columnar data structure](https://en.wikipedia.org/wiki/Column-oriented_DBMS), Google will charge you according to the columns selected and the size of the data in those columns. Especially in the data exploration phase, it is prudent to query only the columns you will be actually needing for the analysis.\n",
    "\n",
    "`SELECT * FROM numericitems` will process about 86 GiB GiB data, where as\n",
    "\n",
    "`SELECT admissionid, itemid, value, unitid, measuredat FROM numericitems` will process 36 GiB.\n",
    "\n",
    "**Important**: `LIMIT` or `WHERE` clauses do not have **any** effect on reducing the amount of data processed, and thus charged. These clauses will only limit the number of records returned by the query.\n",
    "\n",
    "# Available documentation for AmsterdamUMCdb tables.\n",
    "Additional information including sample Python code in Jupyter Notebooks and [SQL](https://github.com/AmsterdamUMC/AmsterdamUMCdb/tree/master/amsterdamumcdb/sql) is available from the official [AmsterdamUMCdb GitHub repository](https://github.com/AmsterdamUMC/AmsterdamUMCdb) and [wiki](https://github.com/AmsterdamUMC/AmsterdamUMCdb/wiki). \n",
    "\n",
    "Table | Wiki | Example code\n",
    ":- | :--| -:\n",
    "admissions|https://github.com/AmsterdamUMC/AmsterdamUMCdb/wiki/admissions | [![Open In Colab](https://colab.research.google.com/assets/colab-badge.svg)](https://colab.research.google.com/github/AmsterdamUMC/AmsterdamUMCdb/blob/master/tables/admissions.ipynb) \n",
    "drugitems|https://github.com/AmsterdamUMC/AmsterdamUMCdb/wiki/drugitems|[![Open In Colab](https://colab.research.google.com/assets/colab-badge.svg)](https://colab.research.google.com/github/AmsterdamUMC/AmsterdamUMCdb/blob/master/tables/drugitems.ipynb) \n",
    "freetextitems|https://github.com/AmsterdamUMC/AmsterdamUMCdb/wiki/freetextitems|[![Open In Colab](https://colab.research.google.com/assets/colab-badge.svg)](https://colab.research.google.com/github/AmsterdamUMC/AmsterdamUMCdb/blob/master/tables/freetextitems.ipynb)\n",
    "listitems|https://github.com/AmsterdamUMC/AmsterdamUMCdb/wiki/lisitems|[![Open In Colab](https://colab.research.google.com/assets/colab-badge.svg)](https://colab.research.google.com/github/AmsterdamUMC/AmsterdamUMCdb/blob/master/tables/listitems.ipynb)\n",
    "numericitems|https://github.com/AmsterdamUMC/AmsterdamUMCdb/wiki/numericitems|[![Open In Colab](https://colab.research.google.com/assets/colab-badge.svg)](https://colab.research.google.com/github/AmsterdamUMC/AmsterdamUMCdb/blob/master/tables/numericitems.ipynb)\n",
    "procedureorderitems|https://github.com/AmsterdamUMC/AmsterdamUMCdb/wiki/procedureorderitems|[![Open In Colab](https://colab.research.google.com/assets/colab-badge.svg)](https://colab.research.google.com/github/AmsterdamUMC/AmsterdamUMCdb/blob/master/tables/procedureorderitems.ipynb)\n",
    "processitems|https://github.com/AmsterdamUMC/AmsterdamUMCdb/wiki/processitems|[![Open In Colab](https://colab.research.google.com/assets/colab-badge.svg)](https://colab.research.google.com/github/AmsterdamUMC/AmsterdamUMCdb/blob/master/tables/processitems.ipynb)\n",
    "\n",
    "**Note**: In contrast to the publicly available version of AmsterdamUMCdb, we have created a copy of both the `listitems` and `numericitems` tables that contain only *validated* data (`registeredby IS NOT NULL`): `listitems_validated` and `numericitems_validated`. You may consider using only the validated data to reduce query costs when unvalidated device data is not needed. However, depending on the chosen solution, you may need to use the original table.\n",
    "\n",
    "For example, `SELECT admissionid, itemid, value, unitid, measuredat FROM numericitems_validated` will process 2.5 GiB instead of 36 GiB."
   ]
  },
  {
   "cell_type": "markdown",
   "metadata": {
    "id": "UMKGkkZEPVRu"
   },
   "source": [
    "# Enable data table display\n",
    "\n",
    "Colab includes the `google.colab.data_table` package that can be used to display Pandas dataframes as an interactive data table (limitations: `max_rows = 20000`, `max_columns = 20`). This is especially useful when exploring the  tables or dictionary from AmsterdamUMCdb. It can be enabled with:"
   ]
  },
  {
   "cell_type": "code",
   "execution_count": null,
   "metadata": {
    "id": "LMNA-vBHPyHz"
   },
   "outputs": [],
   "source": [
    "%load_ext google.colab.data_table"
   ]
  },
  {
   "cell_type": "markdown",
   "metadata": {
    "id": "F8Q_gnmFwyxW"
   },
   "source": [
    "# Running your first query on AmsterdamUMCdb\n",
    "BigQuery provides different ways to query the dataset:\n",
    "- **magics**: the `google.cloud.bigquery` library  includes a *magic* command which runs a query and either displays the result or saves it to a Pandas DataFrame`. The main advantage of this technique is that it improves readability of SQL code by syntax highlighting. Its main limitation: it requires a separate cell for the query, so cannot be combined with other Python code in the same code cell.\n",
    "\n",
    "Let's query the `admissions` table using magics."
   ]
  },
  {
   "cell_type": "markdown",
   "metadata": {
    "id": "Z7XIzHD3SMpc"
   },
   "source": [
    "## Set the default query job configuration for magics"
   ]
  },
  {
   "cell_type": "code",
   "execution_count": null,
   "metadata": {
    "id": "MC7nOYOCKFvQ"
   },
   "outputs": [],
   "source": [
    "from google.cloud.bigquery import magics\n",
    "from google.cloud import bigquery\n",
    "\n",
    "#sets the default query job configuration\n",
    "def_config = bigquery.job.QueryJobConfig(default_dataset=DATASET_PROJECT_ID + \".\" + DATASET_ID)\n",
    "magics.context.default_query_job_config = def_config\n",
    "\n",
    "#sets client options job configuration\n",
    "client_options = {}\n",
    "client_options['location'] = LOCATION\n",
    "magics.context.bigquery_client_options = client_options"
   ]
  },
  {
   "cell_type": "markdown",
   "metadata": {
    "id": "H9wwX7aO0ROL"
   },
   "source": [
    "## Query the admission table and copy the data to the `admissions` Pandas dataframe:\n",
    "\n",
    "The admissions table contains the ICU admissions of all patients in AmsterdamUMCdb. More information can be found here: [![Open In Colab](https://colab.research.google.com/assets/colab-badge.svg)](https://colab.research.google.com/github/AmsterdamUMC/AmsterdamUMCdb/blob/master/tables/admissions.ipynb)\n",
    "\n",
    "Since this is a relatively small table, it is acceptable to use `SELECT *`. "
   ]
  },
  {
   "cell_type": "code",
   "execution_count": null,
   "metadata": {
    "id": "cLh05lDpJ4wj"
   },
   "outputs": [],
   "source": [
    "%%bigquery admissions\n",
    "SELECT * FROM admissions"
   ]
  },
  {
   "cell_type": "markdown",
   "metadata": {
    "id": "zbvWkl5p0ERl"
   },
   "source": [
    "## Display the first 1000 rows of the `admissions` dataframe."
   ]
  },
  {
   "cell_type": "code",
   "execution_count": null,
   "metadata": {
    "id": "xgopBClCKs_0"
   },
   "outputs": [],
   "source": [
    "admissions.head(1000)"
   ]
  },
  {
   "cell_type": "markdown",
   "metadata": {
    "id": "fkhbyGaXKs_6"
   },
   "source": [
    "# Query AmsterdamUMCdb through google-cloud-bigquery\n",
    "\n",
    "Alternatively, we can manually invoke the `bigquery` Python module. The examples used the previously entered `PROJECT_ID`.\n",
    "\n",
    "See [BigQuery documentation](https://cloud.google.com/bigquery/docs) and [library reference documentation](https://googlecloudplatform.github.io/google-cloud-python/latest/bigquery/usage.html)."
   ]
  },
  {
   "cell_type": "markdown",
   "metadata": {
    "id": "UFVuZjtNTKI9"
   },
   "source": [
    "## Set the default query job configuration for google-cloud-bigquery client"
   ]
  },
  {
   "cell_type": "code",
   "execution_count": null,
   "metadata": {
    "id": "alCUc9QYTGQT"
   },
   "outputs": [],
   "source": [
    "from google.cloud import bigquery\n",
    "\n",
    "#BigQuery requires a separate config to prevent the 'BadRequest: 400 Cannot explicitly modify anonymous table' error message\n",
    "job_config = bigquery.job.QueryJobConfig()\n",
    "\n",
    "#sets default client settings by re-using the previously defined config\n",
    "client = bigquery.Client(project=PROJECT_ID, location=LOCATION, default_query_job_config=def_config)"
   ]
  },
  {
   "cell_type": "markdown",
   "metadata": {
    "id": "lK-9fSClKtAB"
   },
   "source": [
    "## Get all patients and group by age group"
   ]
  },
  {
   "cell_type": "code",
   "execution_count": null,
   "metadata": {
    "id": "ONI1Xo0-KtAD"
   },
   "outputs": [],
   "source": [
    "age_groups = client.query(\n",
    "    '''\n",
    "    SELECT \n",
    "      agegroup\n",
    "      , COUNT(*) AS number_of_admissions -- COUNT(*) counts everything including NULL\n",
    "    FROM admissions\n",
    "    GROUP BY agegroup\n",
    "    ORDER BY agegroup ASC\n",
    "    '''\n",
    "    , job_config=job_config).to_dataframe()\n",
    "\n",
    "age_groups"
   ]
  },
  {
   "cell_type": "markdown",
   "metadata": {
    "id": "Bu2C7iWMKtAM"
   },
   "source": [
    "## Show a plot\n",
    "Uses the Pandas built-in functions to plot a bar chart."
   ]
  },
  {
   "cell_type": "code",
   "execution_count": null,
   "metadata": {
    "id": "IDHAGsRN7xhX"
   },
   "outputs": [],
   "source": [
    "# modifies the pyplot back-end of Pandas to increase render resolution\n",
    "import matplotlib.pyplot as plt\n",
    "plt.style.use('seaborn-darkgrid')\n",
    "plt.rcParams[\"figure.dpi\"] = 144\n",
    "\n",
    "age_groups.plot(kind='bar', x='agegroup')"
   ]
  },
  {
   "cell_type": "markdown",
   "metadata": {
    "id": "oKNxsRvuKtAz"
   },
   "source": [
    "# Query AmsterdamUMCdb through pandas-gbq\n",
    "\n",
    "The third option is to to query the dataset using the Pandas `pandas-gbq` library. Especially when you are familiar with the `pandas.read_sql` function, it's relatively straightforward to modify your existing code to be compatible with BigQuery.\n",
    "\n",
    "[Pandas GBQ Documentation](https://pandas.pydata.org/pandas-docs/stable/generated/pandas.read_gbq.html)"
   ]
  },
  {
   "cell_type": "markdown",
   "metadata": {
    "id": "jiLDjtXhVUQr"
   },
   "source": [
    "## Set the default query job configuration for pandas-gbq"
   ]
  },
  {
   "cell_type": "code",
   "execution_count": null,
   "metadata": {
    "id": "r2SfaHSCTyWT"
   },
   "outputs": [],
   "source": [
    "import pandas as pd\n",
    "\n",
    "config_gbq = {'query': \n",
    "          {'defaultDataset': {\n",
    "              \"datasetId\": DATASET_ID, \n",
    "              \"projectId\": DATASET_PROJECT_ID\n",
    "              },\n",
    "           'Location': LOCATION}\n",
    "           }"
   ]
  },
  {
   "cell_type": "markdown",
   "metadata": {
    "id": "EugFLkz8pBHC"
   },
   "source": [
    "## Retrieve the medical specialty associated with each admission"
   ]
  },
  {
   "cell_type": "code",
   "execution_count": null,
   "metadata": {
    "id": "ACMiQMFdv4Bh"
   },
   "outputs": [],
   "source": [
    "specialties = pd.read_gbq(\n",
    "    '''\n",
    "    SELECT specialty, COUNT(*) AS number_of_admissions\n",
    "    FROM admissions\n",
    "    GROUP BY specialty\n",
    "    ORDER BY number_of_admissions DESC \n",
    "    '''\n",
    "    , configuration=config_gbq)\n",
    "specialties.plot(kind='bar', x='specialty')"
   ]
  },
  {
   "cell_type": "markdown",
   "metadata": {
    "id": "VsuwBUtrg5a8"
   },
   "source": [
    "# The challenges\n",
    "## Track 1: Acute Kidney Injury: avoidable loss?\n",
    "[Acute kidney injury (AKI)](https://en.wikipedia.org/wiki/Acute_kidney_injury) developed during critical illness is associated with worse outcomes. Treatment strategies are often directed at attempting to increase the perfusion of the kidneys by either intravenous fluids and/or vasopressors. However, both have known serious side-effects. Clinical questions might include: Who will get it and when? Is it avoidable? Can we reduce acute kidney injury by tailored combinations of fluids and/or vasopressors?\n",
    "\n",
    "## Track 2: Steroids: Should I, shouldn’t I?\n",
    "The debate about steroids in sepsis and septic shock will probably go on forever. In this track, teams are asked to look at their use and impact. Questions might address issues such as how well do they actually work? When should they be started, at what dose and in who? RCTs address the population- but can you use data to address the individual?\n",
    "\n",
    "## Track 3: Mechanical ventilation: the lower the better?\n",
    "Mechanical ventilation can be life-saving for patients suffering from respiratory failure. However, mechanical ventilation may lead to ventilator induced lung injury (VILI) so current guidelines for patients with [Acute Respiratory Distress Syndrome (ARDS)](https://en.wikipedia.org/wiki/Acute_respiratory_distress_syndrome) advice to use ventilation with low tidal volumes (6 ml/kg ideal body weight). How low can we go? Do all patients require the same low settings? Do the settings for ventilation (tidal volume/Pressure above PEEP/respiratory rate) have priority over those for oxygenation (PEEP/FIO2)?"
   ]
  },
  {
   "cell_type": "markdown",
   "metadata": {
    "id": "aa5jI637xCvH"
   },
   "source": [
    "# Getting the data you need\n",
    "The `amsterdamumcdb` package provides the `get_dictionary()` function that returns a DataFrame containing all items and itemids in AmsterdamUMCdb. In combination with BiqQuery DataTables, it's possible to quickly locate an item of interest. Since AmsterdamUMCdb originated from a real Dutch ICU database, the original item names are in Dutch. For common ICU parameters, translations have been provided. Full mapping to [LOINC](https://decor.nictiz.nl/art-decor/loinc) and [SNOMED CT](https://decor.nictiz.nl/art-decor/snomed-ct) is currently in progress, but we are happy to take [pull requests](https://github.com/AmsterdamUMC/AmsterdamUMCdb/pulls) for the [dictionary.csv](https://github.com/AmsterdamUMC/AmsterdamUMCdb/blob/master/amsterdamumcdb/dictionary/dictionary.csv) file, if you have any improvements to the file."
   ]
  },
  {
   "cell_type": "markdown",
   "metadata": {
    "id": "riKnnGLe0ynk"
   },
   "source": [
    "## Install the AmsterdamUMCdb package"
   ]
  },
  {
   "cell_type": "code",
   "execution_count": null,
   "metadata": {
    "id": "kefpJwsNZ0sf"
   },
   "outputs": [],
   "source": [
    "#get the amsterdamumcdb package from PiPy repository for use in Colab\n",
    "!pip install amsterdamumcdb\n",
    "import amsterdamumcdb as adb"
   ]
  },
  {
   "cell_type": "markdown",
   "metadata": {
    "id": "csx_BSWT1Uil"
   },
   "source": [
    "## Load the AmsterdamUMCdb dictionary. \n",
    "Use the **Filter** button to quickly browse through the dictionary."
   ]
  },
  {
   "cell_type": "code",
   "execution_count": null,
   "metadata": {
    "id": "KVbGQ9ubvf_R"
   },
   "outputs": [],
   "source": [
    "dictionary = adb.get_dictionary()\n",
    "dictionary"
   ]
  },
  {
   "cell_type": "markdown",
   "metadata": {
    "id": "rDJ5CfRK3NBm"
   },
   "source": [
    "## Example: Acute kidney injury: creatinine\n",
    "Creatinine, a laboratory measurement that reflects under specific circumstances kidney function, can be found in the `numericitems` table. More information on `numericitems`:  [![Open In Colab](https://colab.research.google.com/assets/colab-badge.svg)](https://colab.research.google.com/github/AmsterdamUMC/AmsterdamUMCdb/blob/master/tables/numericitems.ipynb)\n",
    "\n",
    "Since this is a large table, it is highly recommended to only process the required columns or use the `numericitems_validated` table. \n",
    "\n",
    "**Note:** Since all laboratory values are by definition 'validated' (either manually or by the laboratory system), both tables contain the same lab records."
   ]
  },
  {
   "cell_type": "markdown",
   "metadata": {
    "id": "u85mBlSx_lgm"
   },
   "source": [
    "### Get all creatinine itemids"
   ]
  },
  {
   "cell_type": "code",
   "execution_count": null,
   "metadata": {
    "id": "xYID1Df_YZ0I"
   },
   "outputs": [],
   "source": [
    "dictionary[dictionary['item'].str.contains(r'[ck]reat', regex=True, case=False)]"
   ]
  },
  {
   "cell_type": "markdown",
   "metadata": {
    "id": "zB8EEALbY5pH"
   },
   "source": [
    "### Get creatinine values for all patients"
   ]
  },
  {
   "cell_type": "code",
   "execution_count": null,
   "metadata": {
    "id": "dWf7KIxjKtA0"
   },
   "outputs": [],
   "source": [
    "creat = pd.read_gbq(\n",
    "    '''\n",
    "    SELECT \n",
    "        admissionid\n",
    "        , itemid\n",
    "        , value\n",
    "        , unitid\n",
    "        , measuredat\n",
    "        , registeredby\n",
    "    FROM numericitems_validated\n",
    "    WHERE itemid IN (\n",
    "        6836  --Kreatinine\n",
    "        , 9941  --Kreatinine (bloed)\n",
    "        , 14216  --KREAT enzym. (bloed)\n",
    "    )\n",
    "    '''\n",
    "    , configuration=config_gbq)\n",
    "creat.head(1000)"
   ]
  },
  {
   "cell_type": "markdown",
   "metadata": {
    "id": "RJnIWOxUaz4n"
   },
   "source": [
    "### Plot creatinine values using default pandas histogram function"
   ]
  },
  {
   "cell_type": "code",
   "execution_count": null,
   "metadata": {
    "id": "cZu-1pwvZbH0"
   },
   "outputs": [],
   "source": [
    "creat['value'].hist()"
   ]
  },
  {
   "cell_type": "markdown",
   "metadata": {
    "id": "T-amWUw7Z2I3"
   },
   "source": [
    "### Plot creatinine values using outlier aware histogram from AmsterdamUMCdb library"
   ]
  },
  {
   "cell_type": "code",
   "execution_count": null,
   "metadata": {
    "id": "Im3ZsL0qaPEo"
   },
   "outputs": [],
   "source": [
    "adb.outliers_histogram(data=creat['value']).show()"
   ]
  },
  {
   "cell_type": "code",
   "execution_count": null,
   "metadata": {
    "id": "I0kbmAGobQ28"
   },
   "outputs": [],
   "source": [
    "adb.outliers_histogram(data=creat['value'], z_threshold=16).show()"
   ]
  },
  {
   "cell_type": "code",
   "execution_count": null,
   "metadata": {
    "id": "MOJe8eSkb8IG"
   },
   "outputs": [],
   "source": [
    "creat[creat['value'] > 500].sort_values('value', ascending=False)"
   ]
  },
  {
   "cell_type": "code",
   "execution_count": null,
   "metadata": {},
   "outputs": [],
   "source": [
    "creat_patient = pd.read_gbq(\n",
    "    '''\n",
    "    SELECT \n",
    "        admissionid\n",
    "        , itemid\n",
    "        , value\n",
    "        , unitid\n",
    "        , measuredat\n",
    "        , FORMAT('day %d: %02d:%02d'\n",
    "            , CAST(measuredat/(1000*60*60*24) AS INT) --days\n",
    "            , CAST(MOD(measuredat, (1000*60*60*24))/(1000*60*60) AS INT) --hours\n",
    "            , CAST(MOD(measuredat, (1000*60*60))/(1000*60) AS INT) --minutes\n",
    "        ) AS days_hours_minutes\n",
    "        , registeredby\n",
    "    FROM numericitems_validated\n",
    "    WHERE itemid IN (\n",
    "        6836  --Kreatinine\n",
    "        , 9941  --Kreatinine (bloed)\n",
    "        , 14216  --KREAT enzym. (bloed)\n",
    "    )\n",
    "        AND admissionid = 1583\n",
    "    ORDER BY measuredat\n",
    "    '''\n",
    "    , configuration=config_gbq)\n",
    "creat_patient"
   ]
  },
  {
   "cell_type": "markdown",
   "metadata": {
    "id": "t8psY-fWcgk-"
   },
   "source": [
    "This table demonstrates that the highest value is most likely a data entry error: it was manually documented, instead of filed by the system (Dutch: 'Systeem')"
   ]
  },
  {
   "cell_type": "markdown",
   "metadata": {},
   "source": [
    "## Example: Acute kidney injury: urine output\n",
    "Urine output reflects kidney function as well, and can also be found in the `numericitems` table. Urine output is manually entered by nurses every 1-2 hours after enptying the urine collection bag.\n",
    "\n",
    "**Note:** Since all manually entered values are by definition 'validated' both the `numericitems` and the `numericitems_validated` tables contain the same  records for this item."
   ]
  },
  {
   "cell_type": "markdown",
   "metadata": {},
   "source": [
    "### Get itemids related to urine output.\n",
    "The category can be helpful when searching for the correct itemid."
   ]
  },
  {
   "cell_type": "code",
   "execution_count": null,
   "metadata": {},
   "outputs": [],
   "source": [
    "dictionary[dictionary['item'].str.contains(r'urine', regex=True, case=False)]"
   ]
  },
  {
   "cell_type": "markdown",
   "metadata": {},
   "source": [
    "### Get urine output measurements for all patients"
   ]
  },
  {
   "cell_type": "code",
   "execution_count": null,
   "metadata": {},
   "outputs": [],
   "source": [
    "urine_output = pd.read_gbq(\n",
    "    '''\n",
    "    SELECT \n",
    "        admissionid\n",
    "        , itemid\n",
    "        , value\n",
    "        , unitid\n",
    "        , measuredat\n",
    "        , registeredby\n",
    "    FROM numericitems_validated\n",
    "    WHERE itemid IN (\n",
    "        8794  --UrineCAD\n",
    "        , 8796  --UrineSupraPubis\n",
    "        , 8798 --UrineSpontaan\n",
    "        , 8800 --UrineIncontinentie\n",
    "        , 8803 --UrineUP\n",
    "        , 10743 --Nefrodrain li Uit\n",
    "        , 10745 --Nefrodrain re Uit\n",
    "        , 19921 --UrineSplint Li\n",
    "        , 19922 --UrineSplint Re\n",
    "    )\n",
    "    '''\n",
    "    , configuration=config_gbq)\n",
    "urine_output.head(1000)"
   ]
  },
  {
   "cell_type": "markdown",
   "metadata": {},
   "source": [
    "### Large DataFrames\n",
    "While the Google `data_table` package is helpful, it will not allow you to 'browse' the full pandas DataFrame directly if the nummer of rows exceeds 20,000. "
   ]
  },
  {
   "cell_type": "code",
   "execution_count": null,
   "metadata": {},
   "outputs": [],
   "source": [
    "urine_output"
   ]
  },
  {
   "cell_type": "code",
   "execution_count": null,
   "metadata": {},
   "outputs": [],
   "source": [
    "adb.outliers_histogram(data=urine_output['value']).show()"
   ]
  },
  {
   "cell_type": "markdown",
   "metadata": {},
   "source": [
    "## Example: Steroids\n",
    "Steroids, or more specifically [corticosteroids](https://www.whocc.no/atc_ddd_index/?code=H02AB&showdescription=yes), are commonly prescribed drugs in the ICU. All medication administration can be found in the `drugitems` table. Please thoroughly read the documentation, since interpretation of medication administration records is prone to errors. In addition it recommended to keep most columns available for data analysis/exploration, with the exception of columns that contain redundant data (e.g. human readable names). More information on `drugitems`: [![Open In Colab](https://colab.research.google.com/assets/colab-badge.svg)](https://colab.research.google.com/github/AmsterdamUMC/AmsterdamUMCdb/blob/master/tables/drugitems.ipynb)"
   ]
  },
  {
   "cell_type": "code",
   "execution_count": null,
   "metadata": {
    "id": "qhmVlTOX2zNo"
   },
   "outputs": [],
   "source": [
    "steroids = pd.read_gbq(\n",
    "    '''\n",
    "    SELECT \n",
    "        admissionid\n",
    "        --, orderid\n",
    "        --, ordercategoryid\n",
    "        --, ordercategory\n",
    "        , itemid\n",
    "        --, item\n",
    "        , isadditive\n",
    "        , isconditional\n",
    "        , rate\n",
    "        , rateunit\n",
    "        --, rateunitid\n",
    "        --, ratetimeunitid\n",
    "        , doserateperkg\n",
    "        , dose\n",
    "        , doseunit\n",
    "        , doserateunit\n",
    "        --, doseunitid\n",
    "        --, doserateunitid\n",
    "        , administered\n",
    "        , administeredunit\n",
    "        --, administeredunitid\n",
    "        , action\n",
    "        , start\n",
    "        , stop\n",
    "        , duration\n",
    "        --, solutionitemid\n",
    "        --, solutionitem\n",
    "        --, solutionadministered\n",
    "        --, solutionadministeredunit\n",
    "        , fluidin\n",
    "        , iscontinuous\n",
    "    FROM drugitems\n",
    "    WHERE itemid IN (\n",
    "        --intravenous\n",
    "        7106\t--Hydrocortison (Solu Cortef)\n",
    "        , 6995\t--Dexamethason\n",
    "        , 6922\t--Prednisolon (Prednison)\n",
    "        , 6922\t--Prednisolon (Prednison)\n",
    "        , 8132\t--Methylprednisolon (Solu-Medrol)\t\n",
    "\n",
    "        --non intravenous\n",
    "        , 6995\t--Dexamethason\n",
    "        , 7106\t--Hydrocortison (Solu Cortef)\n",
    "        , 9130\t--Prednisonum\n",
    "        )\n",
    "    '''\n",
    "    , configuration=config_gbq)\n",
    "steroids.head(1000)"
   ]
  },
  {
   "cell_type": "markdown",
   "metadata": {
    "id": "sNayORNr6aAJ"
   },
   "source": [
    "## Example: Mechanical ventilation: ventilation mode\n",
    "There are different ways (modes) to mechanically ventilate patients. Patients that don't have any underlying breathing effort will be ventilated in a 'control' mode. When patients recover (and sedative medication will be stopped or reduced) they will be ventilated in a 'support' mode. Ventilation modes are documented as a categorical (list) value in the `listitems` table. Listitems contains both validated as well as unvalidated device data (`registeredby IS NULL`). \n",
    "\n",
    "More information on `listitems`: [![Open In Colab](https://colab.research.google.com/assets/colab-badge.svg)](https://colab.research.google.com/github/AmsterdamUMC/AmsterdamUMCdb/blob/master/tables/listitems.ipynb)"
   ]
  },
  {
   "cell_type": "markdown",
   "metadata": {},
   "source": [
    "### Get itemids related to ventilation mode\n",
    "For commonly used items, the dictionary contains the official English (LOINC) name in the `item_en` column."
   ]
  },
  {
   "cell_type": "code",
   "execution_count": null,
   "metadata": {},
   "outputs": [],
   "source": [
    "dictionary[dictionary['item_en'].str.contains(r'vent.*mode', regex=True, case=False).fillna(False)]"
   ]
  },
  {
   "cell_type": "code",
   "execution_count": null,
   "metadata": {
    "id": "AsaWD1B44JJC"
   },
   "outputs": [],
   "source": [
    "ventmode = pd.read_gbq(\n",
    "    '''\n",
    "    SELECT\n",
    "        admissionid\n",
    "        , itemid\n",
    "        , item\n",
    "        , valueid\n",
    "        , value\n",
    "        , measuredat\n",
    "        --, registeredat\n",
    "        --, registeredby\n",
    "        --, updatedat\n",
    "        --, updatedby\n",
    "    FROM listitems_validated\n",
    "    WHERE itemid IN (\n",
    "        6685  --Type Beademing Evita 4\n",
    "        , 9534  --Type beademing Evita\n",
    "        , 12290  --Ventilatie Mode (Set) Servo-i ventilator\n",
    "    )\n",
    "    '''\n",
    "    , configuration=config_gbq)\n",
    "ventmode.head(1000)"
   ]
  },
  {
   "cell_type": "markdown",
   "metadata": {},
   "source": [
    "## Example: Mechanical ventilation: tidal volume (measurement or setting)\n",
    "Tidal volume, the amount of air passed into and out of the lungs during one ventilation cycle ('artificial breath'), is an important parameter in mechanical ventilation. Together with `respiratory rate`, tidal volume determines minute ventilation (`minute ventilation` = `tidal volume` * `respiratory rate`). [A landmark trial](https://doi.org/10.1056/NEJM200005043421801) has shown that ventilating patients with 6 ml/kg ideal body weight (IBW) instead of 12 ml/kg IBW leads to better outcomes for patients with [Acute Respiratory Distress Syndrome (ARDS)](https://en.wikipedia.org/wiki/Acute_respiratory_distress_syndrome). Depending on the ventilation mode, the tidal volume may be set or will be determined by other parameters (e.g. pressure)."
   ]
  },
  {
   "cell_type": "markdown",
   "metadata": {},
   "source": [
    "### Get itemids related to tidal volume"
   ]
  },
  {
   "cell_type": "code",
   "execution_count": null,
   "metadata": {},
   "outputs": [],
   "source": [
    "dictionary[dictionary['item'].str.contains(r'teug|tidal', regex=True, case=False)]"
   ]
  },
  {
   "cell_type": "markdown",
   "metadata": {},
   "source": [
    "### Get **validated** tidal volume values for all patients\n",
    "\n",
    "**Note**: The `use_bqstorage_api=True` statement enables the Google Cloud BigQuery Storage API that improves the performance of copying data from BiqQuery to pandas DataFrames in the Colab environment (~around 16 times). However, currently there is no free tier, meaning every query will incur charges towards your free credits or actual account balance if you enable a paid account after the Google Cloud trial."
   ]
  },
  {
   "cell_type": "code",
   "execution_count": null,
   "metadata": {},
   "outputs": [],
   "source": [
    "tidal_volume = pd.read_gbq(\n",
    "    '''\n",
    "    SELECT\n",
    "        admissionid\n",
    "        , itemid\n",
    "        , value\n",
    "        , measuredat\n",
    "        --, registeredat\n",
    "        , registeredby\n",
    "        --, updatedat\n",
    "        --, updatedby\n",
    "        --, islabresult\n",
    "    FROM numericitems_validated --only validated values\n",
    "    WHERE itemid IN (\n",
    "        8851  --Tidal Volume (Set)\n",
    "        , 9646  --Tidal Volume (set)(2)\n",
    "        , 12275  --Exp. tidal volume\n",
    "        , 12277  --Insp. tidal volume\n",
    "        , 12291\t--Teugvolume (Set)\n",
    "        , 12358 --Exp. tidal volume (2)\n",
    "        , 12360  --Insp. tidal volume (2)\n",
    "    )\n",
    "    '''\n",
    "    , configuration=config_gbq, use_bqstorage_api=True)\n",
    "tidal_volume"
   ]
  },
  {
   "cell_type": "code",
   "execution_count": null,
   "metadata": {},
   "outputs": [],
   "source": [
    "adb.outliers_histogram(data=tidal_volume['value']).show()"
   ]
  },
  {
   "cell_type": "markdown",
   "metadata": {},
   "source": [
    "### Get **validated** and **unvalidated** tidal volume values for all patients"
   ]
  },
  {
   "cell_type": "code",
   "execution_count": null,
   "metadata": {},
   "outputs": [],
   "source": [
    "tidal_volume_all = pd.read_gbq(\n",
    "    '''\n",
    "    SELECT\n",
    "        admissionid\n",
    "        , itemid\n",
    "        , value\n",
    "        , measuredat\n",
    "        --, registeredat\n",
    "        , registeredby\n",
    "        --, updatedat\n",
    "        --, updatedby\n",
    "        --, islabresult\n",
    "    FROM numericitems --all values\n",
    "    WHERE itemid IN (\n",
    "        8851  --Tidal Volume (Set)\n",
    "        , 9646  --Tidal Volume (set)(2)\n",
    "        , 12275  --Exp. tidal volume\n",
    "        , 12277  --Insp. tidal volume\n",
    "        , 12291\t--Teugvolume (Set)\n",
    "        , 12358 --Exp. tidal volume (2)\n",
    "        , 12360  --Insp. tidal volume (2)\n",
    "    )\n",
    "    '''\n",
    "    , configuration=config_gbq, use_bqstorage_api=True)\n",
    "tidal_volume_all"
   ]
  },
  {
   "cell_type": "code",
   "execution_count": null,
   "metadata": {},
   "outputs": [],
   "source": [
    "adb.outliers_histogram(data=tidal_volume_all['value']).show()"
   ]
  },
  {
   "cell_type": "markdown",
   "metadata": {
    "id": "WpaXmtD0dJWe"
   },
   "source": [
    "## Conclusion\n",
    "This finalizes our tutorial on accessing AmsterdamUMCdb using BigQuery. \n",
    "\n",
    "### What's next?\n",
    "- Have a look at the AmsterdamUMCdb [wiki](https://github.com/AmsterdamUMC/AmsterdamUMCdb/wiki).\n",
    "- Check more in depth examples for all tables, including those not mentioned in this tutorial:\n",
    "\n",
    "Table | Wiki | Example code\n",
    ":- | :--| -:\n",
    "admissions|https://github.com/AmsterdamUMC/AmsterdamUMCdb/wiki/admissions | [![Open In Colab](https://colab.research.google.com/assets/colab-badge.svg)](https://colab.research.google.com/github/AmsterdamUMC/AmsterdamUMCdb/blob/master/tables/admissions.ipynb) \n",
    "drugitems|https://github.com/AmsterdamUMC/AmsterdamUMCdb/wiki/drugitems|[![Open In Colab](https://colab.research.google.com/assets/colab-badge.svg)](https://colab.research.google.com/github/AmsterdamUMC/AmsterdamUMCdb/blob/master/tables/drugitems.ipynb) \n",
    "freetextitems|https://github.com/AmsterdamUMC/AmsterdamUMCdb/wiki/freetextitems|[![Open In Colab](https://colab.research.google.com/assets/colab-badge.svg)](https://colab.research.google.com/github/AmsterdamUMC/AmsterdamUMCdb/blob/master/tables/freetextitems.ipynb)\n",
    "listitems|https://github.com/AmsterdamUMC/AmsterdamUMCdb/wiki/lisitems|[![Open In Colab](https://colab.research.google.com/assets/colab-badge.svg)](https://colab.research.google.com/github/AmsterdamUMC/AmsterdamUMCdb/blob/master/tables/listitems.ipynb)\n",
    "numericitems|https://github.com/AmsterdamUMC/AmsterdamUMCdb/wiki/numericitems|[![Open In Colab](https://colab.research.google.com/assets/colab-badge.svg)](https://colab.research.google.com/github/AmsterdamUMC/AmsterdamUMCdb/blob/master/tables/numericitems.ipynb)\n",
    "procedureorderitems|https://github.com/AmsterdamUMC/AmsterdamUMCdb/wiki/procedureorderitems|[![Open In Colab](https://colab.research.google.com/assets/colab-badge.svg)](https://colab.research.google.com/github/AmsterdamUMC/AmsterdamUMCdb/blob/master/tables/procedureorderitems.ipynb)\n",
    "processitems|https://github.com/AmsterdamUMC/AmsterdamUMCdb/wiki/processitems|[![Open In Colab](https://colab.research.google.com/assets/colab-badge.svg)](https://colab.research.google.com/github/AmsterdamUMC/AmsterdamUMCdb/blob/master/tables/processitems.ipynb)\n",
    "\n",
    "- Examine the [concepts](https://github.com/AmsterdamUMC/AmsterdamUMCdb/tree/master/concepts) for definitions related to diagnoses, life support systems, including mechincal ventilation and renal replacement therapy, and ICU scoring systems.\n",
    "- Start a discussion with your Team members on how to approach the challenge.\n"
   ]
  }
 ],
 "metadata": {
  "colab": {
   "collapsed_sections": [],
   "name": "getting_started.ipynb",
   "provenance": []
  },
  "kernelspec": {
   "display_name": "Python 3",
   "language": "python",
   "name": "python3"
  },
  "language_info": {
   "codemirror_mode": {
    "name": "ipython",
    "version": 3
   },
   "file_extension": ".py",
   "mimetype": "text/x-python",
   "name": "python",
   "nbconvert_exporter": "python",
   "pygments_lexer": "ipython3",
   "version": "3.8.8"
  }
 },
 "nbformat": 4,
 "nbformat_minor": 2
}
