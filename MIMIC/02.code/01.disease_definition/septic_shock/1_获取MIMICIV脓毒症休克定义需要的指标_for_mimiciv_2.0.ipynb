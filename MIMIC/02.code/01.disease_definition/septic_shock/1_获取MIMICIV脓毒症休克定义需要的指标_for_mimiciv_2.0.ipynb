{
 "cells": [
  {
   "cell_type": "markdown",
   "id": "399d8ed0",
   "metadata": {},
   "source": [
    "# readME"
   ]
  },
  {
   "cell_type": "markdown",
   "id": "dfd82e80",
   "metadata": {},
   "source": [
    "MIMIC_IV sepsis3 defined sepsis shock\n",
    "\n",
    "\n",
    "\n",
    "从postgresql数据库中查询(**数据在fjmu server中**) 定义脓毒症休克 需要的指标 并存在 pickle_mimic_iv_derived_table.pkl 中 \n",
    "\n",
    "\n",
    "Vasopressors 修改为  \n",
    "\n",
    " 221289  --Epinephrine\n",
    ",221653  --Dobutamine\n",
    ",221662  --Dopamine\n",
    ",221749   --Phenylephrine\n",
    ",221906   --Norepinephrine\n",
    ",222315   --Vasopressin\n",
    ",227692   --Isuprel\n",
    ",229617   --Epinephrine.\n",
    ",229630   --Phenylephrine (50/250)\n",
    ",229631   --Phenylephrine (200/250)_OLD_1\n",
    ",229632   --Phenylephrine (200/250)\n",
    ",229764   --Angiotensin II (Giapreza)\n",
    ",229709   --Angiotensin II (Giapreza)\n",
    "\n",
    "并存于 **my_medication_vasopressor_v3** 中\n",
    "\n",
    "**my_fluid_colloid_and_crystalloid_all2** 比1 多了   mv.rate is not null\n",
    "\n",
    "包括:\n",
    "- mimiciv_icu: <br>\n",
    "icustays\n",
    "\n",
    "- mimiciv_derived: <br>\n",
    "sepsis3、icustay_detail\n",
    "\n",
    "- user_刘光豪: <br>\n",
    "my_age、my_fluid_colloid_and_crystalloid_all2、my_mbp2、my_icu_intersect_lactate2、my_medication_vasopressor_v3\n",
    "\n",
    "\n"
   ]
  },
  {
   "cell_type": "code",
   "execution_count": 4,
   "id": "0429e68e",
   "metadata": {
    "ExecuteTime": {
     "end_time": "2022-09-19T01:05:42.772797Z",
     "start_time": "2022-09-19T01:05:42.604799Z"
    }
   },
   "outputs": [],
   "source": [
    "import pandas as pd\n",
    "import os\n",
    "import psycopg2\n",
    "import time\n",
    "\n",
    "import nbimporter\n",
    "#import my_save_load\n",
    "os.chdir(r'D:\\my_dir_jupyter\\final_predict_septic_shock')\n",
    "import my_save_load_v2\n"
   ]
  },
  {
   "cell_type": "code",
   "execution_count": 5,
   "id": "2288b7a0",
   "metadata": {
    "ExecuteTime": {
     "end_time": "2022-09-19T01:07:22.000847Z",
     "start_time": "2022-09-19T01:07:21.996844Z"
    },
    "code_folding": []
   },
   "outputs": [],
   "source": [
    "#提取fjmu 中的数据\n",
    "def get_pg_info(sql):\n",
    "    conn = psycopg2.connect(host=\"localhost\", user=\"postgres\", password=\"pgs.123456.\", port=5555, database=\"mimiciv_20\")\n",
    "    cur = conn.cursor()\n",
    "    cur.execute(sql)\n",
    "    colnames = [desc[0] for desc in cur.description]\n",
    "    data = pd.DataFrame(cur.fetchall(), columns=colnames)\n",
    "    conn.close()\n",
    "    return data\n",
    "\n",
    "\n",
    "def get_table(mode, table_name):\n",
    "    sql = 'SELECT * FROM ' + mode + '.' + table_name\n",
    "    table = get_pg_info(sql)\n",
    "    return (table)\n"
   ]
  },
  {
   "cell_type": "markdown",
   "id": "08b2ceb8",
   "metadata": {},
   "source": [
    "# 导入所需表格"
   ]
  },
  {
   "cell_type": "code",
   "execution_count": 9,
   "id": "8ca649f5",
   "metadata": {
    "ExecuteTime": {
     "end_time": "2022-09-19T01:44:37.908583Z",
     "start_time": "2022-09-19T01:43:30.986774Z"
    }
   },
   "outputs": [],
   "source": [
    "\n",
    "###### define  septic shock by using tables below\n",
    "icustays = get_table(mode='mimiciv_icu', table_name='icustays')\n",
    "sepsis3_original = get_table(mode='mimiciv_derived', table_name='sepsis3')\n",
    "icustays_detail = get_table(mode='mimiciv_derived', table_name='icustay_detail')\n",
    "\n",
    "\n",
    "age = get_table(mode='user_刘光豪', table_name='my_age')\n",
    "fluids_bolus = get_table(mode='user_刘光豪', table_name='my_fluid_colloid_and_crystalloid_all2')  # 综合胶体和晶体复苏\n",
    "fluids_bolus = fluids_bolus.loc[:,['stay_id', 'starttime', 'endtime', 'colloid_bolus','patientweight']]\n",
    "\n",
    "shock_define_mbp = get_table(mode='user_刘光豪', table_name='my_mbp2')\n",
    "shock_define_lactate2 = get_table(mode='user_刘光豪', table_name='my_icu_intersect_lactate2')\n",
    "vasoactive_vasopressor = get_table(mode='user_刘光豪', table_name='my_medication_vasopressor_v3')  # v3\n"
   ]
  },
  {
   "cell_type": "markdown",
   "id": "746f4a08",
   "metadata": {},
   "source": [
    "# 去除ICU 住院小于24H的患者和年龄小于18岁的患者 "
   ]
  },
  {
   "cell_type": "code",
   "execution_count": null,
   "id": "d4a72b2f",
   "metadata": {},
   "outputs": [],
   "source": [
    "# 去除ICU 住院小于24H的患者和年龄小于18岁的患者\n",
    "# sepsis3_original = pd.merge(icustays_detail.loc[(icustays_detail.los_icu >= 1) & (icustays_detail.admission_age >=18 ),'stay_id'],sepsis3_original,on='stay_id')\n"
   ]
  },
  {
   "cell_type": "markdown",
   "id": "ef947fcd",
   "metadata": {},
   "source": [
    "# 保存数据"
   ]
  },
  {
   "cell_type": "code",
   "execution_count": 10,
   "id": "e3ce98e5",
   "metadata": {
    "ExecuteTime": {
     "end_time": "2022-09-19T01:46:12.863896Z",
     "start_time": "2022-09-19T01:46:12.481900Z"
    }
   },
   "outputs": [],
   "source": [
    "###### save file\n",
    "path=r'E:\\data_phenotype_for_septic_shock'  #\n",
    "\n",
    "\n",
    "os.chdir(path)\n",
    "\n",
    "# out_list = [ 'age', 'fluids_bolus', 'fluids_colloid_bolus', 'fluids_crystalloid_bolus', 'icustays', 'sepsis3_original','shock_define_lactate2', 'shock_define_mbp',  'vasoactive_vasopressor']\n",
    "out_list = [ 'age', 'fluids_bolus', 'icustays', 'sepsis3_original','shock_define_lactate2', 'shock_define_mbp',\n",
    "            'vasoactive_vasopressor']\n",
    "\n",
    "out_filename = r'pickle_mimic_iv_derived_table_v5.pkl'\n",
    "\n",
    "my_save_load_v2.my_save(out_list, out_filename, globals())\n",
    "\n",
    "\n"
   ]
  },
  {
   "cell_type": "code",
   "execution_count": null,
   "id": "c5c4f9ef",
   "metadata": {},
   "outputs": [],
   "source": []
  },
  {
   "cell_type": "code",
   "execution_count": null,
   "id": "7fbec779",
   "metadata": {},
   "outputs": [],
   "source": []
  },
  {
   "cell_type": "code",
   "execution_count": null,
   "id": "ab42bc54",
   "metadata": {},
   "outputs": [],
   "source": []
  },
  {
   "cell_type": "code",
   "execution_count": null,
   "id": "204213fe",
   "metadata": {},
   "outputs": [],
   "source": []
  }
 ],
 "metadata": {
  "kernelspec": {
   "display_name": "Python 3",
   "language": "python",
   "name": "python3"
  },
  "language_info": {
   "codemirror_mode": {
    "name": "ipython",
    "version": 3
   },
   "file_extension": ".py",
   "mimetype": "text/x-python",
   "name": "python",
   "nbconvert_exporter": "python",
   "pygments_lexer": "ipython3",
   "version": "3.9.5"
  },
  "toc": {
   "base_numbering": 1,
   "nav_menu": {},
   "number_sections": true,
   "sideBar": true,
   "skip_h1_title": false,
   "title_cell": "Table of Contents",
   "title_sidebar": "Contents",
   "toc_cell": false,
   "toc_position": {
    "height": "calc(100% - 180px)",
    "left": "10px",
    "top": "150px",
    "width": "223.115px"
   },
   "toc_section_display": true,
   "toc_window_display": true
  },
  "varInspector": {
   "cols": {
    "lenName": 16,
    "lenType": 16,
    "lenVar": 40
   },
   "kernels_config": {
    "python": {
     "delete_cmd_postfix": "",
     "delete_cmd_prefix": "del ",
     "library": "var_list.py",
     "varRefreshCmd": "print(var_dic_list())"
    },
    "r": {
     "delete_cmd_postfix": ") ",
     "delete_cmd_prefix": "rm(",
     "library": "var_list.r",
     "varRefreshCmd": "cat(var_dic_list()) "
    }
   },
   "types_to_exclude": [
    "module",
    "function",
    "builtin_function_or_method",
    "instance",
    "_Feature"
   ],
   "window_display": false
  }
 },
 "nbformat": 4,
 "nbformat_minor": 5
}
