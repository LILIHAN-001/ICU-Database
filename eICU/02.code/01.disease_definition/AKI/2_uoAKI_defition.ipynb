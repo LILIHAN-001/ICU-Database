{
 "cells": [
  {
   "cell_type": "code",
   "execution_count": 1,
   "id": "909fc6cb",
   "metadata": {
    "ExecuteTime": {
     "end_time": "2023-11-06T12:01:35.562732Z",
     "start_time": "2023-11-06T12:01:34.752625Z"
    }
   },
   "outputs": [],
   "source": [
    "import pandas as pd\n",
    "import numpy as np\n",
    "import re\n",
    "import argparse\n",
    "pd.options.display.max_rows = 200"
   ]
  },
  {
   "attachments": {
    "image.png": {
     "image/png": "[encoded data removed]"
    }
   },
   "cell_type": "markdown",
   "id": "fcccdf40",
   "metadata": {},
   "source": [
    "![image.png](attachment:image.png)"
   ]
  },
  {
   "cell_type": "code",
   "execution_count": 2,
   "id": "83341ac7",
   "metadata": {
    "ExecuteTime": {
     "end_time": "2023-03-28T12:23:38.966029Z",
     "start_time": "2023-03-28T12:23:14.867254Z"
    }
   },
   "outputs": [
    {
     "data": {
      "text/html": [
       "<div>\n",
       "<style scoped>\n",
       "    .dataframe tbody tr th:only-of-type {\n",
       "        vertical-align: middle;\n",
       "    }\n",
       "\n",
       "    .dataframe tbody tr th {\n",
       "        vertical-align: top;\n",
       "    }\n",
       "\n",
       "    .dataframe thead th {\n",
       "        text-align: right;\n",
       "    }\n",
       "</style>\n",
       "<table border=\"1\" class=\"dataframe\">\n",
       "  <thead>\n",
       "    <tr style=\"text-align: right;\">\n",
       "      <th></th>\n",
       "      <th>stay_id</th>\n",
       "      <th>time</th>\n",
       "      <th>urineoutput</th>\n",
       "    </tr>\n",
       "  </thead>\n",
       "  <tbody>\n",
       "    <tr>\n",
       "      <th>0</th>\n",
       "      <td>141168</td>\n",
       "      <td>0</td>\n",
       "      <td>0.0</td>\n",
       "    </tr>\n",
       "    <tr>\n",
       "      <th>1</th>\n",
       "      <td>141168</td>\n",
       "      <td>1</td>\n",
       "      <td>0.0</td>\n",
       "    </tr>\n",
       "  </tbody>\n",
       "</table>\n",
       "</div>"
      ],
      "text/plain": [
       "   stay_id  time  urineoutput\n",
       "0   141168     0          0.0\n",
       "1   141168     1          0.0"
      ]
     },
     "execution_count": 2,
     "metadata": {},
     "output_type": "execute_result"
    }
   ],
   "source": [
    "df_sk= pd.read_csv(\"./raw_eICU_df_UoCrea.csv\")\n",
    "df_sk = df_sk[[\"stay_id\",\"charttime\",\"urineoutput\",'time']]\n",
    "#df_sk = df_sk.dropna(how='all', subset=['urineoutput'])\n",
    "df_sk.loc[(df_sk['urineoutput'] > 2500), 'urineoutput'] /= 10\n",
    "df_sk.loc[(df_sk['urineoutput'] > 4500), 'urineoutput'] = np.nan\n",
    "df_sk.loc[(df_sk['urineoutput'] <= 0), 'urineoutput'] = np.nan\n",
    "df_sk = df_sk[(df_sk[\"time\"]<= 24*10) & (df_sk[\"time\"]>= -24*7)]\n",
    "df_uo = df_sk.groupby([\"stay_id\",\"time\"]).agg({\"urineoutput\":\"sum\"}).reset_index()\n",
    "df_uo = df_uo.sort_values([\"stay_id\",\"time\"])\n",
    "df_uo.head(2)"
   ]
  },
  {
   "cell_type": "code",
   "execution_count": 3,
   "id": "3a461521",
   "metadata": {
    "ExecuteTime": {
     "end_time": "2023-03-28T23:07:18.576150Z",
     "start_time": "2023-03-28T12:23:38.968049Z"
    }
   },
   "outputs": [],
   "source": [
    "# 填补时间为连续的\n",
    "df = df_uo\n",
    "df = df.set_index('time')\n",
    "tmp_df = pd.DataFrame()\n",
    "for i,j in df.groupby([\"stay_id\"]):\n",
    "    j = j.reindex(range(j.index.min(), j.index.max() + 1)).reset_index()\n",
    "    tmp_df = pd.concat([tmp_df,j],axis=0)\n",
    "df_uo_addtime = tmp_df\n",
    "df_uo_addtime[\"stay_id\"] = df_uo_addtime[\"stay_id\"].fillna(method='ffill')\n",
    "df_uo_addtime.to_csv(\"./tmp_uo_addtime.csv\",index=False)"
   ]
  },
  {
   "cell_type": "code",
   "execution_count": 7,
   "id": "eafcb1dd",
   "metadata": {
    "ExecuteTime": {
     "end_time": "2023-03-29T01:35:04.236641Z",
     "start_time": "2023-03-29T01:32:47.483235Z"
    }
   },
   "outputs": [
    {
     "data": {
      "text/html": [
       "<div>\n",
       "<style scoped>\n",
       "    .dataframe tbody tr th:only-of-type {\n",
       "        vertical-align: middle;\n",
       "    }\n",
       "\n",
       "    .dataframe tbody tr th {\n",
       "        vertical-align: top;\n",
       "    }\n",
       "\n",
       "    .dataframe thead th {\n",
       "        text-align: right;\n",
       "    }\n",
       "</style>\n",
       "<table border=\"1\" class=\"dataframe\">\n",
       "  <thead>\n",
       "    <tr style=\"text-align: right;\">\n",
       "      <th></th>\n",
       "      <th>time</th>\n",
       "      <th>stay_id</th>\n",
       "      <th>urineoutput</th>\n",
       "      <th>uo_b6hr</th>\n",
       "      <th>uo_b12hr</th>\n",
       "      <th>uo_b24hr</th>\n",
       "    </tr>\n",
       "  </thead>\n",
       "  <tbody>\n",
       "    <tr>\n",
       "      <th>0</th>\n",
       "      <td>0</td>\n",
       "      <td>141168.0</td>\n",
       "      <td>0.0</td>\n",
       "      <td>0.0</td>\n",
       "      <td>0.0</td>\n",
       "      <td>0.0</td>\n",
       "    </tr>\n",
       "    <tr>\n",
       "      <th>1</th>\n",
       "      <td>1</td>\n",
       "      <td>141168.0</td>\n",
       "      <td>0.0</td>\n",
       "      <td>0.0</td>\n",
       "      <td>0.0</td>\n",
       "      <td>0.0</td>\n",
       "    </tr>\n",
       "  </tbody>\n",
       "</table>\n",
       "</div>"
      ],
      "text/plain": [
       "   time   stay_id  urineoutput  uo_b6hr  uo_b12hr  uo_b24hr\n",
       "0     0  141168.0          0.0      0.0       0.0       0.0\n",
       "1     1  141168.0          0.0      0.0       0.0       0.0"
      ]
     },
     "execution_count": 7,
     "metadata": {},
     "output_type": "execute_result"
    }
   ],
   "source": [
    "## 获取过去6小时，12小时，24小时的尿量 ##\n",
    "df_uo = pd.read_csv(\"./tmp_uo_addtime.csv\")\n",
    "df_uo[\"uo_b6hr\"] = df_uo.groupby('stay_id')[\"urineoutput\"].rolling(window=6,min_periods=1).sum().reset_index(level=0, drop=True)\n",
    "df_uo[\"uo_b12hr\"] = df_uo.groupby('stay_id')[\"urineoutput\"].rolling(window=12,min_periods=1).sum().reset_index(level=0, drop=True)\n",
    "df_uo[\"uo_b24hr\"] = df_uo.groupby('stay_id')[\"urineoutput\"].rolling(window=24,min_periods=1).sum().reset_index(level=0, drop=True)\n",
    "df_uo.to_csv(\"./uo_for_AKI.csv\",index=False)\n",
    "df_uo.head(2)"
   ]
  },
  {
   "cell_type": "code",
   "execution_count": 8,
   "id": "6238961c",
   "metadata": {
    "ExecuteTime": {
     "end_time": "2023-03-29T01:35:23.867274Z",
     "start_time": "2023-03-29T01:35:07.361825Z"
    },
    "run_control": {
     "marked": true
    }
   },
   "outputs": [],
   "source": [
    "## 获取体重 ##\n",
    "df_demo = pd.read_csv(\"/public/hanl/jupyter_dir/database/eicu/clean/eicu_icudetails.csv\")\n",
    "df_demo = df_demo[[\"stay_id\",\"weight\"]]\n",
    "\n",
    "uo = pd.read_csv(\"./uo_for_AKI.csv\")\n",
    "uo = df_uo\n",
    "## 获取尿量速率 ##\n",
    "uo = pd.merge(uo,df_demo,how=\"left\",on=\"stay_id\")\n",
    "uo[\"uo_b6hr_r\"] =  round(uo[\"uo_b6hr\"] / 6/uo[\"weight\"],1)\n",
    "uo[\"uo_b12hr_r\"] =  round(uo[\"uo_b12hr\"] / 12/uo[\"weight\"],1)\n",
    "uo[\"uo_b24hr_r\"] =  round(uo[\"uo_b24hr\"] / 24/uo[\"weight\"],1)\n",
    "\n",
    "## 通过尿量定义AKI ##\n",
    "uo.loc[((uo['time'] > 2) & (uo['uo_b6hr'] > 0) & (uo['uo_b6hr_r']<0.5)), 'aki_stage_uo'] = 1\n",
    "uo.loc[((uo['time'] > 5) & (uo['uo_b12hr'] > 0) & (uo['uo_b12hr_r']<0.5)), 'aki_stage_uo'] = 2\n",
    "uo.loc[((uo['time'] > 5) & (uo['uo_b12hr'] > 0) & (uo['uo_b12hr_r']==0)), 'aki_stage_uo'] = 3\n",
    "uo.loc[((uo['time'] > 11) & (uo['uo_b24hr'] > 0) & (uo['uo_b24hr_r']<0.3)), 'aki_stage_uo'] = 3"
   ]
  },
  {
   "cell_type": "code",
   "execution_count": 9,
   "id": "072bcbcd",
   "metadata": {
    "ExecuteTime": {
     "end_time": "2023-03-29T01:37:21.003861Z",
     "start_time": "2023-03-29T01:35:42.004199Z"
    }
   },
   "outputs": [
    {
     "data": {
      "text/html": [
       "<div>\n",
       "<style scoped>\n",
       "    .dataframe tbody tr th:only-of-type {\n",
       "        vertical-align: middle;\n",
       "    }\n",
       "\n",
       "    .dataframe tbody tr th {\n",
       "        vertical-align: top;\n",
       "    }\n",
       "\n",
       "    .dataframe thead th {\n",
       "        text-align: right;\n",
       "    }\n",
       "</style>\n",
       "<table border=\"1\" class=\"dataframe\">\n",
       "  <thead>\n",
       "    <tr style=\"text-align: right;\">\n",
       "      <th></th>\n",
       "      <th>time</th>\n",
       "      <th>stay_id</th>\n",
       "      <th>urineoutput</th>\n",
       "      <th>uo_b6hr</th>\n",
       "      <th>uo_b12hr</th>\n",
       "      <th>uo_b24hr</th>\n",
       "      <th>weight</th>\n",
       "      <th>uo_b6hr_r</th>\n",
       "      <th>uo_b12hr_r</th>\n",
       "      <th>uo_b24hr_r</th>\n",
       "      <th>aki_stage_uo</th>\n",
       "    </tr>\n",
       "  </thead>\n",
       "  <tbody>\n",
       "    <tr>\n",
       "      <th>0</th>\n",
       "      <td>0</td>\n",
       "      <td>141168.0</td>\n",
       "      <td>0.0</td>\n",
       "      <td>0.0</td>\n",
       "      <td>0.0</td>\n",
       "      <td>0.0</td>\n",
       "      <td>84.3</td>\n",
       "      <td>0.0</td>\n",
       "      <td>0.0</td>\n",
       "      <td>0.0</td>\n",
       "      <td>NaN</td>\n",
       "    </tr>\n",
       "    <tr>\n",
       "      <th>1</th>\n",
       "      <td>1</td>\n",
       "      <td>141168.0</td>\n",
       "      <td>0.0</td>\n",
       "      <td>0.0</td>\n",
       "      <td>0.0</td>\n",
       "      <td>0.0</td>\n",
       "      <td>84.3</td>\n",
       "      <td>0.0</td>\n",
       "      <td>0.0</td>\n",
       "      <td>0.0</td>\n",
       "      <td>NaN</td>\n",
       "    </tr>\n",
       "    <tr>\n",
       "      <th>2</th>\n",
       "      <td>2</td>\n",
       "      <td>141168.0</td>\n",
       "      <td>0.0</td>\n",
       "      <td>0.0</td>\n",
       "      <td>0.0</td>\n",
       "      <td>0.0</td>\n",
       "      <td>84.3</td>\n",
       "      <td>0.0</td>\n",
       "      <td>0.0</td>\n",
       "      <td>0.0</td>\n",
       "      <td>NaN</td>\n",
       "    </tr>\n",
       "    <tr>\n",
       "      <th>3</th>\n",
       "      <td>3</td>\n",
       "      <td>141168.0</td>\n",
       "      <td>0.0</td>\n",
       "      <td>0.0</td>\n",
       "      <td>0.0</td>\n",
       "      <td>0.0</td>\n",
       "      <td>84.3</td>\n",
       "      <td>0.0</td>\n",
       "      <td>0.0</td>\n",
       "      <td>0.0</td>\n",
       "      <td>NaN</td>\n",
       "    </tr>\n",
       "    <tr>\n",
       "      <th>4</th>\n",
       "      <td>4</td>\n",
       "      <td>141168.0</td>\n",
       "      <td>0.0</td>\n",
       "      <td>0.0</td>\n",
       "      <td>0.0</td>\n",
       "      <td>0.0</td>\n",
       "      <td>84.3</td>\n",
       "      <td>0.0</td>\n",
       "      <td>0.0</td>\n",
       "      <td>0.0</td>\n",
       "      <td>NaN</td>\n",
       "    </tr>\n",
       "  </tbody>\n",
       "</table>\n",
       "</div>"
      ],
      "text/plain": [
       "   time   stay_id  urineoutput  uo_b6hr  uo_b12hr  uo_b24hr  weight  \\\n",
       "0     0  141168.0          0.0      0.0       0.0       0.0    84.3   \n",
       "1     1  141168.0          0.0      0.0       0.0       0.0    84.3   \n",
       "2     2  141168.0          0.0      0.0       0.0       0.0    84.3   \n",
       "3     3  141168.0          0.0      0.0       0.0       0.0    84.3   \n",
       "4     4  141168.0          0.0      0.0       0.0       0.0    84.3   \n",
       "\n",
       "   uo_b6hr_r  uo_b12hr_r  uo_b24hr_r  aki_stage_uo  \n",
       "0        0.0         0.0         0.0           NaN  \n",
       "1        0.0         0.0         0.0           NaN  \n",
       "2        0.0         0.0         0.0           NaN  \n",
       "3        0.0         0.0         0.0           NaN  \n",
       "4        0.0         0.0         0.0           NaN  "
      ]
     },
     "execution_count": 9,
     "metadata": {},
     "output_type": "execute_result"
    }
   ],
   "source": [
    "uo.to_csv(\"aki_stage_uo.csv\",index=False)\n",
    "uo.head()"
   ]
  },
  {
   "cell_type": "code",
   "execution_count": null,
   "id": "d1d3c8da",
   "metadata": {},
   "outputs": [],
   "source": []
  },
  {
   "cell_type": "code",
   "execution_count": null,
   "id": "b4ed145b",
   "metadata": {},
   "outputs": [],
   "source": []
  },
  {
   "cell_type": "code",
   "execution_count": null,
   "id": "74fc48fc",
   "metadata": {},
   "outputs": [],
   "source": []
  },
  {
   "cell_type": "code",
   "execution_count": null,
   "id": "66f82628",
   "metadata": {},
   "outputs": [],
   "source": []
  }
 ],
 "metadata": {
  "kernelspec": {
   "display_name": "Python [conda env:sp_shock] *",
   "language": "python",
   "name": "conda-env-sp_shock-py"
  },
  "language_info": {
   "codemirror_mode": {
    "name": "ipython",
    "version": 3
   },
   "file_extension": ".py",
   "mimetype": "text/x-python",
   "name": "python",
   "nbconvert_exporter": "python",
   "pygments_lexer": "ipython3",
   "version": "3.9.5"
  },
  "toc": {
   "base_numbering": 1,
   "nav_menu": {},
   "number_sections": true,
   "sideBar": true,
   "skip_h1_title": false,
   "title_cell": "Table of Contents",
   "title_sidebar": "Contents",
   "toc_cell": false,
   "toc_position": {},
   "toc_section_display": true,
   "toc_window_display": false
  },
  "varInspector": {
   "cols": {
    "lenName": 16,
    "lenType": 16,
    "lenVar": 40
   },
   "kernels_config": {
    "python": {
     "delete_cmd_postfix": "",
     "delete_cmd_prefix": "del ",
     "library": "var_list.py",
     "varRefreshCmd": "print(var_dic_list())"
    },
    "r": {
     "delete_cmd_postfix": ") ",
     "delete_cmd_prefix": "rm(",
     "library": "var_list.r",
     "varRefreshCmd": "cat(var_dic_list()) "
    }
   },
   "types_to_exclude": [
    "module",
    "function",
    "builtin_function_or_method",
    "instance",
    "_Feature"
   ],
   "window_display": false
  }
 },
 "nbformat": 4,
 "nbformat_minor": 5
}
